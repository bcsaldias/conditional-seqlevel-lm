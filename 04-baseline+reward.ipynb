{
 "cells": [
  {
   "cell_type": "code",
   "execution_count": 1,
   "metadata": {},
   "outputs": [],
   "source": [
    "from data_generators import get_iterator, get_dataset\n",
    "from classifiers import theme_classifier\n",
    "import torch\n",
    "import torch.nn as nn\n",
    "from torchtext.vocab import GloVe \n",
    "GLOVE_EMBEDDING = GloVe(name=\"6B\", dim=300)"
   ]
  },
  {
   "cell_type": "code",
   "execution_count": 2,
   "metadata": {},
   "outputs": [],
   "source": [
    "train_dataset, val_dataset, test_dataset, review_text_FIELD, theme_FIELD = get_dataset(vectors = GLOVE_EMBEDDING)"
   ]
  },
  {
   "cell_type": "code",
   "execution_count": 3,
   "metadata": {},
   "outputs": [],
   "source": [
    "batch_size = 100\n",
    "train_iter = get_iterator(train_dataset, batch_size, train=True, shuffle=True, repeat=False)\n",
    "val_iter = get_iterator(val_dataset, batch_size, train=False, shuffle=True, repeat=False)\n",
    "test_iter = get_iterator(test_dataset, batch_size, train=False, shuffle=True, repeat=False)"
   ]
  },
  {
   "cell_type": "code",
   "execution_count": 4,
   "metadata": {},
   "outputs": [],
   "source": [
    "val_list = list(val_iter)"
   ]
  },
  {
   "cell_type": "code",
   "execution_count": 5,
   "metadata": {},
   "outputs": [],
   "source": [
    "from baseline_model import BaseModel, repackage_hidden"
   ]
  },
  {
   "cell_type": "code",
   "execution_count": 6,
   "metadata": {},
   "outputs": [],
   "source": [
    "vocab_size = 12304"
   ]
  },
  {
   "cell_type": "code",
   "execution_count": 7,
   "metadata": {},
   "outputs": [],
   "source": [
    "import numpy as np\n",
    "from torch.autograd import Variable\n",
    "from torch.distributions import Categorical"
   ]
  },
  {
   "cell_type": "code",
   "execution_count": 198,
   "metadata": {},
   "outputs": [],
   "source": [
    "def select_action(policy, state, top_k = 10):\n",
    "    data, labels, hidden = state\n",
    "    \n",
    "    state, hidden = policy(data, labels, hidden)\n",
    "    #state = torch.softmax(state, -1)\n",
    "    \n",
    "    sorted_states, indexes = torch.topk(state, top_k, -1)\n",
    "    sorted_states = torch.softmax(sorted_states, -1)\n",
    "    \n",
    "    c = Categorical(sorted_states)\n",
    "    i_action =  c.sample()\n",
    "    action = i_action.unsqueeze(-1)\n",
    "    action = torch.gather(indexes, 2, action)\n",
    "    action = action.squeeze(-1)\n",
    "    \n",
    "    prob = torch.exp(c.log_prob(i_action).cuda())\n",
    "    \n",
    "    if len(policy.policy_history.shape) != 0:\n",
    "        policy.policy_history = torch.cat([policy.policy_history.cuda(), prob.unsqueeze(0)])\n",
    "        policy.policy_actions = torch.cat([policy.policy_actions.cuda(), action.unsqueeze(0)])\n",
    "    else:\n",
    "        policy.policy_history = prob\n",
    "        policy.policy_actions = action\n",
    "        \n",
    "    return action, prob, hidden"
   ]
  },
  {
   "cell_type": "code",
   "execution_count": 390,
   "metadata": {},
   "outputs": [],
   "source": [
    "def transtaltion2string(raw_translations, target_vocab = review_text_FIELD, max_words=30000):\n",
    "    string_translations = []\n",
    "    for raw_sentence in raw_translations:\n",
    "        string_sentence = []\n",
    "        for i, word_idx in enumerate(raw_sentence):\n",
    "            if i == max_words: break\n",
    "            word = target_vocab.vocab.itos[word_idx]\n",
    "            if word == '<eos>':\n",
    "                break\n",
    "            if word != '<sos>':\n",
    "                string_sentence.append(word)\n",
    "        string_translations.append(string_sentence)\n",
    "    return [' '.join(_) for _ in string_translations]\n",
    "\n",
    "\n",
    "def update_policy(policy, labels, optimizer, verbose=False):\n",
    "\n",
    "    policy_actions = policy.policy_actions.squeeze(1)\n",
    "    predictions = []\n",
    "    for i in range(policy_actions.shape[1]):\n",
    "        predicted_class = theme_classifier(transtaltion2string([policy_actions[:,i]])[0])\n",
    "        idx_class = theme_FIELD.vocab.stoi[predicted_class] - 1 \n",
    "        predictions.append(idx_class)\n",
    "    predictions = torch.tensor(predictions).cuda()\n",
    "\n",
    "    classifier_output = (predictions == labels).float()\n",
    "    if verbose: print('acc', classifier_output.mean().item())\n",
    "    classifier_output[classifier_output==0] = -2\n",
    "    classifier_output[classifier_output==1] = 2\n",
    "\n",
    "    # Calculate loss\n",
    "    loss = torch.mul(policy.policy_history.squeeze(1), \n",
    "                                Variable(classifier_output)).mul(-1)\n",
    "    loss = loss.sum()\n",
    "    \n",
    "    # Update network weights\n",
    "    optimizer.zero_grad()\n",
    "    loss.backward()\n",
    "    optimizer.step()\n",
    "    \n",
    "    #Save and intialize episode history counters\n",
    "    policy.loss_history.append(loss.item())\n",
    "    policy.reward_history.append(np.sum(policy.reward_episode))\n",
    "    policy.policy_history = Variable(torch.Tensor()).cuda()\n",
    "    policy.reward_episode= []"
   ]
  },
  {
   "cell_type": "code",
   "execution_count": 391,
   "metadata": {},
   "outputs": [
    {
     "data": {
      "text/plain": [
       "3"
      ]
     },
     "execution_count": 391,
     "metadata": {},
     "output_type": "execute_result"
    }
   ],
   "source": [
    "EOS_token = review_text_FIELD.vocab.stoi['<eos>']\n",
    "EOS_token"
   ]
  },
  {
   "cell_type": "code",
   "execution_count": 393,
   "metadata": {},
   "outputs": [],
   "source": [
    "def main(episodes, policy, optimizer, source, top_k):\n",
    "    \n",
    "    for episode in range(episodes):\n",
    "        \n",
    "        labels = source.theme.cuda().long() - 1\n",
    "        data = source.review_text.cuda().long()\n",
    "        \n",
    "        hidden = None\n",
    "        action = data[0,:].unsqueeze(0)\n",
    "        for time in range(data.shape[0]): #seq_len!!!\n",
    "            action, prob, hidden = select_action(policy, state=(action, labels, hidden), top_k=top_k)#+time)\n",
    "            \n",
    "            policy.reward_episode.append(prob/episodes)\n",
    "        \n",
    "        update_policy(policy, labels, optimizer, episode % (episodes-1) == 0)\n",
    "        \n",
    "        reward_history = [x.mean().item() for x in policy.reward_history]\n",
    "        \n",
    "        if episode % (episodes-1) == 0:\n",
    "            print('Episode {}\\tLast seq_len: {:5d}\\tAverage reward: {:.2f}'.format(episode, time, \n",
    "                                                                                 np.mean(reward_history)))\n",
    "            \n",
    "    print('\\n\\n')"
   ]
  },
  {
   "cell_type": "code",
   "execution_count": 394,
   "metadata": {},
   "outputs": [],
   "source": [
    "if False:\n",
    "    for i, batch in enumerate(val_list):\n",
    "        labels = batch.theme.cuda().long() - 1\n",
    "        batch = batch.review_text.cuda().long()\n",
    "        if batch.shape[0] > 3:\n",
    "            print(i)\n",
    "            break\n",
    "    ok_val_list = val_list[i:]"
   ]
  },
  {
   "cell_type": "code",
   "execution_count": 395,
   "metadata": {},
   "outputs": [],
   "source": [
    "class ReinforcedModel(nn.Module):\n",
    "\n",
    "    def __init__(self, base_model, gamma):\n",
    "        super().__init__()\n",
    "\n",
    "        self.base_model = base_model.cuda()\n",
    "        self.gamma = gamma\n",
    "\n",
    "        self.policy_history = Variable(torch.Tensor()).cuda()\n",
    "        self.policy_actions = Variable(torch.Tensor()).cuda().long()\n",
    "        self.reward_episode = []\n",
    "        self.reward_history = []\n",
    "        self.loss_history = []\n",
    "\n",
    "    def forward(self, data, labels, hidden):    \n",
    "        x = self.base_model(data, labels, hidden)\n",
    "        return x"
   ]
  },
  {
   "cell_type": "code",
   "execution_count": 396,
   "metadata": {},
   "outputs": [],
   "source": [
    "if True:\n",
    "    with open('./baseline/best_model_base_model_ppl_67.5461793533482.model', 'rb') as file:\n",
    "        model = torch.load(file)\n",
    "        model.eval()\n",
    "    model.train()\n",
    "    policy = ReinforcedModel(model, 0.99).cuda()\n",
    "    \n",
    "    import torch.optim as optim\n",
    "    optimizer = optim.Adadelta(model.parameters(), lr=0.1)"
   ]
  },
  {
   "cell_type": "code",
   "execution_count": 397,
   "metadata": {},
   "outputs": [],
   "source": [
    "from utils_fns import evaluate"
   ]
  },
  {
   "cell_type": "code",
   "execution_count": 398,
   "metadata": {},
   "outputs": [],
   "source": [
    "criterion = nn.CrossEntropyLoss(reduction='mean',\n",
    "                       ignore_index=train_dataset.fields[\"review_text\"].vocab.stoi['<pad>']).cuda()\n",
    "#evaluate(model, ok_val_list, criterion)"
   ]
  },
  {
   "cell_type": "code",
   "execution_count": 399,
   "metadata": {
    "scrolled": true
   },
   "outputs": [
    {
     "name": "stdout",
     "output_type": "stream",
     "text": [
      "acc 0.9899999499320984\n",
      "Episode 0\tLast seq_len:     3\tAverage reward: 0.31\n",
      "acc 1.0\n",
      "Episode 4\tLast seq_len:     3\tAverage reward: 0.33\n",
      "\n",
      "\n",
      "\n",
      "acc 0.8899999856948853\n",
      "Episode 0\tLast seq_len:     3\tAverage reward: 0.33\n",
      "acc 0.9199999570846558\n",
      "Episode 4\tLast seq_len:     3\tAverage reward: 0.36\n",
      "\n",
      "\n",
      "\n",
      "acc 0.9199999570846558\n",
      "Episode 0\tLast seq_len:     3\tAverage reward: 0.37\n",
      "acc 0.9399999976158142\n",
      "Episode 4\tLast seq_len:     3\tAverage reward: 0.41\n",
      "\n",
      "\n",
      "\n",
      "acc 0.8700000047683716\n",
      "Episode 0\tLast seq_len:     3\tAverage reward: 0.42\n",
      "acc 0.8799999952316284\n",
      "Episode 4\tLast seq_len:     3\tAverage reward: 0.46\n",
      "\n",
      "\n",
      "\n",
      "acc 0.8499999642372131\n",
      "Episode 0\tLast seq_len:     3\tAverage reward: 0.47\n",
      "acc 0.8499999642372131\n",
      "Episode 4\tLast seq_len:     3\tAverage reward: 0.51\n",
      "\n",
      "\n",
      "\n",
      "acc 0.8299999833106995\n",
      "Episode 0\tLast seq_len:     3\tAverage reward: 0.51\n",
      "acc 0.8299999833106995\n",
      "Episode 4\tLast seq_len:     3\tAverage reward: 0.54\n",
      "\n",
      "\n",
      "\n",
      "acc 0.8799999952316284\n",
      "Episode 0\tLast seq_len:     3\tAverage reward: 0.55\n",
      "acc 0.8799999952316284\n",
      "Episode 4\tLast seq_len:     3\tAverage reward: 0.57\n",
      "\n",
      "\n",
      "\n",
      "acc 0.8199999928474426\n",
      "Episode 0\tLast seq_len:     3\tAverage reward: 0.57\n",
      "acc 0.8299999833106995\n",
      "Episode 4\tLast seq_len:     3\tAverage reward: 0.59\n",
      "\n",
      "\n",
      "\n",
      "acc 0.8899999856948853\n",
      "Episode 0\tLast seq_len:     3\tAverage reward: 0.59\n",
      "acc 0.8899999856948853\n",
      "Episode 4\tLast seq_len:     3\tAverage reward: 0.61\n",
      "\n",
      "\n",
      "\n"
     ]
    }
   ],
   "source": [
    "episodes = 5\n",
    "for i, batch in enumerate(train_iter):\n",
    "    b = batch.review_text.cuda().long()\n",
    "    if b.shape[0] <= 3: continue\n",
    "    if i == 50: break\n",
    "    main(episodes, policy, optimizer, batch, top_k=5)"
   ]
  },
  {
   "cell_type": "code",
   "execution_count": 400,
   "metadata": {},
   "outputs": [],
   "source": [
    "import matplotlib.pyplot as plt\n",
    "import pandas as pd\n",
    "%matplotlib inline"
   ]
  },
  {
   "cell_type": "code",
   "execution_count": 403,
   "metadata": {},
   "outputs": [
    {
     "data": {
      "image/png": "[encoded data removed]",
      "text/plain": [
       "<Figure size 648x648 with 2 Axes>"
      ]
     },
     "metadata": {},
     "output_type": "display_data"
    }
   ],
   "source": [
    "window = 20#int(episodes/20)\n",
    "\n",
    "fig, ((ax1), (ax2)) = plt.subplots(2, 1, sharey=True, figsize=[9,9]);\n",
    "\n",
    "reward_history = [x.mean() for x in policy.reward_history]\n",
    "\n",
    "rolling_mean = pd.Series(reward_history).rolling(window).mean()\n",
    "std = pd.Series(reward_history).rolling(window).std()\n",
    "ax1.plot(rolling_mean)\n",
    "ax1.fill_between(range(len(reward_history)),rolling_mean-std, rolling_mean+std, color='orange', alpha=0.2)\n",
    "ax1.set_title('Classifier performance ({}-episode window)'.format(window))\n",
    "ax1.set_xlabel('Episode'); ax1.set_ylabel('Episode performance')\n",
    "\n",
    "ax2.plot(reward_history)\n",
    "ax2.set_title('Classifier performance')\n",
    "ax2.set_xlabel('Episode'); ax2.set_ylabel('Episode performance')\n",
    "\n",
    "fig.tight_layout(pad=2)\n",
    "plt.show()\n",
    "#fig.savefig('results.png')\n",
    "\n"
   ]
  },
  {
   "cell_type": "code",
   "execution_count": null,
   "metadata": {},
   "outputs": [],
   "source": []
  },
  {
   "cell_type": "code",
   "execution_count": null,
   "metadata": {},
   "outputs": [],
   "source": []
  },
  {
   "cell_type": "code",
   "execution_count": null,
   "metadata": {},
   "outputs": [],
   "source": []
  }
 ],
 "metadata": {
  "kernelspec": {
   "display_name": "Python 3",
   "language": "python",
   "name": "python3"
  },
  "language_info": {
   "codemirror_mode": {
    "name": "ipython",
    "version": 3
   },
   "file_extension": ".py",
   "mimetype": "text/x-python",
   "name": "python",
   "nbconvert_exporter": "python",
   "pygments_lexer": "ipython3",
   "version": "3.6.5"
  }
 },
 "nbformat": 4,
 "nbformat_minor": 2
}

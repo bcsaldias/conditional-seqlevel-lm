{
 "cells": [
  {
   "cell_type": "code",
   "execution_count": 1,
   "metadata": {},
   "outputs": [],
   "source": [
    "from data_generators import get_iterator, get_dataset\n",
    "from classifiers import theme_classifier\n",
    "import torch\n",
    "import torch.nn as nn\n",
    "from torchtext.vocab import GloVe \n",
    "GLOVE_EMBEDDING = GloVe(name=\"6B\", dim=300)"
   ]
  },
  {
   "cell_type": "code",
   "execution_count": 2,
   "metadata": {},
   "outputs": [],
   "source": [
    "train_dataset, val_dataset, test_dataset, review_text_FIELD, theme_FIELD = get_dataset(vectors = GLOVE_EMBEDDING)"
   ]
  },
  {
   "cell_type": "code",
   "execution_count": 3,
   "metadata": {},
   "outputs": [],
   "source": [
    "batch_size = 20\n",
    "train_iter = get_iterator(train_dataset, batch_size, train=True, shuffle=True, repeat=False)\n",
    "val_iter = get_iterator(val_dataset, batch_size, train=False, shuffle=True, repeat=False)\n",
    "test_iter = get_iterator(test_dataset, batch_size, train=False, shuffle=True, repeat=False)"
   ]
  },
  {
   "cell_type": "code",
   "execution_count": 4,
   "metadata": {},
   "outputs": [],
   "source": [
    "test_list = list(test_iter)"
   ]
  },
  {
   "cell_type": "code",
   "execution_count": 5,
   "metadata": {},
   "outputs": [],
   "source": [
    "from baseline_model import BaseModel, repackage_hidden"
   ]
  },
  {
   "cell_type": "code",
   "execution_count": 6,
   "metadata": {},
   "outputs": [],
   "source": [
    "with open('./baseline/best_model_base_model_ppl_67.5461793533482.model', 'rb') as file:\n",
    "    model = torch.load(file)\n",
    "    model.eval()"
   ]
  },
  {
   "cell_type": "code",
   "execution_count": 7,
   "metadata": {},
   "outputs": [],
   "source": [
    "vocab_size = 12304"
   ]
  },
  {
   "cell_type": "code",
   "execution_count": 43,
   "metadata": {},
   "outputs": [],
   "source": [
    "import numpy as np\n",
    "from torch.autograd import Variable\n",
    "from torch.distributions import Categorical"
   ]
  },
  {
   "cell_type": "code",
   "execution_count": 256,
   "metadata": {},
   "outputs": [],
   "source": [
    "def select_action(policy, state):\n",
    "    data, labels, hidden = state\n",
    "    \n",
    "    #state = torch.from_numpy(data).type(torch.FloatTensor)\n",
    "    state, hidden = policy(data, labels, hidden)\n",
    "    state = torch.softmax(state, -1)\n",
    "    #print('state.shape', state.shape)\n",
    "    c = Categorical(state)\n",
    "    action = c.sample()\n",
    "    #print('action.shape', action.shape)\n",
    "    \n",
    "    prob = c.log_prob(action).cuda()\n",
    "    \n",
    "    if len(policy.policy_history.shape) != 0:\n",
    "        policy.policy_history = torch.cat([policy.policy_history.cuda(), prob.unsqueeze(0)])\n",
    "    else:\n",
    "        policy.policy_history = prob\n",
    "        \n",
    "    return action, prob, hidden"
   ]
  },
  {
   "cell_type": "code",
   "execution_count": 257,
   "metadata": {},
   "outputs": [],
   "source": [
    "def update_policy(policy, optimizer):\n",
    "    R = 0\n",
    "    rewards = []\n",
    "    \n",
    "    # Discount future rewards back to the present using gamma\n",
    "    for r in policy.reward_episode[::-1]:\n",
    "        R = r + policy.gamma * R\n",
    "        rewards.insert(0,R)\n",
    "        \n",
    "    # Scale rewards\n",
    "    # print(len(rewards), rewards[0].shape)\n",
    "    # 4 torch.Size([1, 20])\n",
    "    \n",
    "    #rewards = torch.FloatTensor(rewards)\n",
    "    rewards = torch.cat(rewards)\n",
    "    rewards = (rewards - rewards.mean()) / (rewards.std() + np.finfo(np.float32).eps)\n",
    "    \n",
    "    classifier_output = 1    \n",
    "    rewards = rewards * classifier_output\n",
    "    \n",
    "    # Calculate loss\n",
    "    #print(policy.policy_history.squeeze(1).shape, Variable(rewards).shape)\n",
    "    loss = (torch.sum(torch.mul(policy.policy_history.squeeze(1), Variable(rewards)).mul(-1), -1))\n",
    "    loss = loss.sum()\n",
    "    \n",
    "    # print('loss.shape', loss.shape)\n",
    "    # Update network weights\n",
    "    optimizer.zero_grad()\n",
    "    loss.backward()\n",
    "    optimizer.step()\n",
    "    \n",
    "    #Save and intialize episode history counters\n",
    "    policy.loss_history.append(loss.item())\n",
    "    policy.reward_history.append(np.sum(policy.reward_episode))\n",
    "    policy.policy_history = Variable(torch.Tensor()).cuda()\n",
    "    policy.reward_episode= []"
   ]
  },
  {
   "cell_type": "code",
   "execution_count": 258,
   "metadata": {},
   "outputs": [
    {
     "data": {
      "text/plain": [
       "3"
      ]
     },
     "execution_count": 258,
     "metadata": {},
     "output_type": "execute_result"
    }
   ],
   "source": [
    "EOS_token = review_text_FIELD.vocab.stoi['<eos>']\n",
    "EOS_token"
   ]
  },
  {
   "cell_type": "code",
   "execution_count": 259,
   "metadata": {},
   "outputs": [],
   "source": [
    "def main(episodes, policy, optimizer, gamma, source):\n",
    "    \n",
    "    running_reward = 20\n",
    "    for episode in range(episodes):\n",
    "        \n",
    "        labels = source.theme.cuda().long() - 1\n",
    "        data = source.review_text.cuda().long()\n",
    "        \n",
    "        hidden = None\n",
    "        action = data[0,:].unsqueeze(0)\n",
    "        for time in range(data.shape[0]): #seq_len!!!\n",
    "            action, prob, hidden = select_action(policy, state=(action, labels, hidden))\n",
    "            \n",
    "            policy.reward_episode.append(prob)\n",
    "        \n",
    "        # Used to determine when the environment is solved.\n",
    "        running_reward = (running_reward * gamma) + (time * 0.01)\n",
    "        \n",
    "        update_policy(policy, optimizer)"
   ]
  },
  {
   "cell_type": "code",
   "execution_count": 260,
   "metadata": {},
   "outputs": [],
   "source": [
    "import torch.optim as optim\n",
    "optimizer = optim.Adam(model.parameters(), lr=0.01)"
   ]
  },
  {
   "cell_type": "code",
   "execution_count": 261,
   "metadata": {},
   "outputs": [
    {
     "name": "stdout",
     "output_type": "stream",
     "text": [
      "25\n"
     ]
    }
   ],
   "source": [
    "for i, batch in enumerate(test_list):\n",
    "    labels = batch.theme.cuda().long() - 1\n",
    "    batch = batch.review_text.cuda().long()\n",
    "    if batch.shape[0] > 3:\n",
    "        print(i)\n",
    "        break\n",
    "ok_test_list = test_list[i:]"
   ]
  },
  {
   "cell_type": "code",
   "execution_count": 262,
   "metadata": {},
   "outputs": [],
   "source": [
    "class ReinforcedModel(nn.Module):\n",
    "\n",
    "    def __init__(self, base_model, gamma):\n",
    "        super().__init__()\n",
    "\n",
    "        self.base_model = base_model.cuda()\n",
    "        self.gamma = gamma\n",
    "\n",
    "        self.policy_history = Variable(torch.Tensor()).cuda()\n",
    "        self.reward_episode = []\n",
    "        self.reward_history = []\n",
    "        self.loss_history = []\n",
    "\n",
    "    def forward(self, data, labels, hidden):    \n",
    "        x = self.base_model(data, labels, hidden)\n",
    "        return x"
   ]
  },
  {
   "cell_type": "code",
   "execution_count": 263,
   "metadata": {},
   "outputs": [],
   "source": [
    "policy = ReinforcedModel(model, 0.99).cuda()"
   ]
  },
  {
   "cell_type": "code",
   "execution_count": 264,
   "metadata": {},
   "outputs": [
    {
     "data": {
      "text/plain": [
       "torch.Size([4, 20])"
      ]
     },
     "execution_count": 264,
     "metadata": {},
     "output_type": "execute_result"
    }
   ],
   "source": [
    "ok_test_list[0].review_text.shape"
   ]
  },
  {
   "cell_type": "code",
   "execution_count": 280,
   "metadata": {},
   "outputs": [],
   "source": [
    "episodes = 6\n",
    "main(episodes, policy, optimizer, 0.99, ok_test_list[0])"
   ]
  },
  {
   "cell_type": "code",
   "execution_count": null,
   "metadata": {},
   "outputs": [],
   "source": []
  },
  {
   "cell_type": "code",
   "execution_count": null,
   "metadata": {},
   "outputs": [],
   "source": []
  },
  {
   "cell_type": "code",
   "execution_count": 281,
   "metadata": {},
   "outputs": [],
   "source": [
    "import matplotlib.pyplot as plt\n",
    "import pandas as pd\n",
    "%matplotlib inline"
   ]
  },
  {
   "cell_type": "code",
   "execution_count": 293,
   "metadata": {},
   "outputs": [
    {
     "data": {
      "image/png": "[encoded data removed]",
      "text/plain": [
       "<Figure size 648x648 with 2 Axes>"
      ]
     },
     "metadata": {},
     "output_type": "display_data"
    }
   ],
   "source": [
    "window = 3#int(episodes/20)\n",
    "\n",
    "fig, ((ax1), (ax2)) = plt.subplots(2, 1, sharey=True, figsize=[9,9]);\n",
    "\n",
    "reward_history = [x.sum() for x in policy.reward_history]\n",
    "\n",
    "rolling_mean = pd.Series(reward_history).rolling(window).mean()\n",
    "std = pd.Series(reward_history).rolling(window).std()\n",
    "ax1.plot(rolling_mean)\n",
    "ax1.fill_between(range(len(reward_history)),rolling_mean-std, rolling_mean+std, color='orange', alpha=0.2)\n",
    "ax1.set_title('Classifier performance ({}-episode window)'.format(window))\n",
    "ax1.set_xlabel('Episode'); ax1.set_ylabel('Episode performance')\n",
    "\n",
    "ax2.plot(reward_history)\n",
    "ax2.set_title('Classifier performance')\n",
    "ax2.set_xlabel('Episode'); ax2.set_ylabel('Episode performance')\n",
    "\n",
    "fig.tight_layout(pad=2)\n",
    "plt.show()\n",
    "#fig.savefig('results.png')\n",
    "\n"
   ]
  },
  {
   "cell_type": "code",
   "execution_count": null,
   "metadata": {},
   "outputs": [],
   "source": []
  },
  {
   "cell_type": "code",
   "execution_count": null,
   "metadata": {},
   "outputs": [],
   "source": []
  },
  {
   "cell_type": "code",
   "execution_count": null,
   "metadata": {},
   "outputs": [],
   "source": []
  }
 ],
 "metadata": {
  "kernelspec": {
   "display_name": "Python 3",
   "language": "python",
   "name": "python3"
  },
  "language_info": {
   "codemirror_mode": {
    "name": "ipython",
    "version": 3
   },
   "file_extension": ".py",
   "mimetype": "text/x-python",
   "name": "python",
   "nbconvert_exporter": "python",
   "pygments_lexer": "ipython3",
   "version": "3.6.5"
  }
 },
 "nbformat": 4,
 "nbformat_minor": 2
}

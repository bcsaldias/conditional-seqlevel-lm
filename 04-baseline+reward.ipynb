{
 "cells": [
  {
   "cell_type": "code",
   "execution_count": 1,
   "metadata": {},
   "outputs": [],
   "source": [
    "from data_generators import get_iterator, get_dataset\n",
    "from classifiers import theme_classifier\n",
    "import torch\n",
    "import torch.nn as nn\n",
    "from torchtext.vocab import GloVe \n",
    "GLOVE_EMBEDDING = GloVe(name=\"6B\", dim=300)"
   ]
  },
  {
   "cell_type": "code",
   "execution_count": 2,
   "metadata": {},
   "outputs": [],
   "source": [
    "train_dataset, val_dataset, test_dataset, review_text_FIELD, theme_FIELD = get_dataset(vectors = GLOVE_EMBEDDING)"
   ]
  },
  {
   "cell_type": "code",
   "execution_count": 3,
   "metadata": {},
   "outputs": [],
   "source": [
    "batch_size = 100\n",
    "train_iter = get_iterator(train_dataset, batch_size, train=True, shuffle=True, repeat=False)\n",
    "val_iter = get_iterator(val_dataset, batch_size, train=False, shuffle=True, repeat=False)\n",
    "test_iter = get_iterator(test_dataset, batch_size, train=False, shuffle=True, repeat=False)"
   ]
  },
  {
   "cell_type": "code",
   "execution_count": 4,
   "metadata": {},
   "outputs": [],
   "source": [
    "test_list = list(test_iter)"
   ]
  },
  {
   "cell_type": "code",
   "execution_count": 5,
   "metadata": {},
   "outputs": [],
   "source": [
    "from baseline_model import BaseModel, repackage_hidden"
   ]
  },
  {
   "cell_type": "code",
   "execution_count": 6,
   "metadata": {},
   "outputs": [],
   "source": [
    "vocab_size = 12304"
   ]
  },
  {
   "cell_type": "code",
   "execution_count": 7,
   "metadata": {},
   "outputs": [],
   "source": [
    "import numpy as np\n",
    "from torch.autograd import Variable\n",
    "from torch.distributions import Categorical"
   ]
  },
  {
   "cell_type": "code",
   "execution_count": null,
   "metadata": {},
   "outputs": [],
   "source": []
  },
  {
   "cell_type": "code",
   "execution_count": 90,
   "metadata": {},
   "outputs": [],
   "source": [
    "def select_action(policy, state, top_k = 10):\n",
    "    data, labels, hidden = state\n",
    "    \n",
    "    state, hidden = policy(data, labels, hidden)\n",
    "    state = torch.softmax(state, -1)\n",
    "    \n",
    "    sorted_states, indexes = torch.topk(state, top_k, -1)\n",
    "    \n",
    "    c = Categorical(sorted_states)\n",
    "    i_action =  c.sample()\n",
    "    action = i_action.unsqueeze(-1)\n",
    "    action = torch.gather(indexes, 2, action)\n",
    "    action = action.squeeze(-1)\n",
    "    \n",
    "    prob = torch.exp(c.log_prob(i_action).cuda())\n",
    "    \n",
    "    if len(policy.policy_history.shape) != 0:\n",
    "        policy.policy_history = torch.cat([policy.policy_history.cuda(), prob.unsqueeze(0)])\n",
    "        policy.policy_actions = torch.cat([policy.policy_actions.cuda(), action.unsqueeze(0)])\n",
    "    else:\n",
    "        policy.policy_history = prob\n",
    "        policy.policy_actions = action\n",
    "        \n",
    "    return action, prob, hidden"
   ]
  },
  {
   "cell_type": "code",
   "execution_count": 103,
   "metadata": {},
   "outputs": [],
   "source": [
    "def transtaltion2string(raw_translations, target_vocab = review_text_FIELD, max_words=30000):\n",
    "    string_translations = []\n",
    "    for raw_sentence in raw_translations:\n",
    "        string_sentence = []\n",
    "        for i, word_idx in enumerate(raw_sentence):\n",
    "            if i == max_words: break\n",
    "            word = target_vocab.vocab.itos[word_idx]\n",
    "            if word == '<eos>':\n",
    "                break\n",
    "            if word != '<sos>':\n",
    "                string_sentence.append(word)\n",
    "        string_translations.append(string_sentence)\n",
    "    return [' '.join(_) for _ in string_translations]\n",
    "\n",
    "\n",
    "def update_policy(policy, labels, optimizer, verbose=False):\n",
    "\n",
    "    policy_actions = policy.policy_actions.squeeze(1)\n",
    "    predictions = []\n",
    "    for i in range(policy_actions.shape[1]):\n",
    "        predicted_class = theme_classifier(transtaltion2string([policy_actions[:,i]])[0])\n",
    "        idx_class = theme_FIELD.vocab.stoi[predicted_class] - 1 \n",
    "        predictions.append(idx_class)\n",
    "    predictions = torch.tensor(predictions).cuda()\n",
    "\n",
    "    classifier_output = (predictions == labels).float()\n",
    "    if verbose: print('acc', classifier_output.mean().item())\n",
    "    classifier_output[classifier_output==0] = -2\n",
    "    classifier_output[classifier_output==1] = 2\n",
    "\n",
    "    # Calculate loss\n",
    "    policy.policy_history.fill_(1)\n",
    "    loss = (torch.sum(torch.mul(policy.policy_history.squeeze(1), \n",
    "                                Variable(classifier_output)).mul(-1), -1))\n",
    "    loss = loss.sum()\n",
    "    \n",
    "    # Update network weights\n",
    "    optimizer.zero_grad()\n",
    "    loss.backward()\n",
    "    optimizer.step()\n",
    "    \n",
    "    #Save and intialize episode history counters\n",
    "    policy.loss_history.append(loss.item())\n",
    "    policy.reward_history.append(np.sum(policy.reward_episode))\n",
    "    policy.policy_history = Variable(torch.Tensor()).cuda()\n",
    "    policy.reward_episode= []"
   ]
  },
  {
   "cell_type": "code",
   "execution_count": 104,
   "metadata": {},
   "outputs": [
    {
     "data": {
      "text/plain": [
       "3"
      ]
     },
     "execution_count": 104,
     "metadata": {},
     "output_type": "execute_result"
    }
   ],
   "source": [
    "EOS_token = review_text_FIELD.vocab.stoi['<eos>']\n",
    "EOS_token"
   ]
  },
  {
   "cell_type": "code",
   "execution_count": 105,
   "metadata": {},
   "outputs": [
    {
     "data": {
      "text/plain": [
       "'acting'"
      ]
     },
     "execution_count": 105,
     "metadata": {},
     "output_type": "execute_result"
    }
   ],
   "source": [
    "theme_classifier('Shakira is very cool and a great actress - ok no')"
   ]
  },
  {
   "cell_type": "code",
   "execution_count": 106,
   "metadata": {},
   "outputs": [],
   "source": [
    "def main(episodes, policy, optimizer, source, top_k):\n",
    "    \n",
    "    for episode in range(episodes):\n",
    "        \n",
    "        labels = source.theme.cuda().long() - 1\n",
    "        data = source.review_text.cuda().long()\n",
    "        \n",
    "        hidden = None\n",
    "        action = data[0,:].unsqueeze(0)\n",
    "        for time in range(data.shape[0]): #seq_len!!!\n",
    "            action, prob, hidden = select_action(policy, state=(action, labels, hidden), top_k=top_k)#+time)\n",
    "            \n",
    "            policy.reward_episode.append(prob)\n",
    "        \n",
    "        update_policy(policy, labels, optimizer, episode % 20 == 0)\n",
    "        \n",
    "        reward_history = [x.sum().item() for x in policy.reward_history]\n",
    "        \n",
    "        if episode % 20 == 0:\n",
    "            print('Episode {}\\tLast seq_len: {:5d}\\tAverage loss: {:.2f}'.format(episode, time, \n",
    "                                                                                 np.mean(reward_history)))\n",
    "            \n",
    "    print('\\n\\n')"
   ]
  },
  {
   "cell_type": "code",
   "execution_count": 107,
   "metadata": {},
   "outputs": [],
   "source": [
    "if False:\n",
    "    for i, batch in enumerate(test_list):\n",
    "        labels = batch.theme.cuda().long() - 1\n",
    "        batch = batch.review_text.cuda().long()\n",
    "        if batch.shape[0] > 3:\n",
    "            print(i)\n",
    "            break\n",
    "    ok_test_list = test_list[i:]"
   ]
  },
  {
   "cell_type": "code",
   "execution_count": 108,
   "metadata": {},
   "outputs": [],
   "source": [
    "class ReinforcedModel(nn.Module):\n",
    "\n",
    "    def __init__(self, base_model, gamma):\n",
    "        super().__init__()\n",
    "\n",
    "        self.base_model = base_model.cuda()\n",
    "        self.gamma = gamma\n",
    "\n",
    "        self.policy_history = Variable(torch.Tensor()).cuda()\n",
    "        self.policy_actions = Variable(torch.Tensor()).cuda().long()\n",
    "        self.reward_episode = []\n",
    "        self.reward_history = []\n",
    "        self.loss_history = []\n",
    "\n",
    "    def forward(self, data, labels, hidden):    \n",
    "        x = self.base_model(data, labels, hidden)\n",
    "        return x"
   ]
  },
  {
   "cell_type": "code",
   "execution_count": 112,
   "metadata": {},
   "outputs": [],
   "source": [
    "if True:\n",
    "    with open('./baseline/best_model_base_model_ppl_67.5461793533482.model', 'rb') as file:\n",
    "        model = torch.load(file)\n",
    "        model.eval()\n",
    "    model.train()\n",
    "    policy = ReinforcedModel(model, 0.99).cuda()\n",
    "    \n",
    "    import torch.optim as optim\n",
    "    optimizer = optim.Adadelta(model.parameters(), lr=0.1)"
   ]
  },
  {
   "cell_type": "code",
   "execution_count": 113,
   "metadata": {},
   "outputs": [
    {
     "data": {
      "text/plain": [
       "874"
      ]
     },
     "execution_count": 113,
     "metadata": {},
     "output_type": "execute_result"
    }
   ],
   "source": [
    "len(ok_test_list)"
   ]
  },
  {
   "cell_type": "code",
   "execution_count": 114,
   "metadata": {},
   "outputs": [
    {
     "name": "stdout",
     "output_type": "stream",
     "text": [
      "acc 0.9199999570846558\n",
      "Episode 0\tLast seq_len:     5\tAverage loss: 600.00\n",
      "acc 1.0\n",
      "Episode 20\tLast seq_len:     5\tAverage loss: 600.00\n",
      "acc 1.0\n",
      "Episode 40\tLast seq_len:     5\tAverage loss: 600.00\n",
      "\n",
      "\n",
      "\n",
      "acc 0.7299999594688416\n",
      "Episode 0\tLast seq_len:     5\tAverage loss: 600.00\n",
      "acc 0.8299999833106995\n",
      "Episode 20\tLast seq_len:     5\tAverage loss: 600.00\n",
      "acc 0.8199999928474426\n",
      "Episode 40\tLast seq_len:     5\tAverage loss: 600.00\n",
      "\n",
      "\n",
      "\n",
      "acc 0.5999999642372131\n",
      "Episode 0\tLast seq_len:     5\tAverage loss: 600.00\n",
      "acc 0.6599999666213989\n",
      "Episode 20\tLast seq_len:     5\tAverage loss: 600.00\n",
      "acc 0.6699999570846558\n",
      "Episode 40\tLast seq_len:     5\tAverage loss: 600.00\n",
      "\n",
      "\n",
      "\n"
     ]
    }
   ],
   "source": [
    "episodes = 60\n",
    "for batch in ok_test_list[50:53]:\n",
    "    main(episodes, policy, optimizer, batch, top_k=1)"
   ]
  },
  {
   "cell_type": "code",
   "execution_count": null,
   "metadata": {},
   "outputs": [],
   "source": []
  },
  {
   "cell_type": "code",
   "execution_count": null,
   "metadata": {},
   "outputs": [],
   "source": []
  },
  {
   "cell_type": "code",
   "execution_count": 74,
   "metadata": {},
   "outputs": [
    {
     "name": "stdout",
     "output_type": "stream",
     "text": [
      "acc 0.8799999952316284\n",
      "Episode 0\tLast seq_len:     5\tAverage loss: 600.00\n",
      "acc 0.9899999499320984\n",
      "Episode 20\tLast seq_len:     5\tAverage loss: 600.00\n",
      "acc 0.9799999594688416\n",
      "Episode 40\tLast seq_len:     5\tAverage loss: 600.00\n",
      "\n",
      "\n",
      "\n",
      "acc 0.7199999690055847\n",
      "Episode 0\tLast seq_len:     5\tAverage loss: 600.00\n",
      "acc 0.8399999737739563\n",
      "Episode 20\tLast seq_len:     5\tAverage loss: 600.00\n",
      "acc 0.8299999833106995\n",
      "Episode 40\tLast seq_len:     5\tAverage loss: 600.00\n",
      "\n",
      "\n",
      "\n",
      "acc 0.5299999713897705\n",
      "Episode 0\tLast seq_len:     5\tAverage loss: 600.00\n",
      "acc 0.6499999761581421\n",
      "Episode 20\tLast seq_len:     5\tAverage loss: 600.00\n",
      "acc 0.6599999666213989\n",
      "Episode 40\tLast seq_len:     5\tAverage loss: 600.00\n",
      "\n",
      "\n",
      "\n",
      "acc 0.4699999988079071\n",
      "Episode 0\tLast seq_len:     5\tAverage loss: 600.00\n",
      "acc 0.5199999809265137\n",
      "Episode 20\tLast seq_len:     5\tAverage loss: 600.00\n",
      "acc 0.5299999713897705\n",
      "Episode 40\tLast seq_len:     5\tAverage loss: 600.00\n",
      "\n",
      "\n",
      "\n",
      "acc 0.38999998569488525\n",
      "Episode 0\tLast seq_len:     6\tAverage loss: 600.41\n",
      "acc 0.38999998569488525\n",
      "Episode 20\tLast seq_len:     6\tAverage loss: 608.05\n",
      "acc 0.38999998569488525\n",
      "Episode 40\tLast seq_len:     6\tAverage loss: 614.59\n"
     ]
    },
    {
     "ename": "KeyboardInterrupt",
     "evalue": "",
     "output_type": "error",
     "traceback": [
      "\u001b[0;31m---------------------------------------------------------------------------\u001b[0m",
      "\u001b[0;31mKeyboardInterrupt\u001b[0m                         Traceback (most recent call last)",
      "\u001b[0;32m<ipython-input-74-461dc4f7daa2>\u001b[0m in \u001b[0;36m<module>\u001b[0;34m()\u001b[0m\n\u001b[1;32m      1\u001b[0m \u001b[0mepisodes\u001b[0m \u001b[0;34m=\u001b[0m \u001b[0;36m60\u001b[0m\u001b[0;34m\u001b[0m\u001b[0m\n\u001b[1;32m      2\u001b[0m \u001b[0;32mfor\u001b[0m \u001b[0mbatch\u001b[0m \u001b[0;32min\u001b[0m \u001b[0mok_test_list\u001b[0m\u001b[0;34m[\u001b[0m\u001b[0;36m50\u001b[0m\u001b[0;34m:\u001b[0m\u001b[0;36m56\u001b[0m\u001b[0;34m]\u001b[0m\u001b[0;34m:\u001b[0m\u001b[0;34m\u001b[0m\u001b[0m\n\u001b[0;32m----> 3\u001b[0;31m     \u001b[0mmain\u001b[0m\u001b[0;34m(\u001b[0m\u001b[0mepisodes\u001b[0m\u001b[0;34m,\u001b[0m \u001b[0mpolicy\u001b[0m\u001b[0;34m,\u001b[0m \u001b[0moptimizer\u001b[0m\u001b[0;34m,\u001b[0m \u001b[0mbatch\u001b[0m\u001b[0;34m,\u001b[0m \u001b[0mtop_k\u001b[0m\u001b[0;34m=\u001b[0m\u001b[0;36m1\u001b[0m\u001b[0;34m)\u001b[0m\u001b[0;34m\u001b[0m\u001b[0m\n\u001b[0m",
      "\u001b[0;32m<ipython-input-72-7cabc110c7d6>\u001b[0m in \u001b[0;36mmain\u001b[0;34m(episodes, policy, optimizer, source, top_k)\u001b[0m\n\u001b[1;32m     17\u001b[0m         \u001b[0;31m#running_reward = (running_reward * gamma) + (time * 0.01)\u001b[0m\u001b[0;34m\u001b[0m\u001b[0;34m\u001b[0m\u001b[0m\n\u001b[1;32m     18\u001b[0m \u001b[0;34m\u001b[0m\u001b[0m\n\u001b[0;32m---> 19\u001b[0;31m         \u001b[0mupdate_policy\u001b[0m\u001b[0;34m(\u001b[0m\u001b[0mpolicy\u001b[0m\u001b[0;34m,\u001b[0m \u001b[0mlabels\u001b[0m\u001b[0;34m,\u001b[0m \u001b[0moptimizer\u001b[0m\u001b[0;34m,\u001b[0m \u001b[0mepisode\u001b[0m \u001b[0;34m%\u001b[0m \u001b[0;36m20\u001b[0m \u001b[0;34m==\u001b[0m \u001b[0;36m0\u001b[0m\u001b[0;34m)\u001b[0m\u001b[0;34m\u001b[0m\u001b[0m\n\u001b[0m\u001b[1;32m     20\u001b[0m \u001b[0;34m\u001b[0m\u001b[0m\n\u001b[1;32m     21\u001b[0m \u001b[0;34m\u001b[0m\u001b[0m\n",
      "\u001b[0;32m<ipython-input-9-d6de577b1c4b>\u001b[0m in \u001b[0;36mupdate_policy\u001b[0;34m(policy, labels, optimizer, verbose)\u001b[0m\n\u001b[1;32m     30\u001b[0m     \u001b[0mpredictions\u001b[0m \u001b[0;34m=\u001b[0m \u001b[0;34m[\u001b[0m\u001b[0;34m]\u001b[0m\u001b[0;34m\u001b[0m\u001b[0m\n\u001b[1;32m     31\u001b[0m     \u001b[0;32mfor\u001b[0m \u001b[0mi\u001b[0m \u001b[0;32min\u001b[0m \u001b[0mrange\u001b[0m\u001b[0;34m(\u001b[0m\u001b[0mpolicy_actions\u001b[0m\u001b[0;34m.\u001b[0m\u001b[0mshape\u001b[0m\u001b[0;34m[\u001b[0m\u001b[0;36m1\u001b[0m\u001b[0;34m]\u001b[0m\u001b[0;34m)\u001b[0m\u001b[0;34m:\u001b[0m\u001b[0;34m\u001b[0m\u001b[0m\n\u001b[0;32m---> 32\u001b[0;31m         \u001b[0mpredicted_class\u001b[0m \u001b[0;34m=\u001b[0m \u001b[0mtheme_classifier\u001b[0m\u001b[0;34m(\u001b[0m\u001b[0mtranstaltion2string\u001b[0m\u001b[0;34m(\u001b[0m\u001b[0;34m[\u001b[0m\u001b[0mpolicy_actions\u001b[0m\u001b[0;34m[\u001b[0m\u001b[0;34m:\u001b[0m\u001b[0;34m,\u001b[0m\u001b[0mi\u001b[0m\u001b[0;34m]\u001b[0m\u001b[0;34m]\u001b[0m\u001b[0;34m)\u001b[0m\u001b[0;34m[\u001b[0m\u001b[0;36m0\u001b[0m\u001b[0;34m]\u001b[0m\u001b[0;34m)\u001b[0m\u001b[0;34m\u001b[0m\u001b[0m\n\u001b[0m\u001b[1;32m     33\u001b[0m         \u001b[0midx_class\u001b[0m \u001b[0;34m=\u001b[0m \u001b[0mtheme_FIELD\u001b[0m\u001b[0;34m.\u001b[0m\u001b[0mvocab\u001b[0m\u001b[0;34m.\u001b[0m\u001b[0mstoi\u001b[0m\u001b[0;34m[\u001b[0m\u001b[0mpredicted_class\u001b[0m\u001b[0;34m]\u001b[0m \u001b[0;34m-\u001b[0m \u001b[0;36m1\u001b[0m\u001b[0;34m\u001b[0m\u001b[0m\n\u001b[1;32m     34\u001b[0m         \u001b[0mpredictions\u001b[0m\u001b[0;34m.\u001b[0m\u001b[0mappend\u001b[0m\u001b[0;34m(\u001b[0m\u001b[0midx_class\u001b[0m\u001b[0;34m)\u001b[0m\u001b[0;34m\u001b[0m\u001b[0m\n",
      "\u001b[0;32m<ipython-input-9-d6de577b1c4b>\u001b[0m in \u001b[0;36mtranstaltion2string\u001b[0;34m(raw_translations, target_vocab, max_words)\u001b[0m\n\u001b[1;32m      5\u001b[0m         \u001b[0;32mfor\u001b[0m \u001b[0mi\u001b[0m\u001b[0;34m,\u001b[0m \u001b[0mword_idx\u001b[0m \u001b[0;32min\u001b[0m \u001b[0menumerate\u001b[0m\u001b[0;34m(\u001b[0m\u001b[0mraw_sentence\u001b[0m\u001b[0;34m)\u001b[0m\u001b[0;34m:\u001b[0m\u001b[0;34m\u001b[0m\u001b[0m\n\u001b[1;32m      6\u001b[0m             \u001b[0;32mif\u001b[0m \u001b[0mi\u001b[0m \u001b[0;34m==\u001b[0m \u001b[0mmax_words\u001b[0m\u001b[0;34m:\u001b[0m \u001b[0;32mbreak\u001b[0m\u001b[0;34m\u001b[0m\u001b[0m\n\u001b[0;32m----> 7\u001b[0;31m             \u001b[0mword\u001b[0m \u001b[0;34m=\u001b[0m \u001b[0mtarget_vocab\u001b[0m\u001b[0;34m.\u001b[0m\u001b[0mvocab\u001b[0m\u001b[0;34m.\u001b[0m\u001b[0mitos\u001b[0m\u001b[0;34m[\u001b[0m\u001b[0mword_idx\u001b[0m\u001b[0;34m]\u001b[0m\u001b[0;34m\u001b[0m\u001b[0m\n\u001b[0m\u001b[1;32m      8\u001b[0m             \u001b[0;32mif\u001b[0m \u001b[0mword\u001b[0m \u001b[0;34m==\u001b[0m \u001b[0;34m'<eos>'\u001b[0m\u001b[0;34m:\u001b[0m\u001b[0;34m\u001b[0m\u001b[0m\n\u001b[1;32m      9\u001b[0m                 \u001b[0;32mbreak\u001b[0m\u001b[0;34m\u001b[0m\u001b[0m\n",
      "\u001b[0;31mKeyboardInterrupt\u001b[0m: "
     ]
    }
   ],
   "source": [
    "episodes = 60\n",
    "for batch in ok_test_list[50:56]:\n",
    "    main(episodes, policy, optimizer, batch, top_k=1)"
   ]
  },
  {
   "cell_type": "code",
   "execution_count": null,
   "metadata": {},
   "outputs": [],
   "source": []
  },
  {
   "cell_type": "code",
   "execution_count": null,
   "metadata": {},
   "outputs": [],
   "source": []
  },
  {
   "cell_type": "code",
   "execution_count": 194,
   "metadata": {},
   "outputs": [],
   "source": [
    "import matplotlib.pyplot as plt\n",
    "import pandas as pd\n",
    "%matplotlib inline"
   ]
  },
  {
   "cell_type": "code",
   "execution_count": 195,
   "metadata": {},
   "outputs": [
    {
     "data": {
      "image/png": "[encoded data removed]",
      "text/plain": [
       "<Figure size 648x648 with 2 Axes>"
      ]
     },
     "metadata": {},
     "output_type": "display_data"
    }
   ],
   "source": [
    "window = 20#int(episodes/20)\n",
    "\n",
    "fig, ((ax1), (ax2)) = plt.subplots(2, 1, sharey=True, figsize=[9,9]);\n",
    "\n",
    "reward_history = [x.sum() for x in policy.reward_history]\n",
    "\n",
    "rolling_mean = pd.Series(reward_history).rolling(window).mean()\n",
    "std = pd.Series(reward_history).rolling(window).std()\n",
    "ax1.plot(rolling_mean)\n",
    "ax1.fill_between(range(len(reward_history)),rolling_mean-std, rolling_mean+std, color='orange', alpha=0.2)\n",
    "ax1.set_title('Classifier performance ({}-episode window)'.format(window))\n",
    "ax1.set_xlabel('Episode'); ax1.set_ylabel('Episode performance')\n",
    "\n",
    "ax2.plot(reward_history)\n",
    "ax2.set_title('Classifier performance')\n",
    "ax2.set_xlabel('Episode'); ax2.set_ylabel('Episode performance')\n",
    "\n",
    "fig.tight_layout(pad=2)\n",
    "plt.show()\n",
    "#fig.savefig('results.png')\n",
    "\n"
   ]
  },
  {
   "cell_type": "code",
   "execution_count": null,
   "metadata": {},
   "outputs": [],
   "source": []
  },
  {
   "cell_type": "code",
   "execution_count": null,
   "metadata": {},
   "outputs": [],
   "source": []
  },
  {
   "cell_type": "code",
   "execution_count": null,
   "metadata": {},
   "outputs": [],
   "source": []
  }
 ],
 "metadata": {
  "kernelspec": {
   "display_name": "Python 3",
   "language": "python",
   "name": "python3"
  },
  "language_info": {
   "codemirror_mode": {
    "name": "ipython",
    "version": 3
   },
   "file_extension": ".py",
   "mimetype": "text/x-python",
   "name": "python",
   "nbconvert_exporter": "python",
   "pygments_lexer": "ipython3",
   "version": "3.6.5"
  }
 },
 "nbformat": 4,
 "nbformat_minor": 2
}

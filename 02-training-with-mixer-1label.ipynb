{
 "cells": [
  {
   "cell_type": "code",
   "execution_count": 1,
   "metadata": {},
   "outputs": [],
   "source": [
    "# use a baseline trained only with PPL, which has already converged and will be used as our baseline.\n",
    "# they do teacher forcing all the way."
   ]
  },
  {
   "cell_type": "code",
   "execution_count": 2,
   "metadata": {},
   "outputs": [],
   "source": [
    "from data_generators import get_iterator, get_dataset\n",
    "from classifiers import theme_classifier"
   ]
  },
  {
   "cell_type": "code",
   "execution_count": 3,
   "metadata": {},
   "outputs": [],
   "source": [
    "import torch\n",
    "import torch.nn as nn"
   ]
  },
  {
   "cell_type": "code",
   "execution_count": 4,
   "metadata": {},
   "outputs": [],
   "source": [
    "from torchtext.vocab import GloVe \n",
    "GLOVE_EMBEDDING = GloVe(name=\"6B\", dim=300)"
   ]
  },
  {
   "cell_type": "code",
   "execution_count": 5,
   "metadata": {},
   "outputs": [],
   "source": [
    "train_dataset, val_dataset, test_dataset, review_text_FIELD, theme_FIELD = get_dataset(vectors = GLOVE_EMBEDDING)"
   ]
  },
  {
   "cell_type": "code",
   "execution_count": 6,
   "metadata": {},
   "outputs": [],
   "source": [
    "batch_size = 20\n",
    "train_iter = get_iterator(train_dataset, batch_size, train=True, shuffle=True, repeat=False)\n",
    "val_iter = get_iterator(val_dataset, batch_size, train=False, shuffle=True, repeat=False)\n",
    "test_iter = get_iterator(test_dataset, batch_size, train=False, shuffle=True, repeat=False)"
   ]
  },
  {
   "cell_type": "code",
   "execution_count": 7,
   "metadata": {},
   "outputs": [],
   "source": [
    "val_list = list(val_iter)"
   ]
  },
  {
   "cell_type": "code",
   "execution_count": 8,
   "metadata": {},
   "outputs": [
    {
     "name": "stdout",
     "output_type": "stream",
     "text": [
      "<sos> awesome sauce <eos> | other\n",
      "<sos> totally recommend <eos> | other\n",
      "<sos> <unk> . <eos> | other\n",
      "<sos> truly amazing <eos> | other\n",
      "<sos> talky . <eos> | other\n",
      "<sos> must see <eos> | other\n",
      "<sos> 3.5 5 <eos> | other\n",
      "<sos> 5 stars <eos> | other\n",
      "<sos> movie ? <eos> | other\n",
      "<sos> brutal . <eos> | other\n"
     ]
    }
   ],
   "source": [
    "batch = val_list[50]\n",
    "x = batch.review_text.transpose(1, 0).int()[:10]\n",
    "y = batch.theme.int()\n",
    "\n",
    "for idx in range(x.shape[0]):\n",
    "    #print(x.shape, y.shape)\n",
    "    print(\"{} | {}\".format(' '.join([train_dataset.fields['review_text'].vocab.itos[_] for _ in x[idx]]),\n",
    "         train_dataset.fields['theme'].vocab.itos[y[idx]]))"
   ]
  },
  {
   "cell_type": "code",
   "execution_count": 9,
   "metadata": {},
   "outputs": [
    {
     "data": {
      "text/plain": [
       "['<unk>', 'other', 'plot', 'acting', 'effect', 'production']"
      ]
     },
     "execution_count": 9,
     "metadata": {},
     "output_type": "execute_result"
    }
   ],
   "source": [
    "theme_FIELD.vocab.itos"
   ]
  },
  {
   "cell_type": "code",
   "execution_count": 10,
   "metadata": {},
   "outputs": [
    {
     "data": {
      "text/plain": [
       "(12304, 5, 300, torch.Size([12304, 300]))"
      ]
     },
     "execution_count": 10,
     "metadata": {},
     "output_type": "execute_result"
    }
   ],
   "source": [
    "vocab_size = review_text_FIELD.vocab.vectors.shape[0]\n",
    "label_size = len(theme_FIELD.vocab) - 1\n",
    "emb_dim = review_text_FIELD.vocab.vectors.shape[1]\n",
    "vectors = train_dataset.fields[\"review_text\"].vocab.vectors\n",
    "hidden_dim = 1024\n",
    "layers = 2\n",
    "dropout = .5\n",
    "\n",
    "vocab_size, label_size, emb_dim, vectors.shape"
   ]
  },
  {
   "cell_type": "code",
   "execution_count": 11,
   "metadata": {},
   "outputs": [],
   "source": [
    "from baseline_model import BaseModel, repackage_hidden"
   ]
  },
  {
   "cell_type": "code",
   "execution_count": 12,
   "metadata": {},
   "outputs": [],
   "source": [
    "import numpy as np\n",
    "import gc"
   ]
  },
  {
   "cell_type": "code",
   "execution_count": 13,
   "metadata": {},
   "outputs": [
    {
     "data": {
      "text/plain": [
       "3"
      ]
     },
     "execution_count": 13,
     "metadata": {},
     "output_type": "execute_result"
    }
   ],
   "source": [
    "EOS_token = review_text_FIELD.vocab.stoi['<eos>']\n",
    "EOS_token"
   ]
  },
  {
   "cell_type": "code",
   "execution_count": 14,
   "metadata": {},
   "outputs": [],
   "source": [
    "def forward_pass(model, data, labels, i):\n",
    "    \n",
    "    split_tf = data.shape[0] - (i % data.shape[0])\n",
    "    #print(split_tf)\n",
    "    \n",
    "    seq_len = data.shape[0]\n",
    "    data_tf = data[:split_tf+int(i==0),:]\n",
    "    data_nf = data[split_tf:,:]\n",
    "\n",
    "    output_flat = None\n",
    "    hidden = None\n",
    "    \n",
    "    if split_tf > 0:\n",
    "\n",
    "        data = data_tf\n",
    "        output_tf, hidden = model(data, labels, hidden)\n",
    "        repackage_hidden(hidden)\n",
    "        output_flat = output_tf.contiguous().view(-1, vocab_size)\n",
    "\n",
    "    if split_tf < seq_len:\n",
    "\n",
    "        data = data_nf\n",
    "        shape = tuple((*data_nf.shape, vocab_size))\n",
    "        output_nf = torch.zeros(shape).cuda()\n",
    "        hidden_i = None\n",
    "        data_i = data[0,:]    \n",
    "\n",
    "        for di in range(data_nf.shape[0]):\n",
    "            params = data_i.unsqueeze(0), labels, hidden_i\n",
    "            output_i, hidden_i = model(*params)\n",
    "            hidden_i = repackage_hidden(hidden_i)\n",
    "            topv, topi = output_i.topk(1)\n",
    "            data_i = topi.squeeze().detach()\n",
    "            output_nf[di,:] = output_i\n",
    "\n",
    "        temp_output_flat = output_nf.contiguous().view(-1, vocab_size)\n",
    "        if output_flat is None:\n",
    "            output_flat = temp_output_flat\n",
    "        else:\n",
    "            output_flat = torch.cat([output_flat, temp_output_flat], 0)\n",
    "            \n",
    "    return output_flat"
   ]
  },
  {
   "cell_type": "code",
   "execution_count": 15,
   "metadata": {},
   "outputs": [],
   "source": [
    "def transtaltion2string(raw_translations, target_vocab = review_text_FIELD, max_words=30000):\n",
    "    string_translations = []\n",
    "    for raw_sentence in raw_translations:\n",
    "        string_sentence = []\n",
    "        for i, word_idx in enumerate(raw_sentence):\n",
    "            if i == max_words: break\n",
    "            word = target_vocab.vocab.itos[word_idx]\n",
    "            if word != '<sos>':\n",
    "                string_sentence.append(word)\n",
    "        string_translations.append(string_sentence)\n",
    "    return [' '.join(_) for _ in string_translations]"
   ]
  },
  {
   "cell_type": "code",
   "execution_count": 16,
   "metadata": {},
   "outputs": [],
   "source": [
    "def get_predicted_labels(output_flat, original_shape, ground_truth):\n",
    "    topv, topi = output_flat.topk(1, -1)\n",
    "    topi = topi.view(*original_shape)\n",
    "    \n",
    "    predictions = []\n",
    "    for i in range(topi.shape[1]):\n",
    "        predicted_class = theme_classifier(transtaltion2string([topi[:,i]])[0])\n",
    "        idx_class = theme_FIELD.vocab.stoi[predicted_class] - 1 \n",
    "        predictions.append(idx_class)\n",
    "    predictions = torch.tensor(predictions).cuda()\n",
    "    classifier_output = (predictions == ground_truth).float()\n",
    "    acc_score = classifier_output.mean().item()\n",
    "    return classifier_output"
   ]
  },
  {
   "cell_type": "code",
   "execution_count": 17,
   "metadata": {},
   "outputs": [],
   "source": [
    "def evaluate(model, data_source, criterion, teacher_forcing = False):\n",
    "    model.eval()\n",
    "    total_loss_e = 0\n",
    "    total_number_of_words = 0\n",
    "    \n",
    "    with torch.no_grad():\n",
    "        for i, batch in enumerate(data_source):\n",
    "            labels = batch.theme.cuda().long() - 1\n",
    "            batch = batch.review_text.cuda().long()\n",
    "            \n",
    "            if batch.shape[0] > 3:\n",
    "                data, targets = batch[1:-1,:], batch[2:,:]\n",
    "                target_flat = targets.contiguous().view(-1)\n",
    "                \n",
    "                tf = i if not teacher_forcing else 0\n",
    "                output_flat = forward_pass(model, data, labels, tf)\n",
    "                classifier_output = get_predicted_labels(output_flat, targets.shape, labels)\n",
    "                \n",
    "                batch_loss = criterion(output_flat, target_flat, classifier_output, targets.shape).detach().item()\n",
    "                \n",
    "                number_of_words = data.shape[0] * data.shape[1]\n",
    "                total_loss_e += batch_loss * number_of_words\n",
    "                total_number_of_words += number_of_words\n",
    "            \n",
    "    #print(total_loss_e, total_number_of_words)\n",
    "    return total_loss_e / total_number_of_words"
   ]
  },
  {
   "cell_type": "code",
   "execution_count": 18,
   "metadata": {},
   "outputs": [],
   "source": [
    "def train(model, ep0, epN, train_iter, dev_iter, optimizer, criterion, \n",
    "          max_grad_norm, model_name, best_ppl = float('inf'), teacher_forcing = False):\n",
    "    \n",
    "    best_ppl = best_ppl\n",
    "    \n",
    "    len_train_iter = len(train_iter)\n",
    "    for epoch in range(ep0, epN):\n",
    "        model.train()\n",
    "        total_loss_e = 0\n",
    "        total_number_of_words = 0 \n",
    "        \n",
    "        for i, batch in enumerate(train_iter):\n",
    "\n",
    "            labels = batch.theme.cuda().long() - 1\n",
    "            batch = batch.review_text.cuda().long()\n",
    "            hidden = None\n",
    "            \n",
    "            if batch.shape[0] > 3:\n",
    "                data, targets = batch[1:-1,:], batch[2:,:]\n",
    "                \n",
    "                tf = i if not teacher_forcing else 0\n",
    "                output_flat = forward_pass(model, data, labels, tf)\n",
    "                \n",
    "                target_flat = targets.contiguous().view(-1)\n",
    "                classifier_output = get_predicted_labels(output_flat, targets.shape, labels)\n",
    "                batch_loss = criterion(output_flat, target_flat, classifier_output, targets.shape)\n",
    "                \n",
    "                torch.nn.utils.clip_grad_norm_(model.parameters(), max_grad_norm)\n",
    "                optimizer.zero_grad()\n",
    "                batch_loss.backward()\n",
    "                optimizer.step()\n",
    "\n",
    "                number_of_words = data.shape[0] * data.shape[1]\n",
    "                total_loss_e += batch_loss.detach().item() * number_of_words\n",
    "                total_number_of_words += number_of_words\n",
    "            \n",
    "                \n",
    "                if i % 500 == 0:\n",
    "                    cur_loss = batch_loss.detach().item() \n",
    "                    tr_ppl_print = np.exp(cur_loss)\n",
    "                    print(\"| epoch {:3d} | batch {} / {} | train_loss {} | train_ppl {}\".format(\n",
    "                            epoch, i, len_train_iter, \n",
    "                            np.round(cur_loss, 3), np.round(tr_ppl_print, 3)))\n",
    "\n",
    "                \n",
    "                if i % 4999 == 1: #len_train_iter - 1:\n",
    "                    cur_loss = batch_loss.detach().item()\n",
    "                    tr_ppl_print = np.exp(cur_loss)\n",
    "                    gc.collect()\n",
    "                    val_loss_eval = evaluate(model, dev_iter, criterion_0, teacher_forcing)\n",
    "                    val_ppl_print = np.exp(val_loss_eval)\n",
    "                    \n",
    "                    template = \"| epoch {:3d} | batch {} / {} | train_loss {} | train_ppl {} | val_loss {} | val_ppl {}\"\n",
    "                    print(template.format(\n",
    "                            epoch, i, len_train_iter, \n",
    "                            np.round(cur_loss, 3), np.round(tr_ppl_print, 3), \n",
    "                            np.round(val_loss_eval, 3), np.round(val_ppl_print, 3)))\n",
    "\n",
    "                    if val_ppl_print < best_ppl :\n",
    "                        print('old best ppl {} new best ppl {}'.format(best_ppl, val_ppl_print))\n",
    "                        best_ppl = val_ppl_print\n",
    "                        best_model_name = '{}_{}.model'.format(model_name, best_ppl)\n",
    "                        print('save model...', best_model_name)\n",
    "                        with open(best_model_name, 'wb') as file:\n",
    "                            torch.save(model, file) \n",
    "\n",
    "                    gc.collect()\n",
    "                    model.train()\n",
    "                    \n",
    "                if i == 40000: break"
   ]
  },
  {
   "cell_type": "code",
   "execution_count": 19,
   "metadata": {},
   "outputs": [],
   "source": [
    "with open('./baseline/best_model_base_model_ppl_67.5461793533482.model', 'rb') as file:\n",
    "    model = torch.load(file)\n",
    "    model.eval()"
   ]
  },
  {
   "cell_type": "code",
   "execution_count": 20,
   "metadata": {},
   "outputs": [
    {
     "data": {
      "text/plain": [
       "BaseModel(\n",
       "  (drop): Dropout(p=0.5)\n",
       "  (word_embedding): Embedding(12304, 300)\n",
       "  (label_embedding): Embedding(5, 20)\n",
       "  (rnn): LSTM(320, 1024, num_layers=2, dropout=0.5)\n",
       "  (decoder): Linear(in_features=1024, out_features=12304, bias=True)\n",
       ")"
      ]
     },
     "execution_count": 20,
     "metadata": {},
     "output_type": "execute_result"
    }
   ],
   "source": [
    "model"
   ]
  },
  {
   "cell_type": "code",
   "execution_count": 21,
   "metadata": {},
   "outputs": [],
   "source": [
    "learning_rate = 0.001\n",
    "\n",
    "optimizer = torch.optim.Adadelta(model.parameters(), lr=learning_rate)#, betas=(.9999, .9999))\n",
    "\n",
    "\n",
    "def criterion(predictions, targets, labels, targets_shape):\n",
    "    \"\"\"\n",
    "    labels: [1, 0, 0, 1, ...] 1: hit, 0: miss\n",
    "    \"\"\"\n",
    "    c = nn.CrossEntropyLoss(reduction='none',\n",
    "                           ignore_index=train_dataset.fields[\"review_text\"].vocab.stoi['<pad>']).cuda()\n",
    "    out = c(predictions, targets)\n",
    "    out = (out.view(*targets_shape) * (1 - labels)).mean()\n",
    "    return out\n",
    "\n",
    "def criterion_0(predictions, targets, labels, targets_shape):\n",
    "    c = nn.CrossEntropyLoss(reduction='mean',\n",
    "                           ignore_index=train_dataset.fields[\"review_text\"].vocab.stoi['<pad>']).cuda()\n",
    "    out = c(predictions, targets)\n",
    "    return out\n",
    "\n",
    "def criterion_1(predictions, targets, labels, targets_shape):\n",
    "    c = nn.CrossEntropyLoss(reduction='none',\n",
    "                           ignore_index=train_dataset.fields[\"review_text\"].vocab.stoi['<pad>']).cuda()\n",
    "    out = c(predictions, targets)\n",
    "    out = out.mean()\n",
    "    return out"
   ]
  },
  {
   "cell_type": "code",
   "execution_count": null,
   "metadata": {},
   "outputs": [
    {
     "name": "stdout",
     "output_type": "stream",
     "text": [
      "| epoch   0 | batch 500 / 35138 | train_loss 0.368 | train_ppl 1.445\n",
      "| epoch   0 | batch 1000 / 35138 | train_loss 0.329 | train_ppl 1.39\n",
      "| epoch   0 | batch 1500 / 35138 | train_loss 0.244 | train_ppl 1.277\n",
      "| epoch   0 | batch 2000 / 35138 | train_loss 0.291 | train_ppl 1.338\n",
      "| epoch   0 | batch 2500 / 35138 | train_loss 1.758 | train_ppl 5.801\n",
      "| epoch   0 | batch 3000 / 35138 | train_loss 0.195 | train_ppl 1.216\n",
      "| epoch   0 | batch 3500 / 35138 | train_loss 0.575 | train_ppl 1.778\n",
      "| epoch   0 | batch 4000 / 35138 | train_loss 0.567 | train_ppl 1.763\n",
      "| epoch   0 | batch 4500 / 35138 | train_loss 0.428 | train_ppl 1.534\n",
      "| epoch   0 | batch 5000 / 35138 | train_loss 0.853 | train_ppl 2.348\n",
      "| epoch   0 | batch 5000 / 35138 | train_loss 0.853 | train_ppl 2.348 | val_loss 4.21 | val_ppl 67.384\n",
      "old best ppl inf new best ppl 67.3838731944994\n",
      "save model... no-teacher-forcing/model_ppl_67.3838731944994.model\n",
      "| epoch   0 | batch 5500 / 35138 | train_loss 0.155 | train_ppl 1.167\n",
      "| epoch   0 | batch 6000 / 35138 | train_loss 0.662 | train_ppl 1.939\n",
      "| epoch   0 | batch 6500 / 35138 | train_loss 0.842 | train_ppl 2.321\n",
      "| epoch   0 | batch 7000 / 35138 | train_loss 0.392 | train_ppl 1.48\n",
      "| epoch   0 | batch 7500 / 35138 | train_loss 0.432 | train_ppl 1.541\n",
      "| epoch   0 | batch 8000 / 35138 | train_loss 0.154 | train_ppl 1.166\n",
      "| epoch   0 | batch 8500 / 35138 | train_loss 0.813 | train_ppl 2.255\n",
      "| epoch   0 | batch 9000 / 35138 | train_loss 1.272 | train_ppl 3.569\n",
      "| epoch   0 | batch 9500 / 35138 | train_loss 0.794 | train_ppl 2.213\n",
      "| epoch   0 | batch 9999 / 35138 | train_loss 0.628 | train_ppl 1.873 | val_loss 4.208 | val_ppl 67.2\n",
      "old best ppl 67.3838731944994 new best ppl 67.20011358678667\n",
      "save model... no-teacher-forcing/model_ppl_67.20011358678667.model\n",
      "| epoch   0 | batch 10000 / 35138 | train_loss 0.854 | train_ppl 2.348\n",
      "| epoch   0 | batch 10500 / 35138 | train_loss 0.798 | train_ppl 2.221\n",
      "| epoch   0 | batch 11000 / 35138 | train_loss 0.756 | train_ppl 2.131\n",
      "| epoch   0 | batch 11500 / 35138 | train_loss 0.66 | train_ppl 1.935\n",
      "| epoch   0 | batch 12000 / 35138 | train_loss 0.472 | train_ppl 1.603\n",
      "| epoch   0 | batch 12500 / 35138 | train_loss 0.952 | train_ppl 2.592\n",
      "| epoch   0 | batch 13000 / 35138 | train_loss 0.203 | train_ppl 1.225\n",
      "| epoch   0 | batch 13500 / 35138 | train_loss 0.649 | train_ppl 1.913\n",
      "| epoch   0 | batch 14000 / 35138 | train_loss 0.954 | train_ppl 2.597\n",
      "| epoch   0 | batch 14500 / 35138 | train_loss 1.316 | train_ppl 3.727\n",
      "| epoch   0 | batch 14998 / 35138 | train_loss 0.27 | train_ppl 1.31 | val_loss 4.205 | val_ppl 67.047\n",
      "old best ppl 67.20011358678667 new best ppl 67.04742204100407\n",
      "save model... no-teacher-forcing/model_ppl_67.04742204100407.model\n",
      "| epoch   0 | batch 15000 / 35138 | train_loss 0.641 | train_ppl 1.898\n",
      "| epoch   0 | batch 15500 / 35138 | train_loss 0.969 | train_ppl 2.635\n",
      "| epoch   0 | batch 16000 / 35138 | train_loss 0.0 | train_ppl 1.0\n",
      "| epoch   0 | batch 16500 / 35138 | train_loss 0.627 | train_ppl 1.872\n",
      "| epoch   0 | batch 17000 / 35138 | train_loss 0.57 | train_ppl 1.768\n",
      "| epoch   0 | batch 17500 / 35138 | train_loss 0.435 | train_ppl 1.545\n",
      "| epoch   0 | batch 18000 / 35138 | train_loss 0.782 | train_ppl 2.186\n",
      "| epoch   0 | batch 18500 / 35138 | train_loss 0.914 | train_ppl 2.495\n",
      "| epoch   0 | batch 19000 / 35138 | train_loss 0.376 | train_ppl 1.456\n",
      "| epoch   0 | batch 19500 / 35138 | train_loss 0.636 | train_ppl 1.889\n",
      "| epoch   0 | batch 19997 / 35138 | train_loss 0.476 | train_ppl 1.61 | val_loss 4.204 | val_ppl 66.93\n",
      "old best ppl 67.04742204100407 new best ppl 66.92996897297103\n",
      "save model... no-teacher-forcing/model_ppl_66.92996897297103.model\n",
      "| epoch   0 | batch 20000 / 35138 | train_loss 0.439 | train_ppl 1.551\n",
      "| epoch   0 | batch 20500 / 35138 | train_loss 1.25 | train_ppl 3.492\n",
      "| epoch   0 | batch 21000 / 35138 | train_loss 0.539 | train_ppl 1.715\n",
      "| epoch   0 | batch 21500 / 35138 | train_loss 0.953 | train_ppl 2.594\n",
      "| epoch   0 | batch 22000 / 35138 | train_loss 0.47 | train_ppl 1.599\n"
     ]
    }
   ],
   "source": [
    "train(model,\n",
    "      ep0 = 0,\n",
    "      epN = 1,\n",
    "      train_iter = train_iter,\n",
    "      dev_iter = val_iter,\n",
    "      optimizer = optimizer,\n",
    "      criterion = criterion,\n",
    "      max_grad_norm = 10,\n",
    "      model_name = 'no-teacher-forcing/model_ppl',\n",
    "      best_ppl = float('inf'), \n",
    "      teacher_forcing = True)"
   ]
  },
  {
   "cell_type": "code",
   "execution_count": null,
   "metadata": {},
   "outputs": [],
   "source": []
  },
  {
   "cell_type": "code",
   "execution_count": null,
   "metadata": {},
   "outputs": [],
   "source": []
  },
  {
   "cell_type": "code",
   "execution_count": null,
   "metadata": {},
   "outputs": [],
   "source": []
  },
  {
   "cell_type": "code",
   "execution_count": null,
   "metadata": {},
   "outputs": [],
   "source": []
  },
  {
   "cell_type": "code",
   "execution_count": null,
   "metadata": {},
   "outputs": [],
   "source": []
  },
  {
   "cell_type": "code",
   "execution_count": null,
   "metadata": {},
   "outputs": [],
   "source": []
  },
  {
   "cell_type": "markdown",
   "metadata": {},
   "source": [
    "## "
   ]
  },
  {
   "cell_type": "code",
   "execution_count": null,
   "metadata": {},
   "outputs": [],
   "source": []
  },
  {
   "cell_type": "code",
   "execution_count": null,
   "metadata": {},
   "outputs": [],
   "source": [
    "2+2"
   ]
  },
  {
   "cell_type": "code",
   "execution_count": null,
   "metadata": {},
   "outputs": [],
   "source": []
  },
  {
   "cell_type": "code",
   "execution_count": 61,
   "metadata": {},
   "outputs": [],
   "source": [
    "with open('./no-teacher-forcing/adam.optimizer', 'wb') as file:\n",
    "    torch.save(optimizer.state_dict(), file)"
   ]
  },
  {
   "cell_type": "code",
   "execution_count": 74,
   "metadata": {},
   "outputs": [],
   "source": [
    "from baseline_model import BaseModel, repackage_hidden\n",
    "with open('./no-teacher-forcing/model_ppl_1.6758322557913912.model', 'rb') as file:\n",
    "    model = torch.load(file)\n",
    "    model.eval()"
   ]
  },
  {
   "cell_type": "code",
   "execution_count": 75,
   "metadata": {},
   "outputs": [
    {
     "data": {
      "text/plain": [
       "6.150165933867591"
      ]
     },
     "execution_count": 75,
     "metadata": {},
     "output_type": "execute_result"
    }
   ],
   "source": [
    "def criterion(predictions, targets, labels, targets_shape):\n",
    "    \"\"\"\n",
    "    labels: [1, 0, 0, 1, ...] 1: hit, 0: miss\n",
    "    \"\"\"\n",
    "    c = nn.CrossEntropyLoss(reduction='none',\n",
    "                           ignore_index=train_dataset.fields[\"review_text\"].vocab.stoi['<pad>']).cuda()\n",
    "    out = c(predictions, targets).mean()\n",
    "    return out\n",
    "evaluate(model, test_iter, criterion)"
   ]
  },
  {
   "cell_type": "code",
   "execution_count": 77,
   "metadata": {},
   "outputs": [
    {
     "data": {
      "text/plain": [
       "468.717386782417"
      ]
     },
     "execution_count": 77,
     "metadata": {},
     "output_type": "execute_result"
    }
   ],
   "source": [
    "np.exp(6.15)"
   ]
  },
  {
   "cell_type": "code",
   "execution_count": 78,
   "metadata": {},
   "outputs": [
    {
     "data": {
      "text/plain": [
       "6.168267680616764"
      ]
     },
     "execution_count": 78,
     "metadata": {},
     "output_type": "execute_result"
    }
   ],
   "source": [
    "evaluate(model, test_iter, criterion_0)"
   ]
  },
  {
   "cell_type": "code",
   "execution_count": null,
   "metadata": {},
   "outputs": [],
   "source": []
  }
 ],
 "metadata": {
  "kernelspec": {
   "display_name": "Python 3",
   "language": "python",
   "name": "python3"
  },
  "language_info": {
   "codemirror_mode": {
    "name": "ipython",
    "version": 3
   },
   "file_extension": ".py",
   "mimetype": "text/x-python",
   "name": "python",
   "nbconvert_exporter": "python",
   "pygments_lexer": "ipython3",
   "version": "3.6.5"
  }
 },
 "nbformat": 4,
 "nbformat_minor": 2
}

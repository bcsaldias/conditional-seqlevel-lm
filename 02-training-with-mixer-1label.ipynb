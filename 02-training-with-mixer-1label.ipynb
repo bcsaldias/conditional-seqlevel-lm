{
 "cells": [
  {
   "cell_type": "code",
   "execution_count": 1,
   "metadata": {},
   "outputs": [],
   "source": [
    "# use a baseline trained only with PPL, which has already converged and will be used as our baseline.\n",
    "# they do teacher forcing all the way."
   ]
  },
  {
   "cell_type": "code",
   "execution_count": 2,
   "metadata": {},
   "outputs": [],
   "source": [
    "from data_generators import get_iterator, get_dataset\n",
    "from classifiers import theme_classifier"
   ]
  },
  {
   "cell_type": "code",
   "execution_count": 3,
   "metadata": {},
   "outputs": [],
   "source": [
    "import torch\n",
    "import torch.nn as nn"
   ]
  },
  {
   "cell_type": "code",
   "execution_count": 4,
   "metadata": {},
   "outputs": [],
   "source": [
    "from torchtext.vocab import GloVe \n",
    "GLOVE_EMBEDDING = GloVe(name=\"6B\", dim=300)"
   ]
  },
  {
   "cell_type": "code",
   "execution_count": 5,
   "metadata": {},
   "outputs": [],
   "source": [
    "train_dataset, val_dataset, test_dataset, review_text_FIELD, theme_FIELD = get_dataset(vectors = GLOVE_EMBEDDING)"
   ]
  },
  {
   "cell_type": "code",
   "execution_count": 6,
   "metadata": {},
   "outputs": [],
   "source": [
    "batch_size = 20\n",
    "train_iter = get_iterator(train_dataset, batch_size, train=True, shuffle=True, repeat=False)\n",
    "val_iter = get_iterator(val_dataset, batch_size, train=False, shuffle=True, repeat=False)\n",
    "test_iter = get_iterator(test_dataset, batch_size, train=False, shuffle=True, repeat=False)"
   ]
  },
  {
   "cell_type": "code",
   "execution_count": 7,
   "metadata": {},
   "outputs": [],
   "source": [
    "val_list = list(val_iter)"
   ]
  },
  {
   "cell_type": "code",
   "execution_count": 8,
   "metadata": {},
   "outputs": [
    {
     "name": "stdout",
     "output_type": "stream",
     "text": [
      "<sos> awesome sauce <eos> | other\n",
      "<sos> totally recommend <eos> | other\n",
      "<sos> <unk> . <eos> | other\n",
      "<sos> truly amazing <eos> | other\n",
      "<sos> talky . <eos> | other\n",
      "<sos> must see <eos> | other\n",
      "<sos> 3.5 5 <eos> | other\n",
      "<sos> 5 stars <eos> | other\n",
      "<sos> movie ? <eos> | other\n",
      "<sos> brutal . <eos> | other\n"
     ]
    }
   ],
   "source": [
    "batch = val_list[50]\n",
    "x = batch.review_text.transpose(1, 0).int()[:10]\n",
    "y = batch.theme.int()\n",
    "\n",
    "for idx in range(x.shape[0]):\n",
    "    #print(x.shape, y.shape)\n",
    "    print(\"{} | {}\".format(' '.join([train_dataset.fields['review_text'].vocab.itos[_] for _ in x[idx]]),\n",
    "         train_dataset.fields['theme'].vocab.itos[y[idx]]))"
   ]
  },
  {
   "cell_type": "code",
   "execution_count": 9,
   "metadata": {},
   "outputs": [
    {
     "data": {
      "text/plain": [
       "['<unk>', 'other', 'plot', 'acting', 'effect', 'production']"
      ]
     },
     "execution_count": 9,
     "metadata": {},
     "output_type": "execute_result"
    }
   ],
   "source": [
    "theme_FIELD.vocab.itos"
   ]
  },
  {
   "cell_type": "code",
   "execution_count": 10,
   "metadata": {},
   "outputs": [
    {
     "data": {
      "text/plain": [
       "(12304, 5, 300, torch.Size([12304, 300]))"
      ]
     },
     "execution_count": 10,
     "metadata": {},
     "output_type": "execute_result"
    }
   ],
   "source": [
    "vocab_size = review_text_FIELD.vocab.vectors.shape[0]\n",
    "label_size = len(theme_FIELD.vocab) - 1\n",
    "emb_dim = review_text_FIELD.vocab.vectors.shape[1]\n",
    "vectors = train_dataset.fields[\"review_text\"].vocab.vectors\n",
    "hidden_dim = 1024\n",
    "layers = 2\n",
    "dropout = .5\n",
    "\n",
    "vocab_size, label_size, emb_dim, vectors.shape"
   ]
  },
  {
   "cell_type": "code",
   "execution_count": 11,
   "metadata": {},
   "outputs": [],
   "source": [
    "from baseline_model import BaseModel, repackage_hidden"
   ]
  },
  {
   "cell_type": "code",
   "execution_count": 12,
   "metadata": {},
   "outputs": [],
   "source": [
    "import numpy as np\n",
    "import gc"
   ]
  },
  {
   "cell_type": "code",
   "execution_count": 13,
   "metadata": {},
   "outputs": [
    {
     "data": {
      "text/plain": [
       "3"
      ]
     },
     "execution_count": 13,
     "metadata": {},
     "output_type": "execute_result"
    }
   ],
   "source": [
    "EOS_token = review_text_FIELD.vocab.stoi['<eos>']\n",
    "EOS_token"
   ]
  },
  {
   "cell_type": "code",
   "execution_count": 14,
   "metadata": {},
   "outputs": [],
   "source": [
    "def forward_pass(model, data, labels, i):\n",
    "    \n",
    "    split_tf = data.shape[0] - (i % data.shape[0])\n",
    "    #print(split_tf)\n",
    "    \n",
    "    seq_len = data.shape[0]\n",
    "    data_tf = data[:split_tf+int(i==0),:]\n",
    "    data_nf = data[split_tf:,:]\n",
    "\n",
    "    output_flat = None\n",
    "    hidden = None\n",
    "    \n",
    "    if split_tf > 0:\n",
    "\n",
    "        data = data_tf\n",
    "        output_tf, hidden = model(data, labels, hidden)\n",
    "        repackage_hidden(hidden)\n",
    "        output_flat = output_tf.contiguous().view(-1, vocab_size)\n",
    "\n",
    "    if split_tf < seq_len:\n",
    "\n",
    "        data = data_nf\n",
    "        shape = tuple((*data_nf.shape, vocab_size))\n",
    "        output_nf = torch.zeros(shape).cuda()\n",
    "        hidden_i = None\n",
    "        data_i = data[0,:]    \n",
    "\n",
    "        for di in range(data_nf.shape[0]):\n",
    "            params = data_i.unsqueeze(0), labels, hidden_i\n",
    "            output_i, hidden_i = model(*params)\n",
    "            hidden_i = repackage_hidden(hidden_i)\n",
    "            topv, topi = output_i.topk(1)\n",
    "            data_i = topi.squeeze().detach()\n",
    "            output_nf[di,:] = output_i\n",
    "\n",
    "        temp_output_flat = output_nf.contiguous().view(-1, vocab_size)\n",
    "        if output_flat is None:\n",
    "            output_flat = temp_output_flat\n",
    "        else:\n",
    "            output_flat = torch.cat([output_flat, temp_output_flat], 0)\n",
    "            \n",
    "    return output_flat"
   ]
  },
  {
   "cell_type": "code",
   "execution_count": 15,
   "metadata": {},
   "outputs": [],
   "source": [
    "def transtaltion2string(raw_translations, target_vocab = review_text_FIELD, max_words=30000):\n",
    "    string_translations = []\n",
    "    for raw_sentence in raw_translations:\n",
    "        string_sentence = []\n",
    "        for i, word_idx in enumerate(raw_sentence):\n",
    "            if i == max_words: break\n",
    "            word = target_vocab.vocab.itos[word_idx]\n",
    "            if word != '<sos>':\n",
    "                string_sentence.append(word)\n",
    "        string_translations.append(string_sentence)\n",
    "    return [' '.join(_) for _ in string_translations]"
   ]
  },
  {
   "cell_type": "code",
   "execution_count": 16,
   "metadata": {},
   "outputs": [],
   "source": [
    "def get_predicted_labels(output_flat, original_shape, ground_truth):\n",
    "    topv, topi = output_flat.topk(1, -1)\n",
    "    topi = topi.view(*original_shape)\n",
    "    \n",
    "    predictions = []\n",
    "    for i in range(topi.shape[1]):\n",
    "        predicted_class = theme_classifier(transtaltion2string([topi[:,i]])[0])\n",
    "        idx_class = theme_FIELD.vocab.stoi[predicted_class] - 1 \n",
    "        predictions.append(idx_class)\n",
    "    predictions = torch.tensor(predictions).cuda()\n",
    "    classifier_output = (predictions == ground_truth).float()\n",
    "    acc_score = classifier_output.mean().item()\n",
    "    return classifier_output"
   ]
  },
  {
   "cell_type": "code",
   "execution_count": 17,
   "metadata": {},
   "outputs": [],
   "source": [
    "def evaluate(model, data_source, criterion, teacher_forcing = False):\n",
    "    model.eval()\n",
    "    total_loss_e = 0\n",
    "    total_number_of_words = 0\n",
    "    \n",
    "    with torch.no_grad():\n",
    "        for i, batch in enumerate(data_source):\n",
    "            labels = batch.theme.cuda().long() - 1\n",
    "            batch = batch.review_text.cuda().long()\n",
    "            \n",
    "            if batch.shape[0] > 3:\n",
    "                data, targets = batch[1:-1,:], batch[2:,:]\n",
    "                target_flat = targets.contiguous().view(-1)\n",
    "                \n",
    "                tf = i if not teacher_forcing else 0\n",
    "                output_flat = forward_pass(model, data, labels, tf)\n",
    "                classifier_output = get_predicted_labels(output_flat, targets.shape, labels)\n",
    "                \n",
    "                batch_loss = criterion(output_flat, target_flat, classifier_output, targets.shape).detach().item()\n",
    "                \n",
    "                number_of_words = data.shape[0] * data.shape[1]\n",
    "                total_loss_e += batch_loss * number_of_words\n",
    "                total_number_of_words += number_of_words\n",
    "            \n",
    "    #print(total_loss_e, total_number_of_words)\n",
    "    return total_loss_e / total_number_of_words"
   ]
  },
  {
   "cell_type": "code",
   "execution_count": 18,
   "metadata": {},
   "outputs": [],
   "source": [
    "def train(model, ep0, epN, train_iter, dev_iter, optimizer, criterion, \n",
    "          max_grad_norm, model_name, best_ppl = float('inf'), teacher_forcing = False):\n",
    "    \n",
    "    best_ppl = best_ppl\n",
    "    \n",
    "    len_train_iter = len(train_iter)\n",
    "    for epoch in range(ep0, epN):\n",
    "        model.train()\n",
    "        total_loss_e = 0\n",
    "        total_number_of_words = 0 \n",
    "        \n",
    "        for i, batch in enumerate(train_iter):\n",
    "\n",
    "            labels = batch.theme.cuda().long() - 1\n",
    "            batch = batch.review_text.cuda().long()\n",
    "            hidden = None\n",
    "            \n",
    "            if batch.shape[0] > 3:\n",
    "                data, targets = batch[1:-1,:], batch[2:,:]\n",
    "                \n",
    "                tf = i if not teacher_forcing else 0\n",
    "                output_flat = forward_pass(model, data, labels, tf)\n",
    "                \n",
    "                target_flat = targets.contiguous().view(-1)\n",
    "                classifier_output = get_predicted_labels(output_flat, targets.shape, labels)\n",
    "                batch_loss = criterion(output_flat, target_flat, classifier_output, targets.shape)\n",
    "                \n",
    "                torch.nn.utils.clip_grad_norm_(model.parameters(), max_grad_norm)\n",
    "                optimizer.zero_grad()\n",
    "                batch_loss.backward()\n",
    "                optimizer.step()\n",
    "\n",
    "                number_of_words = data.shape[0] * data.shape[1]\n",
    "                total_loss_e += batch_loss.detach().item() * number_of_words\n",
    "                total_number_of_words += number_of_words\n",
    "            \n",
    "                \n",
    "                if i % 500 == 0:\n",
    "                    cur_loss = batch_loss.detach().item() \n",
    "                    tr_ppl_print = np.exp(cur_loss)\n",
    "                    print(\"| epoch {:3d} | batch {} / {} | train_loss {} | train_ppl {}\".format(\n",
    "                            epoch, i, len_train_iter, \n",
    "                            np.round(cur_loss, 3), np.round(tr_ppl_print, 3)))\n",
    "\n",
    "                \n",
    "                if i % 4999 == 1: #len_train_iter - 1:\n",
    "                    cur_loss = batch_loss.detach().item()\n",
    "                    tr_ppl_print = np.exp(cur_loss)\n",
    "                    gc.collect()\n",
    "                    val_loss_eval = evaluate(model, dev_iter, criterion_0, teacher_forcing)\n",
    "                    val_ppl_print = np.exp(val_loss_eval)\n",
    "                    \n",
    "                    template = \"| epoch {:3d} | batch {} / {} | train_loss {} | train_ppl {} | val_loss {} | val_ppl {}\"\n",
    "                    print(template.format(\n",
    "                            epoch, i, len_train_iter, \n",
    "                            np.round(cur_loss, 3), np.round(tr_ppl_print, 3), \n",
    "                            np.round(val_loss_eval, 3), np.round(val_ppl_print, 3)))\n",
    "\n",
    "                    if val_ppl_print < best_ppl :\n",
    "                        print('old best ppl {} new best ppl {}'.format(best_ppl, val_ppl_print))\n",
    "                        best_ppl = val_ppl_print\n",
    "                        best_model_name = '{}_{}.model'.format(model_name, best_ppl)\n",
    "                        print('save model...', best_model_name)\n",
    "                        with open(best_model_name, 'wb') as file:\n",
    "                            torch.save(model, file) \n",
    "\n",
    "                    gc.collect()\n",
    "                    model.train()\n",
    "                    \n",
    "                if i == 40000: break"
   ]
  },
  {
   "cell_type": "code",
   "execution_count": 23,
   "metadata": {},
   "outputs": [],
   "source": [
    "with open('./no-teacher-forcing/model_ppl_66.738-fin.model', 'rb') as file:\n",
    "    model = torch.load(file)\n",
    "    model.eval()"
   ]
  },
  {
   "cell_type": "code",
   "execution_count": 24,
   "metadata": {},
   "outputs": [
    {
     "data": {
      "text/plain": [
       "BaseModel(\n",
       "  (drop): Dropout(p=0.5)\n",
       "  (word_embedding): Embedding(12304, 300)\n",
       "  (label_embedding): Embedding(5, 20)\n",
       "  (rnn): LSTM(320, 1024, num_layers=2, dropout=0.5)\n",
       "  (decoder): Linear(in_features=1024, out_features=12304, bias=True)\n",
       ")"
      ]
     },
     "execution_count": 24,
     "metadata": {},
     "output_type": "execute_result"
    }
   ],
   "source": [
    "model"
   ]
  },
  {
   "cell_type": "code",
   "execution_count": 25,
   "metadata": {},
   "outputs": [],
   "source": [
    "learning_rate = 0.001\n",
    "\n",
    "optimizer = torch.optim.Adadelta(model.parameters(), lr=learning_rate)#, betas=(.9999, .9999))\n",
    "\n",
    "\n",
    "def criterion(predictions, targets, labels, targets_shape):\n",
    "    \"\"\"\n",
    "    labels: [1, 0, 0, 1, ...] 1: hit, 0: miss\n",
    "    \"\"\"\n",
    "    c = nn.CrossEntropyLoss(reduction='none',\n",
    "                           ignore_index=train_dataset.fields[\"review_text\"].vocab.stoi['<pad>']).cuda()\n",
    "    out = c(predictions, targets)\n",
    "    out = (out.view(*targets_shape) * (1 - labels)).mean()\n",
    "    return out\n",
    "\n",
    "def criterion_0(predictions, targets, labels, targets_shape):\n",
    "    c = nn.CrossEntropyLoss(reduction='mean',\n",
    "                           ignore_index=train_dataset.fields[\"review_text\"].vocab.stoi['<pad>']).cuda()\n",
    "    out = c(predictions, targets)\n",
    "    return out\n",
    "\n",
    "def criterion_1(predictions, targets, labels, targets_shape):\n",
    "    c = nn.CrossEntropyLoss(reduction='none',\n",
    "                           ignore_index=train_dataset.fields[\"review_text\"].vocab.stoi['<pad>']).cuda()\n",
    "    out = c(predictions, targets)\n",
    "    out = out.mean()\n",
    "    return out"
   ]
  },
  {
   "cell_type": "code",
   "execution_count": null,
   "metadata": {},
   "outputs": [],
   "source": []
  },
  {
   "cell_type": "code",
   "execution_count": 26,
   "metadata": {},
   "outputs": [
    {
     "name": "stdout",
     "output_type": "stream",
     "text": [
      "| epoch   1 | batch 500 / 35138 | train_loss 0.095 | train_ppl 1.1\n",
      "| epoch   1 | batch 1000 / 35138 | train_loss 0.295 | train_ppl 1.343\n",
      "| epoch   1 | batch 1500 / 35138 | train_loss 0.847 | train_ppl 2.333\n",
      "| epoch   1 | batch 2000 / 35138 | train_loss 0.088 | train_ppl 1.092\n",
      "| epoch   1 | batch 2500 / 35138 | train_loss 1.147 | train_ppl 3.149\n",
      "| epoch   1 | batch 3000 / 35138 | train_loss 0.199 | train_ppl 1.22\n",
      "| epoch   1 | batch 3500 / 35138 | train_loss 0.602 | train_ppl 1.826\n",
      "| epoch   1 | batch 4000 / 35138 | train_loss 0.73 | train_ppl 2.076\n",
      "| epoch   1 | batch 4500 / 35138 | train_loss 0.474 | train_ppl 1.606\n",
      "| epoch   1 | batch 5000 / 35138 | train_loss 1.201 | train_ppl 3.324\n",
      "| epoch   1 | batch 5000 / 35138 | train_loss 1.201 | train_ppl 3.324 | val_loss 4.199 | val_ppl 66.649\n",
      "old best ppl 66.738 new best ppl 66.64944633878171\n",
      "save model... no-teacher-forcing/model_ppl_66.64944633878171.model\n",
      "| epoch   1 | batch 5500 / 35138 | train_loss 0.192 | train_ppl 1.211\n",
      "| epoch   1 | batch 6000 / 35138 | train_loss 0.614 | train_ppl 1.848\n",
      "| epoch   1 | batch 6500 / 35138 | train_loss 0.95 | train_ppl 2.586\n",
      "| epoch   1 | batch 7000 / 35138 | train_loss 0.0 | train_ppl 1.0\n",
      "| epoch   1 | batch 7500 / 35138 | train_loss 0.679 | train_ppl 1.972\n",
      "| epoch   1 | batch 8000 / 35138 | train_loss 0.167 | train_ppl 1.181\n",
      "| epoch   1 | batch 8500 / 35138 | train_loss 0.508 | train_ppl 1.663\n",
      "| epoch   1 | batch 9000 / 35138 | train_loss 0.809 | train_ppl 2.246\n",
      "| epoch   1 | batch 9500 / 35138 | train_loss 1.051 | train_ppl 2.861\n",
      "| epoch   1 | batch 9999 / 35138 | train_loss 0.296 | train_ppl 1.345 | val_loss 4.198 | val_ppl 66.561\n",
      "old best ppl 66.64944633878171 new best ppl 66.56105667691148\n",
      "save model... no-teacher-forcing/model_ppl_66.56105667691148.model\n",
      "| epoch   1 | batch 10000 / 35138 | train_loss 1.235 | train_ppl 3.437\n",
      "| epoch   1 | batch 10500 / 35138 | train_loss 1.256 | train_ppl 3.513\n",
      "| epoch   1 | batch 11000 / 35138 | train_loss 0.594 | train_ppl 1.811\n",
      "| epoch   1 | batch 11500 / 35138 | train_loss 0.856 | train_ppl 2.353\n",
      "| epoch   1 | batch 12000 / 35138 | train_loss 0.149 | train_ppl 1.16\n",
      "| epoch   1 | batch 12500 / 35138 | train_loss 0.593 | train_ppl 1.81\n",
      "| epoch   1 | batch 13000 / 35138 | train_loss 0.209 | train_ppl 1.233\n",
      "| epoch   1 | batch 13500 / 35138 | train_loss 0.864 | train_ppl 2.373\n",
      "| epoch   1 | batch 14000 / 35138 | train_loss 0.714 | train_ppl 2.043\n",
      "| epoch   1 | batch 14500 / 35138 | train_loss 0.671 | train_ppl 1.957\n",
      "| epoch   1 | batch 14998 / 35138 | train_loss 0.438 | train_ppl 1.55 | val_loss 4.197 | val_ppl 66.493\n",
      "old best ppl 66.56105667691148 new best ppl 66.49307886111306\n",
      "save model... no-teacher-forcing/model_ppl_66.49307886111306.model\n",
      "| epoch   1 | batch 15000 / 35138 | train_loss 0.619 | train_ppl 1.858\n",
      "| epoch   1 | batch 15500 / 35138 | train_loss 0.688 | train_ppl 1.99\n",
      "| epoch   1 | batch 16000 / 35138 | train_loss 0.353 | train_ppl 1.424\n",
      "| epoch   1 | batch 16500 / 35138 | train_loss 0.417 | train_ppl 1.517\n",
      "| epoch   1 | batch 17000 / 35138 | train_loss 0.339 | train_ppl 1.404\n",
      "| epoch   1 | batch 17500 / 35138 | train_loss 0.837 | train_ppl 2.309\n",
      "| epoch   1 | batch 18000 / 35138 | train_loss 0.394 | train_ppl 1.483\n",
      "| epoch   1 | batch 18500 / 35138 | train_loss 1.309 | train_ppl 3.703\n",
      "| epoch   1 | batch 19000 / 35138 | train_loss 0.995 | train_ppl 2.704\n",
      "| epoch   1 | batch 19500 / 35138 | train_loss 0.557 | train_ppl 1.745\n",
      "| epoch   1 | batch 19997 / 35138 | train_loss 0.69 | train_ppl 1.993 | val_loss 4.196 | val_ppl 66.442\n",
      "old best ppl 66.49307886111306 new best ppl 66.44229729183108\n",
      "save model... no-teacher-forcing/model_ppl_66.44229729183108.model\n",
      "| epoch   1 | batch 20000 / 35138 | train_loss 0.932 | train_ppl 2.538\n",
      "| epoch   1 | batch 20500 / 35138 | train_loss 0.653 | train_ppl 1.922\n",
      "| epoch   1 | batch 21000 / 35138 | train_loss 0.63 | train_ppl 1.877\n",
      "| epoch   1 | batch 21500 / 35138 | train_loss 0.473 | train_ppl 1.605\n",
      "| epoch   1 | batch 22000 / 35138 | train_loss 0.662 | train_ppl 1.938\n",
      "| epoch   1 | batch 22500 / 35138 | train_loss 0.772 | train_ppl 2.165\n",
      "| epoch   1 | batch 23000 / 35138 | train_loss 0.687 | train_ppl 1.987\n",
      "| epoch   1 | batch 23500 / 35138 | train_loss 2.146 | train_ppl 8.55\n",
      "| epoch   1 | batch 24000 / 35138 | train_loss 0.522 | train_ppl 1.685\n",
      "| epoch   1 | batch 24500 / 35138 | train_loss 0.446 | train_ppl 1.562\n",
      "| epoch   1 | batch 24996 / 35138 | train_loss 0.205 | train_ppl 1.228 | val_loss 4.196 | val_ppl 66.402\n",
      "old best ppl 66.44229729183108 new best ppl 66.40246364648557\n",
      "save model... no-teacher-forcing/model_ppl_66.40246364648557.model\n",
      "| epoch   1 | batch 25000 / 35138 | train_loss 1.644 | train_ppl 5.177\n",
      "| epoch   1 | batch 25500 / 35138 | train_loss 0.49 | train_ppl 1.633\n",
      "| epoch   1 | batch 26000 / 35138 | train_loss 0.658 | train_ppl 1.931\n",
      "| epoch   1 | batch 26500 / 35138 | train_loss 0.157 | train_ppl 1.17\n",
      "| epoch   1 | batch 27000 / 35138 | train_loss 0.491 | train_ppl 1.633\n",
      "| epoch   1 | batch 27500 / 35138 | train_loss 0.478 | train_ppl 1.612\n",
      "| epoch   1 | batch 28000 / 35138 | train_loss 1.065 | train_ppl 2.902\n",
      "| epoch   1 | batch 28500 / 35138 | train_loss 0.458 | train_ppl 1.581\n",
      "| epoch   1 | batch 29000 / 35138 | train_loss 0.0 | train_ppl 1.0\n",
      "| epoch   1 | batch 29500 / 35138 | train_loss 0.0 | train_ppl 1.0\n",
      "| epoch   1 | batch 29995 / 35138 | train_loss 0.395 | train_ppl 1.485 | val_loss 4.195 | val_ppl 66.368\n",
      "old best ppl 66.40246364648557 new best ppl 66.3681613626547\n",
      "save model... no-teacher-forcing/model_ppl_66.3681613626547.model\n",
      "| epoch   1 | batch 30000 / 35138 | train_loss 0.887 | train_ppl 2.427\n",
      "| epoch   1 | batch 30500 / 35138 | train_loss 0.942 | train_ppl 2.564\n",
      "| epoch   1 | batch 31000 / 35138 | train_loss 0.94 | train_ppl 2.561\n",
      "| epoch   1 | batch 31500 / 35138 | train_loss 0.873 | train_ppl 2.394\n",
      "| epoch   1 | batch 32000 / 35138 | train_loss 0.984 | train_ppl 2.675\n",
      "| epoch   1 | batch 32500 / 35138 | train_loss 0.741 | train_ppl 2.098\n",
      "| epoch   1 | batch 33000 / 35138 | train_loss 0.0 | train_ppl 1.0\n",
      "| epoch   1 | batch 33500 / 35138 | train_loss 0.68 | train_ppl 1.973\n",
      "| epoch   1 | batch 34000 / 35138 | train_loss 0.752 | train_ppl 2.121\n",
      "| epoch   1 | batch 34500 / 35138 | train_loss 0.978 | train_ppl 2.658\n",
      "| epoch   1 | batch 34994 / 35138 | train_loss 0.491 | train_ppl 1.635 | val_loss 4.195 | val_ppl 66.324\n",
      "old best ppl 66.3681613626547 new best ppl 66.32442458289891\n",
      "save model... no-teacher-forcing/model_ppl_66.32442458289891.model\n",
      "| epoch   1 | batch 35000 / 35138 | train_loss 0.253 | train_ppl 1.288\n"
     ]
    }
   ],
   "source": [
    "train(model,\n",
    "      ep0 = 1,\n",
    "      epN = 2,\n",
    "      train_iter = train_iter,\n",
    "      dev_iter = val_iter,\n",
    "      optimizer = optimizer,\n",
    "      criterion = criterion,\n",
    "      max_grad_norm = 10,\n",
    "      model_name = 'no-teacher-forcing/model_ppl',\n",
    "      best_ppl = 66.738, \n",
    "      teacher_forcing = True)"
   ]
  },
  {
   "cell_type": "code",
   "execution_count": null,
   "metadata": {},
   "outputs": [],
   "source": []
  },
  {
   "cell_type": "code",
   "execution_count": null,
   "metadata": {},
   "outputs": [],
   "source": []
  },
  {
   "cell_type": "code",
   "execution_count": null,
   "metadata": {},
   "outputs": [],
   "source": []
  },
  {
   "cell_type": "code",
   "execution_count": null,
   "metadata": {},
   "outputs": [],
   "source": []
  },
  {
   "cell_type": "code",
   "execution_count": 22,
   "metadata": {},
   "outputs": [
    {
     "name": "stdout",
     "output_type": "stream",
     "text": [
      "| epoch   0 | batch 500 / 35138 | train_loss 0.368 | train_ppl 1.445\n",
      "| epoch   0 | batch 1000 / 35138 | train_loss 0.329 | train_ppl 1.39\n",
      "| epoch   0 | batch 1500 / 35138 | train_loss 0.244 | train_ppl 1.277\n",
      "| epoch   0 | batch 2000 / 35138 | train_loss 0.291 | train_ppl 1.338\n",
      "| epoch   0 | batch 2500 / 35138 | train_loss 1.758 | train_ppl 5.801\n",
      "| epoch   0 | batch 3000 / 35138 | train_loss 0.195 | train_ppl 1.216\n",
      "| epoch   0 | batch 3500 / 35138 | train_loss 0.575 | train_ppl 1.778\n",
      "| epoch   0 | batch 4000 / 35138 | train_loss 0.567 | train_ppl 1.763\n",
      "| epoch   0 | batch 4500 / 35138 | train_loss 0.428 | train_ppl 1.534\n",
      "| epoch   0 | batch 5000 / 35138 | train_loss 0.853 | train_ppl 2.348\n",
      "| epoch   0 | batch 5000 / 35138 | train_loss 0.853 | train_ppl 2.348 | val_loss 4.21 | val_ppl 67.384\n",
      "old best ppl inf new best ppl 67.3838731944994\n",
      "save model... no-teacher-forcing/model_ppl_67.3838731944994.model\n",
      "| epoch   0 | batch 5500 / 35138 | train_loss 0.155 | train_ppl 1.167\n",
      "| epoch   0 | batch 6000 / 35138 | train_loss 0.662 | train_ppl 1.939\n",
      "| epoch   0 | batch 6500 / 35138 | train_loss 0.842 | train_ppl 2.321\n",
      "| epoch   0 | batch 7000 / 35138 | train_loss 0.392 | train_ppl 1.48\n",
      "| epoch   0 | batch 7500 / 35138 | train_loss 0.432 | train_ppl 1.541\n",
      "| epoch   0 | batch 8000 / 35138 | train_loss 0.154 | train_ppl 1.166\n",
      "| epoch   0 | batch 8500 / 35138 | train_loss 0.813 | train_ppl 2.255\n",
      "| epoch   0 | batch 9000 / 35138 | train_loss 1.272 | train_ppl 3.569\n",
      "| epoch   0 | batch 9500 / 35138 | train_loss 0.794 | train_ppl 2.213\n",
      "| epoch   0 | batch 9999 / 35138 | train_loss 0.628 | train_ppl 1.873 | val_loss 4.208 | val_ppl 67.2\n",
      "old best ppl 67.3838731944994 new best ppl 67.20011358678667\n",
      "save model... no-teacher-forcing/model_ppl_67.20011358678667.model\n",
      "| epoch   0 | batch 10000 / 35138 | train_loss 0.854 | train_ppl 2.348\n",
      "| epoch   0 | batch 10500 / 35138 | train_loss 0.798 | train_ppl 2.221\n",
      "| epoch   0 | batch 11000 / 35138 | train_loss 0.756 | train_ppl 2.131\n",
      "| epoch   0 | batch 11500 / 35138 | train_loss 0.66 | train_ppl 1.935\n",
      "| epoch   0 | batch 12000 / 35138 | train_loss 0.472 | train_ppl 1.603\n",
      "| epoch   0 | batch 12500 / 35138 | train_loss 0.952 | train_ppl 2.592\n",
      "| epoch   0 | batch 13000 / 35138 | train_loss 0.203 | train_ppl 1.225\n",
      "| epoch   0 | batch 13500 / 35138 | train_loss 0.649 | train_ppl 1.913\n",
      "| epoch   0 | batch 14000 / 35138 | train_loss 0.954 | train_ppl 2.597\n",
      "| epoch   0 | batch 14500 / 35138 | train_loss 1.316 | train_ppl 3.727\n",
      "| epoch   0 | batch 14998 / 35138 | train_loss 0.27 | train_ppl 1.31 | val_loss 4.205 | val_ppl 67.047\n",
      "old best ppl 67.20011358678667 new best ppl 67.04742204100407\n",
      "save model... no-teacher-forcing/model_ppl_67.04742204100407.model\n",
      "| epoch   0 | batch 15000 / 35138 | train_loss 0.641 | train_ppl 1.898\n",
      "| epoch   0 | batch 15500 / 35138 | train_loss 0.969 | train_ppl 2.635\n",
      "| epoch   0 | batch 16000 / 35138 | train_loss 0.0 | train_ppl 1.0\n",
      "| epoch   0 | batch 16500 / 35138 | train_loss 0.627 | train_ppl 1.872\n",
      "| epoch   0 | batch 17000 / 35138 | train_loss 0.57 | train_ppl 1.768\n",
      "| epoch   0 | batch 17500 / 35138 | train_loss 0.435 | train_ppl 1.545\n",
      "| epoch   0 | batch 18000 / 35138 | train_loss 0.782 | train_ppl 2.186\n",
      "| epoch   0 | batch 18500 / 35138 | train_loss 0.914 | train_ppl 2.495\n",
      "| epoch   0 | batch 19000 / 35138 | train_loss 0.376 | train_ppl 1.456\n",
      "| epoch   0 | batch 19500 / 35138 | train_loss 0.636 | train_ppl 1.889\n",
      "| epoch   0 | batch 19997 / 35138 | train_loss 0.476 | train_ppl 1.61 | val_loss 4.204 | val_ppl 66.93\n",
      "old best ppl 67.04742204100407 new best ppl 66.92996897297103\n",
      "save model... no-teacher-forcing/model_ppl_66.92996897297103.model\n",
      "| epoch   0 | batch 20000 / 35138 | train_loss 0.439 | train_ppl 1.551\n",
      "| epoch   0 | batch 20500 / 35138 | train_loss 1.25 | train_ppl 3.492\n",
      "| epoch   0 | batch 21000 / 35138 | train_loss 0.539 | train_ppl 1.715\n",
      "| epoch   0 | batch 21500 / 35138 | train_loss 0.953 | train_ppl 2.594\n",
      "| epoch   0 | batch 22000 / 35138 | train_loss 0.47 | train_ppl 1.599\n",
      "| epoch   0 | batch 22500 / 35138 | train_loss 0.363 | train_ppl 1.438\n",
      "| epoch   0 | batch 23000 / 35138 | train_loss 0.862 | train_ppl 2.367\n",
      "| epoch   0 | batch 23500 / 35138 | train_loss 1.68 | train_ppl 5.367\n",
      "| epoch   0 | batch 24000 / 35138 | train_loss 0.766 | train_ppl 2.151\n",
      "| epoch   0 | batch 24500 / 35138 | train_loss 0.482 | train_ppl 1.62\n",
      "| epoch   0 | batch 24996 / 35138 | train_loss 0.717 | train_ppl 2.048 | val_loss 4.202 | val_ppl 66.844\n",
      "old best ppl 66.92996897297103 new best ppl 66.84396387935446\n",
      "save model... no-teacher-forcing/model_ppl_66.84396387935446.model\n",
      "| epoch   0 | batch 25000 / 35138 | train_loss 1.142 | train_ppl 3.132\n",
      "| epoch   0 | batch 25500 / 35138 | train_loss 0.469 | train_ppl 1.598\n",
      "| epoch   0 | batch 26000 / 35138 | train_loss 1.049 | train_ppl 2.854\n",
      "| epoch   0 | batch 26500 / 35138 | train_loss 0.358 | train_ppl 1.43\n",
      "| epoch   0 | batch 27000 / 35138 | train_loss 0.422 | train_ppl 1.525\n",
      "| epoch   0 | batch 27500 / 35138 | train_loss 0.488 | train_ppl 1.63\n",
      "| epoch   0 | batch 28000 / 35138 | train_loss 1.128 | train_ppl 3.088\n",
      "| epoch   0 | batch 28500 / 35138 | train_loss 1.055 | train_ppl 2.872\n",
      "| epoch   0 | batch 29000 / 35138 | train_loss 0.751 | train_ppl 2.118\n",
      "| epoch   0 | batch 29500 / 35138 | train_loss 0.226 | train_ppl 1.254\n",
      "| epoch   0 | batch 29995 / 35138 | train_loss 0.634 | train_ppl 1.884 | val_loss 4.201 | val_ppl 66.786\n",
      "old best ppl 66.84396387935446 new best ppl 66.78596419137634\n",
      "save model... no-teacher-forcing/model_ppl_66.78596419137634.model\n",
      "| epoch   0 | batch 30000 / 35138 | train_loss 0.829 | train_ppl 2.292\n",
      "| epoch   0 | batch 30500 / 35138 | train_loss 1.023 | train_ppl 2.78\n",
      "| epoch   0 | batch 31000 / 35138 | train_loss 0.453 | train_ppl 1.573\n",
      "| epoch   0 | batch 31500 / 35138 | train_loss 0.851 | train_ppl 2.343\n",
      "| epoch   0 | batch 32000 / 35138 | train_loss 1.187 | train_ppl 3.277\n",
      "| epoch   0 | batch 32500 / 35138 | train_loss 0.694 | train_ppl 2.002\n",
      "| epoch   0 | batch 33000 / 35138 | train_loss 0.0 | train_ppl 1.0\n",
      "| epoch   0 | batch 33500 / 35138 | train_loss 0.553 | train_ppl 1.739\n",
      "| epoch   0 | batch 34000 / 35138 | train_loss 0.882 | train_ppl 2.416\n",
      "| epoch   0 | batch 34500 / 35138 | train_loss 0.77 | train_ppl 2.159\n",
      "| epoch   0 | batch 34994 / 35138 | train_loss 0.742 | train_ppl 2.101 | val_loss 4.201 | val_ppl 66.738\n",
      "old best ppl 66.78596419137634 new best ppl 66.73770599114302\n",
      "save model... no-teacher-forcing/model_ppl_66.73770599114302.model\n",
      "| epoch   0 | batch 35000 / 35138 | train_loss 0.76 | train_ppl 2.138\n"
     ]
    }
   ],
   "source": []
  },
  {
   "cell_type": "code",
   "execution_count": null,
   "metadata": {},
   "outputs": [
    {
     "name": "stdout",
     "output_type": "stream",
     "text": [
      "| epoch   1 | batch 500 / 35138 | train_loss 0.107 | train_ppl 1.113\n",
      "| epoch   1 | batch 1000 / 35138 | train_loss 0.193 | train_ppl 1.213\n",
      "| epoch   1 | batch 1500 / 35138 | train_loss 0.217 | train_ppl 1.242\n",
      "| epoch   1 | batch 2000 / 35138 | train_loss 0.548 | train_ppl 1.73\n",
      "| epoch   1 | batch 2500 / 35138 | train_loss 1.017 | train_ppl 2.766\n",
      "| epoch   1 | batch 3000 / 35138 | train_loss 0.22 | train_ppl 1.246\n",
      "| epoch   1 | batch 3500 / 35138 | train_loss 0.893 | train_ppl 2.442\n",
      "| epoch   1 | batch 4000 / 35138 | train_loss 0.32 | train_ppl 1.377\n",
      "| epoch   1 | batch 4500 / 35138 | train_loss 0.453 | train_ppl 1.573\n",
      "| epoch   1 | batch 5000 / 35138 | train_loss 0.917 | train_ppl 2.503\n",
      "| epoch   1 | batch 5000 / 35138 | train_loss 0.917 | train_ppl 2.503 | val_loss 4.199 | val_ppl 66.65\n",
      "old best ppl 66.738 new best ppl 66.6497454434416\n",
      "save model... no-teacher-forcing/model_ppl_66.6497454434416.model\n",
      "| epoch   1 | batch 5500 / 35138 | train_loss 0.129 | train_ppl 1.138\n",
      "| epoch   1 | batch 6000 / 35138 | train_loss 0.483 | train_ppl 1.62\n",
      "| epoch   1 | batch 6500 / 35138 | train_loss 0.962 | train_ppl 2.617\n",
      "| epoch   1 | batch 7000 / 35138 | train_loss 0.0 | train_ppl 1.0\n",
      "| epoch   1 | batch 7500 / 35138 | train_loss 0.437 | train_ppl 1.548\n",
      "| epoch   1 | batch 8000 / 35138 | train_loss 0.136 | train_ppl 1.146\n"
     ]
    }
   ],
   "source": []
  },
  {
   "cell_type": "code",
   "execution_count": null,
   "metadata": {},
   "outputs": [],
   "source": []
  },
  {
   "cell_type": "code",
   "execution_count": null,
   "metadata": {},
   "outputs": [],
   "source": []
  },
  {
   "cell_type": "code",
   "execution_count": null,
   "metadata": {},
   "outputs": [],
   "source": []
  },
  {
   "cell_type": "code",
   "execution_count": null,
   "metadata": {},
   "outputs": [],
   "source": []
  },
  {
   "cell_type": "code",
   "execution_count": null,
   "metadata": {},
   "outputs": [],
   "source": []
  },
  {
   "cell_type": "markdown",
   "metadata": {},
   "source": [
    "## "
   ]
  },
  {
   "cell_type": "code",
   "execution_count": null,
   "metadata": {},
   "outputs": [],
   "source": []
  },
  {
   "cell_type": "code",
   "execution_count": 23,
   "metadata": {},
   "outputs": [
    {
     "data": {
      "text/plain": [
       "4"
      ]
     },
     "execution_count": 23,
     "metadata": {},
     "output_type": "execute_result"
    }
   ],
   "source": [
    "2+2"
   ]
  },
  {
   "cell_type": "code",
   "execution_count": null,
   "metadata": {},
   "outputs": [],
   "source": []
  },
  {
   "cell_type": "code",
   "execution_count": 27,
   "metadata": {},
   "outputs": [],
   "source": [
    "with open('./no-teacher-forcing/model_ppl_66.324-fin.model', 'wb') as file:\n",
    "    torch.save(model, file)"
   ]
  },
  {
   "cell_type": "code",
   "execution_count": 27,
   "metadata": {},
   "outputs": [],
   "source": [
    "#from baseline_model import BaseModel, repackage_hidden\n",
    "#with open('./no-teacher-forcing/model_ppl_1.6758322557913912.model', 'rb') as file:\n",
    "#    model = torch.load(file)\n",
    "#    model.eval()"
   ]
  },
  {
   "cell_type": "code",
   "execution_count": null,
   "metadata": {},
   "outputs": [],
   "source": [
    "evaluate(model, test_iter, criterion_1, True)"
   ]
  },
  {
   "cell_type": "code",
   "execution_count": 38,
   "metadata": {},
   "outputs": [
    {
     "data": {
      "text/plain": [
       "65.5091283504732"
      ]
     },
     "execution_count": 38,
     "metadata": {},
     "output_type": "execute_result"
    }
   ],
   "source": [
    "np.exp(4.18218949706029)"
   ]
  },
  {
   "cell_type": "code",
   "execution_count": null,
   "metadata": {},
   "outputs": [],
   "source": []
  }
 ],
 "metadata": {
  "kernelspec": {
   "display_name": "Python 3",
   "language": "python",
   "name": "python3"
  },
  "language_info": {
   "codemirror_mode": {
    "name": "ipython",
    "version": 3
   },
   "file_extension": ".py",
   "mimetype": "text/x-python",
   "name": "python",
   "nbconvert_exporter": "python",
   "pygments_lexer": "ipython3",
   "version": "3.6.5"
  }
 },
 "nbformat": 4,
 "nbformat_minor": 2
}

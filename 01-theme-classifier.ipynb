{
 "cells": [
  {
   "cell_type": "code",
   "execution_count": 1,
   "metadata": {},
   "outputs": [],
   "source": [
    "import pandas as pd\n",
    "from classifiers import theme_classifier, personal_classifier"
   ]
  },
  {
   "cell_type": "markdown",
   "metadata": {},
   "source": [
    "## [1] Classifier"
   ]
  },
  {
   "cell_type": "code",
   "execution_count": 2,
   "metadata": {},
   "outputs": [],
   "source": [
    "data = pd.read_csv('./balanced_data.csv', error_bad_lines=True)\n",
    "#data = data[data.columns.tolist()[1:]]\n",
    "#predicted_theme = data.review.apply(theme_classifier)\n",
    "#data['theme'] = predicted_theme\n",
    "#data.to_csv('data.csv', index = False)\n",
    "\n",
    "data['perspective'] = data.review.apply(personal_classifier)"
   ]
  },
  {
   "cell_type": "code",
   "execution_count": 3,
   "metadata": {},
   "outputs": [
    {
     "data": {
      "text/html": [
       "<div>\n",
       "<style scoped>\n",
       "    .dataframe tbody tr th:only-of-type {\n",
       "        vertical-align: middle;\n",
       "    }\n",
       "\n",
       "    .dataframe tbody tr th {\n",
       "        vertical-align: top;\n",
       "    }\n",
       "\n",
       "    .dataframe thead th {\n",
       "        text-align: right;\n",
       "    }\n",
       "</style>\n",
       "<table border=\"1\" class=\"dataframe\">\n",
       "  <thead>\n",
       "    <tr style=\"text-align: right;\">\n",
       "      <th></th>\n",
       "      <th>meta_id</th>\n",
       "      <th>review</th>\n",
       "      <th>theme</th>\n",
       "      <th>sentiment</th>\n",
       "      <th>clean_grade</th>\n",
       "      <th>perspective</th>\n",
       "    </tr>\n",
       "  </thead>\n",
       "  <tbody>\n",
       "    <tr>\n",
       "      <th>0</th>\n",
       "      <td>0</td>\n",
       "      <td>The only problem is that the story of Nelson M...</td>\n",
       "      <td>plot</td>\n",
       "      <td>neutral</td>\n",
       "      <td>3.5</td>\n",
       "      <td>False</td>\n",
       "    </tr>\n",
       "    <tr>\n",
       "      <th>1</th>\n",
       "      <td>0</td>\n",
       "      <td>This is a straightforward biopic with very con...</td>\n",
       "      <td>plot</td>\n",
       "      <td>neutral</td>\n",
       "      <td>3.5</td>\n",
       "      <td>False</td>\n",
       "    </tr>\n",
       "    <tr>\n",
       "      <th>2</th>\n",
       "      <td>0</td>\n",
       "      <td>This long and extensive movie failed to connec...</td>\n",
       "      <td>other</td>\n",
       "      <td>neutral</td>\n",
       "      <td>3.5</td>\n",
       "      <td>True</td>\n",
       "    </tr>\n",
       "    <tr>\n",
       "      <th>3</th>\n",
       "      <td>0</td>\n",
       "      <td>I am giving this film an extra star just becau...</td>\n",
       "      <td>plot</td>\n",
       "      <td>neutral</td>\n",
       "      <td>3.5</td>\n",
       "      <td>True</td>\n",
       "    </tr>\n",
       "    <tr>\n",
       "      <th>4</th>\n",
       "      <td>0</td>\n",
       "      <td>Based on Mandela 's own autobiography the scri...</td>\n",
       "      <td>plot</td>\n",
       "      <td>neutral</td>\n",
       "      <td>3.5</td>\n",
       "      <td>False</td>\n",
       "    </tr>\n",
       "  </tbody>\n",
       "</table>\n",
       "</div>"
      ],
      "text/plain": [
       "   meta_id                                             review  theme  \\\n",
       "0        0  The only problem is that the story of Nelson M...   plot   \n",
       "1        0  This is a straightforward biopic with very con...   plot   \n",
       "2        0  This long and extensive movie failed to connec...  other   \n",
       "3        0  I am giving this film an extra star just becau...   plot   \n",
       "4        0  Based on Mandela 's own autobiography the scri...   plot   \n",
       "\n",
       "  sentiment  clean_grade  perspective  \n",
       "0   neutral          3.5        False  \n",
       "1   neutral          3.5        False  \n",
       "2   neutral          3.5         True  \n",
       "3   neutral          3.5         True  \n",
       "4   neutral          3.5        False  "
      ]
     },
     "execution_count": 3,
     "metadata": {},
     "output_type": "execute_result"
    }
   ],
   "source": [
    "data.head()"
   ]
  },
  {
   "cell_type": "code",
   "execution_count": 4,
   "metadata": {},
   "outputs": [
    {
     "data": {
      "text/plain": [
       "plot          380768\n",
       "other         380768\n",
       "acting         66346\n",
       "effect         25671\n",
       "production     24886\n",
       "Name: theme, dtype: int64"
      ]
     },
     "execution_count": 4,
     "metadata": {},
     "output_type": "execute_result"
    }
   ],
   "source": [
    "data.theme.value_counts()"
   ]
  },
  {
   "cell_type": "code",
   "execution_count": 5,
   "metadata": {},
   "outputs": [
    {
     "data": {
      "text/plain": [
       "False    662060\n",
       "True     216379\n",
       "Name: perspective, dtype: int64"
      ]
     },
     "execution_count": 5,
     "metadata": {},
     "output_type": "execute_result"
    }
   ],
   "source": [
    "data.perspective.value_counts()"
   ]
  },
  {
   "cell_type": "code",
   "execution_count": 6,
   "metadata": {},
   "outputs": [
    {
     "data": {
      "text/plain": [
       "Index(['meta_id', 'review', 'theme', 'sentiment', 'clean_grade',\n",
       "       'perspective'],\n",
       "      dtype='object')"
      ]
     },
     "execution_count": 6,
     "metadata": {},
     "output_type": "execute_result"
    }
   ],
   "source": [
    "data.columns"
   ]
  },
  {
   "cell_type": "code",
   "execution_count": 13,
   "metadata": {},
   "outputs": [],
   "source": [
    "data[['meta_id', 'review', 'theme', 'perspective']].to_csv('data_T_and_P.csv', index = False)"
   ]
  },
  {
   "cell_type": "code",
   "execution_count": 17,
   "metadata": {},
   "outputs": [],
   "source": []
  },
  {
   "cell_type": "code",
   "execution_count": null,
   "metadata": {},
   "outputs": [],
   "source": []
  }
 ],
 "metadata": {
  "kernelspec": {
   "display_name": "Python 3",
   "language": "python",
   "name": "python3"
  },
  "language_info": {
   "codemirror_mode": {
    "name": "ipython",
    "version": 3
   },
   "file_extension": ".py",
   "mimetype": "text/x-python",
   "name": "python",
   "nbconvert_exporter": "python",
   "pygments_lexer": "ipython3",
   "version": "3.6.5"
  }
 },
 "nbformat": 4,
 "nbformat_minor": 2
}

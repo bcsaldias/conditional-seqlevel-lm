{
 "cells": [
  {
   "cell_type": "code",
   "execution_count": 1,
   "metadata": {},
   "outputs": [],
   "source": [
    "from data_generators import get_iterator, get_dataset\n",
    "from classifiers import theme_classifier\n",
    "import torch\n",
    "import torch.nn as nn\n",
    "from torchtext.vocab import GloVe \n",
    "GLOVE_EMBEDDING = GloVe(name=\"6B\", dim=300)"
   ]
  },
  {
   "cell_type": "code",
   "execution_count": 2,
   "metadata": {},
   "outputs": [],
   "source": [
    "train_dataset, val_dataset, test_dataset, review_text_FIELD, theme_FIELD = get_dataset(vectors = GLOVE_EMBEDDING)"
   ]
  },
  {
   "cell_type": "code",
   "execution_count": 3,
   "metadata": {},
   "outputs": [],
   "source": [
    "batch_size = 20\n",
    "train_iter = get_iterator(train_dataset, batch_size, train=True, shuffle=True, repeat=False)\n",
    "val_iter = get_iterator(val_dataset, batch_size, train=False, shuffle=True, repeat=False)\n",
    "test_iter = get_iterator(test_dataset, batch_size, train=False, shuffle=True, repeat=False)"
   ]
  },
  {
   "cell_type": "code",
   "execution_count": 4,
   "metadata": {},
   "outputs": [],
   "source": [
    "test_list = list(test_iter)"
   ]
  },
  {
   "cell_type": "code",
   "execution_count": 5,
   "metadata": {},
   "outputs": [],
   "source": [
    "from baseline_model import BaseModel, repackage_hidden"
   ]
  },
  {
   "cell_type": "code",
   "execution_count": 6,
   "metadata": {},
   "outputs": [],
   "source": [
    "with open('./baseline/best_model_base_model_ppl_67.5461793533482.model', 'rb') as file:\n",
    "    model = torch.load(file)\n",
    "    model.eval()"
   ]
  },
  {
   "cell_type": "code",
   "execution_count": 7,
   "metadata": {},
   "outputs": [],
   "source": [
    "vocab_size = 12304"
   ]
  },
  {
   "cell_type": "code",
   "execution_count": 8,
   "metadata": {},
   "outputs": [],
   "source": [
    "import numpy as np"
   ]
  },
  {
   "cell_type": "code",
   "execution_count": 9,
   "metadata": {},
   "outputs": [],
   "source": [
    "BOS_WORD = '<sos>'\n",
    "EOS_WORD = '<eos>'"
   ]
  },
  {
   "cell_type": "code",
   "execution_count": 11,
   "metadata": {},
   "outputs": [],
   "source": [
    "def generate_next_n_words(self, first_word, label, max_len = 3, # ngram=3\n",
    "                            target_vocab = review_text_FIELD, top_k = 10):\n",
    "\n",
    "    self.eval()\n",
    "    with torch.no_grad():      \n",
    "\n",
    "        labels = torch.tensor([label]).cuda().long()\n",
    "        source = torch.tensor([first_word]).unsqueeze(1).cuda().long()\n",
    "        \n",
    "        eos_idx = target_vocab.vocab.stoi[EOS_WORD]\n",
    "        y_hat = source[:1,:]\n",
    "        y_hat = y_hat.unsqueeze(-1)\n",
    "\n",
    "        prediction_idxs = [[y_hat[0]]]\n",
    "        prediction_probs = [0]\n",
    "\n",
    "        next_hidden = [None]\n",
    "        \n",
    "        for t in range(max_len):\n",
    "            current_idxs = []\n",
    "            current_probs = []\n",
    "            current_hidd = [] \n",
    "\n",
    "            for k in range(y_hat.shape[-1]):\n",
    "                y_hat_k = y_hat[:,:,k]\n",
    "                current_hidd_k = next_hidden[k]\n",
    "                output, hidden = self(y_hat_k, labels, current_hidd_k)\n",
    "                current_hidd += [hidden]*top_k\n",
    "                top_probs, top_idx = output.topk(top_k, -1)\n",
    "                current_idxs.append(top_idx.squeeze(0).squeeze(0))\n",
    "                current_probs.append(top_probs.squeeze(0).squeeze(0))\n",
    "            current_idxs = torch.cat(current_idxs)\n",
    "            current_probs = torch.cat(current_probs)\n",
    "\n",
    "            next_args = torch.sort(current_probs, -1, True)[1][:top_k] \n",
    "\n",
    "            next_idxs, next_probs, next_hidden = [], [], []\n",
    "            tmp_pred_idxs, tmp_pred_probs = [], []\n",
    "            for idx in next_args:\n",
    "                chain_head = idx//top_k\n",
    "\n",
    "                next_idx = current_idxs[idx].int()\n",
    "                next_prob = current_probs[idx]\n",
    "                sentence_so_far = prediction_idxs[chain_head]\n",
    "                \n",
    "                if len(sentence_so_far)>0 and sentence_so_far[-1] == eos_idx:\n",
    "                    tmp_pred_idxs.append(sentence_so_far + [eos_idx])\n",
    "                    tmp_pred_probs.append(prediction_probs[chain_head])\n",
    "                else:\n",
    "                    tmp_pred_idxs.append(sentence_so_far + [next_idx])\n",
    "                    tmp_pred_probs.append(prediction_probs[chain_head] + next_prob)\n",
    "\n",
    "                next_idxs.append(next_idx.unsqueeze(0))\n",
    "                next_hidden.append(current_hidd[idx])\n",
    "\n",
    "            prediction_idxs = tmp_pred_idxs\n",
    "            prediction_probs = tmp_pred_probs\n",
    "            next_idxs = torch.cat(next_idxs)\n",
    "\n",
    "            y_hat = next_idxs.unsqueeze(0).unsqueeze(0).long()\n",
    "            \n",
    "        prediction_probs = torch.tensor(prediction_probs)\n",
    "        prediction_idxs = torch.tensor(prediction_idxs)\n",
    "        correct_order = torch.argsort(prediction_probs, descending=True).long()\n",
    "        \n",
    "        prediction_idxs = torch.index_select(prediction_idxs, 0, correct_order)\n",
    "\n",
    "        return prediction_idxs, labels"
   ]
  },
  {
   "cell_type": "code",
   "execution_count": 12,
   "metadata": {},
   "outputs": [
    {
     "data": {
      "text/plain": [
       "torch.Size([5, 20])"
      ]
     },
     "execution_count": 12,
     "metadata": {},
     "output_type": "execute_result"
    }
   ],
   "source": [
    "test_list[100].review_text.shape"
   ]
  },
  {
   "cell_type": "code",
   "execution_count": 13,
   "metadata": {},
   "outputs": [],
   "source": [
    "def transtaltion2string(raw_translations, target_vocab = review_text_FIELD, max_words=30000):\n",
    "    string_translations = []\n",
    "    for raw_sentence in raw_translations:\n",
    "        string_sentence = []\n",
    "        for i, word_idx in enumerate(raw_sentence):\n",
    "            if i == max_words: break\n",
    "            word = target_vocab.vocab.itos[word_idx]\n",
    "            if word == '<eos>':\n",
    "                break\n",
    "            if word != '<sos>':\n",
    "                string_sentence.append(word)\n",
    "        string_translations.append(string_sentence)\n",
    "\n",
    "    return string_translations"
   ]
  },
  {
   "cell_type": "code",
   "execution_count": 14,
   "metadata": {},
   "outputs": [
    {
     "data": {
      "text/plain": [
       "(tensor([[  7,  14,  46, 187],\n",
       "         [  7,  14,  46, 154],\n",
       "         [  7,  11,  76,  26],\n",
       "         [  7,  11,  76,  27],\n",
       "         [  7,  11,  76,  36],\n",
       "         [  7,  14,  36,  10],\n",
       "         [  7,  11,  62,   8],\n",
       "         [  7,  14,  20,  26],\n",
       "         [  7,  14,  20, 737],\n",
       "         [  7,  14, 165,   4]]), tensor([3], device='cuda:0'))"
      ]
     },
     "execution_count": 14,
     "metadata": {},
     "output_type": "execute_result"
    }
   ],
   "source": []
  },
  {
   "cell_type": "code",
   "execution_count": 33,
   "metadata": {},
   "outputs": [],
   "source": [
    "import pandas as pd"
   ]
  },
  {
   "cell_type": "code",
   "execution_count": 26,
   "metadata": {},
   "outputs": [],
   "source": [
    "#review_text_FIELD.vocab.itos"
   ]
  },
  {
   "cell_type": "code",
   "execution_count": 24,
   "metadata": {},
   "outputs": [
    {
     "data": {
      "text/plain": [
       "['<unk>', 'other', 'plot', 'acting', 'effect', 'production']"
      ]
     },
     "execution_count": 24,
     "metadata": {},
     "output_type": "execute_result"
    }
   ],
   "source": [
    "theme_FIELD.vocab.itos"
   ]
  },
  {
   "cell_type": "code",
   "execution_count": 39,
   "metadata": {},
   "outputs": [
    {
     "data": {
      "text/html": [
       "<div>\n",
       "<style scoped>\n",
       "    .dataframe tbody tr th:only-of-type {\n",
       "        vertical-align: middle;\n",
       "    }\n",
       "\n",
       "    .dataframe tbody tr th {\n",
       "        vertical-align: top;\n",
       "    }\n",
       "\n",
       "    .dataframe thead th {\n",
       "        text-align: right;\n",
       "    }\n",
       "</style>\n",
       "<table border=\"1\" class=\"dataframe\">\n",
       "  <thead>\n",
       "    <tr style=\"text-align: right;\">\n",
       "      <th></th>\n",
       "      <th>true_label</th>\n",
       "      <th>generation</th>\n",
       "      <th>predicted</th>\n",
       "    </tr>\n",
       "  </thead>\n",
       "  <tbody>\n",
       "    <tr>\n",
       "      <th>0</th>\n",
       "      <td>production</td>\n",
       "      <td>the story is a little too long for the sake of</td>\n",
       "      <td>plot</td>\n",
       "    </tr>\n",
       "    <tr>\n",
       "      <th>1</th>\n",
       "      <td>production</td>\n",
       "      <td>. i really did n't care about any of my favorite</td>\n",
       "      <td>other</td>\n",
       "    </tr>\n",
       "    <tr>\n",
       "      <th>2</th>\n",
       "      <td>production</td>\n",
       "      <td>, i ' ve never been a huge fan of the</td>\n",
       "      <td>other</td>\n",
       "    </tr>\n",
       "    <tr>\n",
       "      <th>3</th>\n",
       "      <td>production</td>\n",
       "      <td>and i ' ve never been a huge fan of the</td>\n",
       "      <td>other</td>\n",
       "    </tr>\n",
       "    <tr>\n",
       "      <th>4</th>\n",
       "      <td>production</td>\n",
       "      <td>a little slow and the director could ' ve easi...</td>\n",
       "      <td>production</td>\n",
       "    </tr>\n",
       "    <tr>\n",
       "      <th>5</th>\n",
       "      <td>production</td>\n",
       "      <td>of an old director who does n't seem to have a</td>\n",
       "      <td>production</td>\n",
       "    </tr>\n",
       "    <tr>\n",
       "      <th>6</th>\n",
       "      <td>production</td>\n",
       "      <td>to the point of the production , i would n't have</td>\n",
       "      <td>production</td>\n",
       "    </tr>\n",
       "    <tr>\n",
       "      <th>7</th>\n",
       "      <td>production</td>\n",
       "      <td>it could ' ve easily been a better director .</td>\n",
       "      <td>production</td>\n",
       "    </tr>\n",
       "    <tr>\n",
       "      <th>8</th>\n",
       "      <td>production</td>\n",
       "      <td>is one of my favorite films of the same name ,</td>\n",
       "      <td>other</td>\n",
       "    </tr>\n",
       "    <tr>\n",
       "      <th>9</th>\n",
       "      <td>production</td>\n",
       "      <td>in the end , it would ' ve easily been a</td>\n",
       "      <td>other</td>\n",
       "    </tr>\n",
       "    <tr>\n",
       "      <th>10</th>\n",
       "      <td>production</td>\n",
       "      <td>i ' ve never been a huge big fan , but</td>\n",
       "      <td>other</td>\n",
       "    </tr>\n",
       "    <tr>\n",
       "      <th>11</th>\n",
       "      <td>production</td>\n",
       "      <td>that would ' ve done a better job of the director</td>\n",
       "      <td>production</td>\n",
       "    </tr>\n",
       "    <tr>\n",
       "      <th>12</th>\n",
       "      <td>production</td>\n",
       "      <td>this could have easily won the academy award f...</td>\n",
       "      <td>production</td>\n",
       "    </tr>\n",
       "    <tr>\n",
       "      <th>13</th>\n",
       "      <td>production</td>\n",
       "      <td>but it does n't really seem to make sense .</td>\n",
       "      <td>other</td>\n",
       "    </tr>\n",
       "    <tr>\n",
       "      <th>14</th>\n",
       "      <td>production</td>\n",
       "      <td>'s the director who does n't seem to know how to</td>\n",
       "      <td>production</td>\n",
       "    </tr>\n",
       "    <tr>\n",
       "      <th>15</th>\n",
       "      <td>production</td>\n",
       "      <td>movie that does n't really seem to make you wa...</td>\n",
       "      <td>other</td>\n",
       "    </tr>\n",
       "    <tr>\n",
       "      <th>16</th>\n",
       "      <td>production</td>\n",
       "      <td>was the director who did n't really know how t...</td>\n",
       "      <td>production</td>\n",
       "    </tr>\n",
       "    <tr>\n",
       "      <th>17</th>\n",
       "      <td>production</td>\n",
       "      <td>with a great director of a young man who has a</td>\n",
       "      <td>production</td>\n",
       "    </tr>\n",
       "    <tr>\n",
       "      <th>18</th>\n",
       "      <td>production</td>\n",
       "      <td>story of a man who wants to find his life ,</td>\n",
       "      <td>plot</td>\n",
       "    </tr>\n",
       "    <tr>\n",
       "      <th>19</th>\n",
       "      <td>production</td>\n",
       "      <td>film that does n't seem to make any sense , but</td>\n",
       "      <td>other</td>\n",
       "    </tr>\n",
       "    <tr>\n",
       "      <th>20</th>\n",
       "      <td>production</td>\n",
       "      <td>as much as i ' ve ever been a fan of</td>\n",
       "      <td>other</td>\n",
       "    </tr>\n",
       "    <tr>\n",
       "      <th>21</th>\n",
       "      <td>production</td>\n",
       "      <td>for those of the director , i ' ve never seen</td>\n",
       "      <td>production</td>\n",
       "    </tr>\n",
       "    <tr>\n",
       "      <th>22</th>\n",
       "      <td>production</td>\n",
       "      <td>n't as good as i would have thought it would be</td>\n",
       "      <td>other</td>\n",
       "    </tr>\n",
       "    <tr>\n",
       "      <th>23</th>\n",
       "      <td>production</td>\n",
       "      <td>not as good as i would have thought it would be</td>\n",
       "      <td>other</td>\n",
       "    </tr>\n",
       "    <tr>\n",
       "      <th>24</th>\n",
       "      <td>production</td>\n",
       "      <td>you ca n't help but think that the director di...</td>\n",
       "      <td>production</td>\n",
       "    </tr>\n",
       "    <tr>\n",
       "      <th>25</th>\n",
       "      <td>production</td>\n",
       "      <td>good acting and a great director , but it 's a</td>\n",
       "      <td>production</td>\n",
       "    </tr>\n",
       "    <tr>\n",
       "      <th>26</th>\n",
       "      <td>production</td>\n",
       "      <td>on one of my favorite movies i ' ve ever seen</td>\n",
       "      <td>other</td>\n",
       "    </tr>\n",
       "    <tr>\n",
       "      <th>27</th>\n",
       "      <td>production</td>\n",
       "      <td>are that the director did n't know how to make a</td>\n",
       "      <td>production</td>\n",
       "    </tr>\n",
       "    <tr>\n",
       "      <th>28</th>\n",
       "      <td>production</td>\n",
       "      <td>great performances from the two main leads and...</td>\n",
       "      <td>production</td>\n",
       "    </tr>\n",
       "    <tr>\n",
       "      <th>29</th>\n",
       "      <td>production</td>\n",
       "      <td>an all over the place and the director could ' ve</td>\n",
       "      <td>production</td>\n",
       "    </tr>\n",
       "  </tbody>\n",
       "</table>\n",
       "</div>"
      ],
      "text/plain": [
       "    true_label                                         generation   predicted\n",
       "0   production     the story is a little too long for the sake of        plot\n",
       "1   production   . i really did n't care about any of my favorite       other\n",
       "2   production              , i ' ve never been a huge fan of the       other\n",
       "3   production            and i ' ve never been a huge fan of the       other\n",
       "4   production  a little slow and the director could ' ve easi...  production\n",
       "5   production     of an old director who does n't seem to have a  production\n",
       "6   production  to the point of the production , i would n't have  production\n",
       "7   production      it could ' ve easily been a better director .  production\n",
       "8   production     is one of my favorite films of the same name ,       other\n",
       "9   production           in the end , it would ' ve easily been a       other\n",
       "10  production             i ' ve never been a huge big fan , but       other\n",
       "11  production  that would ' ve done a better job of the director  production\n",
       "12  production  this could have easily won the academy award f...  production\n",
       "13  production        but it does n't really seem to make sense .       other\n",
       "14  production   's the director who does n't seem to know how to  production\n",
       "15  production  movie that does n't really seem to make you wa...       other\n",
       "16  production  was the director who did n't really know how t...  production\n",
       "17  production     with a great director of a young man who has a  production\n",
       "18  production        story of a man who wants to find his life ,        plot\n",
       "19  production    film that does n't seem to make any sense , but       other\n",
       "20  production               as much as i ' ve ever been a fan of       other\n",
       "21  production      for those of the director , i ' ve never seen  production\n",
       "22  production    n't as good as i would have thought it would be       other\n",
       "23  production    not as good as i would have thought it would be       other\n",
       "24  production  you ca n't help but think that the director di...  production\n",
       "25  production     good acting and a great director , but it 's a  production\n",
       "26  production      on one of my favorite movies i ' ve ever seen       other\n",
       "27  production   are that the director did n't know how to make a  production\n",
       "28  production  great performances from the two main leads and...  production\n",
       "29  production  an all over the place and the director could ' ve  production"
      ]
     },
     "execution_count": 39,
     "metadata": {},
     "output_type": "execute_result"
    }
   ],
   "source": [
    "results = []\n",
    "for i in range(30):\n",
    "    pred, label = generate_next_n_words(model, i+4, 4, max_len=10)\n",
    "    pred = transtaltion2string(pred[:1])\n",
    "    string = ' '.join(pred[0])\n",
    "    predicted_class = theme_classifier(string)\n",
    "    results.append([theme_FIELD.vocab.itos[label+1], string, predicted_class])\n",
    "pd.DataFrame(results, columns=['true_label', 'generation', 'predicted'])"
   ]
  },
  {
   "cell_type": "code",
   "execution_count": null,
   "metadata": {},
   "outputs": [],
   "source": []
  },
  {
   "cell_type": "code",
   "execution_count": null,
   "metadata": {},
   "outputs": [],
   "source": []
  },
  {
   "cell_type": "code",
   "execution_count": null,
   "metadata": {},
   "outputs": [],
   "source": []
  },
  {
   "cell_type": "code",
   "execution_count": null,
   "metadata": {},
   "outputs": [],
   "source": []
  },
  {
   "cell_type": "code",
   "execution_count": null,
   "metadata": {},
   "outputs": [],
   "source": []
  },
  {
   "cell_type": "code",
   "execution_count": null,
   "metadata": {},
   "outputs": [],
   "source": []
  },
  {
   "cell_type": "code",
   "execution_count": null,
   "metadata": {},
   "outputs": [],
   "source": []
  },
  {
   "cell_type": "code",
   "execution_count": 212,
   "metadata": {},
   "outputs": [],
   "source": [
    "#transtaltion2string(test_list[200].review_text[1,:].tolist())"
   ]
  },
  {
   "cell_type": "code",
   "execution_count": null,
   "metadata": {},
   "outputs": [],
   "source": []
  }
 ],
 "metadata": {
  "kernelspec": {
   "display_name": "Python 3",
   "language": "python",
   "name": "python3"
  },
  "language_info": {
   "codemirror_mode": {
    "name": "ipython",
    "version": 3
   },
   "file_extension": ".py",
   "mimetype": "text/x-python",
   "name": "python",
   "nbconvert_exporter": "python",
   "pygments_lexer": "ipython3",
   "version": "3.6.5"
  }
 },
 "nbformat": 4,
 "nbformat_minor": 2
}

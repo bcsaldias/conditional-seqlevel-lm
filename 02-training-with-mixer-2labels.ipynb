{
 "cells": [
  {
   "cell_type": "code",
   "execution_count": 1,
   "metadata": {},
   "outputs": [],
   "source": [
    "from data_2c_generators import get_iterator, get_dataset\n",
    "from classifiers import theme_classifier, personal_classifier\n",
    "import torch\n",
    "import torch.nn as nn\n",
    "from torchtext.vocab import GloVe \n",
    "GLOVE_EMBEDDING = GloVe(name=\"6B\", dim=300)"
   ]
  },
  {
   "cell_type": "code",
   "execution_count": 2,
   "metadata": {},
   "outputs": [],
   "source": [
    "(train_dataset, val_dataset, test_dataset, \\\n",
    "     review_text_FIELD, theme_FIELD, perspective_FIELD) = get_dataset(vectors = GLOVE_EMBEDDING)"
   ]
  },
  {
   "cell_type": "code",
   "execution_count": 3,
   "metadata": {},
   "outputs": [],
   "source": [
    "batch_size = 20\n",
    "train_iter = get_iterator(train_dataset, batch_size, train=True, shuffle=True, repeat=False)\n",
    "val_iter = get_iterator(val_dataset, batch_size, train=False, shuffle=True, repeat=False)\n",
    "test_iter = get_iterator(test_dataset, batch_size, train=False, shuffle=True, repeat=False)"
   ]
  },
  {
   "cell_type": "code",
   "execution_count": 4,
   "metadata": {},
   "outputs": [],
   "source": [
    "val_list = list(val_iter)"
   ]
  },
  {
   "cell_type": "code",
   "execution_count": 5,
   "metadata": {},
   "outputs": [
    {
     "name": "stdout",
     "output_type": "stream",
     "text": [
      "<sos> their scenes are so slow . <eos> | plot | False\n",
      "<sos> five stars , do n't miss <eos> | other | False\n",
      "<sos> great cast , poorly written directed <eos> | acting | False\n",
      "<sos> great dual protagonist antagonist story . <eos> | plot | False\n",
      "<sos> boring for the first two hours <eos> | other | False\n",
      "<sos> trailer was better than movie . <eos> | effect | False\n",
      "<sos> i liked the whole movie . <eos> | other | True\n",
      "<sos> touch my heart so amazing <unk> <eos> | other | True\n",
      "<sos> i say check it out . <eos> | other | True\n",
      "<sos> i give it a b . <eos> | other | True\n"
     ]
    }
   ],
   "source": [
    "batch = val_list[500]\n",
    "x = batch.review_text.transpose(1, 0).int()[:10]\n",
    "y = batch.theme.int()\n",
    "z = batch.perspective.int()\n",
    "\n",
    "for idx in range(x.shape[0]):\n",
    "    #print(x.shape, y.shape)\n",
    "    print(\"{} | {} | {}\".format(' '.join([review_text_FIELD.vocab.itos[_] for _ in x[idx]]),\n",
    "                                          theme_FIELD.vocab.itos[y[idx]],\n",
    "                                          perspective_FIELD.vocab.itos[z[idx]]))"
   ]
  },
  {
   "cell_type": "code",
   "execution_count": 6,
   "metadata": {},
   "outputs": [
    {
     "name": "stdout",
     "output_type": "stream",
     "text": [
      "['<unk>', 'other', 'plot', 'acting', 'effect', 'production']\n",
      "['<unk>', 'False', 'True']\n"
     ]
    }
   ],
   "source": [
    "print(theme_FIELD.vocab.itos)\n",
    "print(perspective_FIELD.vocab.itos)"
   ]
  },
  {
   "cell_type": "code",
   "execution_count": 7,
   "metadata": {},
   "outputs": [
    {
     "data": {
      "text/plain": [
       "(12304, 5, 2, 300, torch.Size([12304, 300]))"
      ]
     },
     "execution_count": 7,
     "metadata": {},
     "output_type": "execute_result"
    }
   ],
   "source": [
    "vocab_size = review_text_FIELD.vocab.vectors.shape[0]\n",
    "label_0_size = len(theme_FIELD.vocab) - 1\n",
    "label_1_size = len(perspective_FIELD.vocab) - 1\n",
    "emb_dim = review_text_FIELD.vocab.vectors.shape[1]\n",
    "vectors = train_dataset.fields[\"review_text\"].vocab.vectors\n",
    "hidden_dim = 1024\n",
    "layers = 2\n",
    "dropout = .5\n",
    "\n",
    "vocab_size, label_0_size, label_1_size, emb_dim, vectors.shape"
   ]
  },
  {
   "cell_type": "code",
   "execution_count": 10,
   "metadata": {},
   "outputs": [],
   "source": [
    "from baseline_2_model import BaseModel, repackage_hidden"
   ]
  },
  {
   "cell_type": "code",
   "execution_count": 11,
   "metadata": {},
   "outputs": [],
   "source": [
    "import numpy as np\n",
    "import gc"
   ]
  },
  {
   "cell_type": "code",
   "execution_count": 12,
   "metadata": {},
   "outputs": [
    {
     "data": {
      "text/plain": [
       "3"
      ]
     },
     "execution_count": 12,
     "metadata": {},
     "output_type": "execute_result"
    }
   ],
   "source": [
    "EOS_token = review_text_FIELD.vocab.stoi['<eos>']\n",
    "EOS_token"
   ]
  },
  {
   "cell_type": "code",
   "execution_count": 30,
   "metadata": {},
   "outputs": [],
   "source": [
    "def forward_pass(model, data, labels, i):\n",
    "    \n",
    "    split_tf = data.shape[0] - (i % data.shape[0])\n",
    "    #print(split_tf)\n",
    "    \n",
    "    seq_len = data.shape[0]\n",
    "    data_tf = data[:split_tf+int(i==0),:]\n",
    "    data_nf = data[split_tf:,:]\n",
    "\n",
    "    output_flat = None\n",
    "    hidden = None\n",
    "    \n",
    "    if split_tf > 0:\n",
    "\n",
    "        data = data_tf\n",
    "        output_tf, hidden = model(data, labels, hidden)\n",
    "        repackage_hidden(hidden)\n",
    "        output_flat = output_tf.contiguous().view(-1, vocab_size)\n",
    "\n",
    "    if split_tf < seq_len:\n",
    "\n",
    "        data = data_nf\n",
    "        shape = tuple((*data_nf.shape, vocab_size))\n",
    "        output_nf = torch.zeros(shape).cuda()\n",
    "        hidden_i = None\n",
    "        data_i = data[0,:]    \n",
    "\n",
    "        for di in range(data_nf.shape[0]):\n",
    "            params = data_i.unsqueeze(0), labels, hidden_i\n",
    "            output_i, hidden_i = model(*params)\n",
    "            hidden_i = repackage_hidden(hidden_i)\n",
    "            topv, topi = output_i.topk(1)\n",
    "            data_i = topi.squeeze().detach()\n",
    "            output_nf[di,:] = output_i\n",
    "\n",
    "        temp_output_flat = output_nf.contiguous().view(-1, vocab_size)\n",
    "        if output_flat is None:\n",
    "            output_flat = temp_output_flat\n",
    "        else:\n",
    "            output_flat = torch.cat([output_flat, temp_output_flat], 0)\n",
    "            \n",
    "    return output_flat"
   ]
  },
  {
   "cell_type": "code",
   "execution_count": 14,
   "metadata": {},
   "outputs": [],
   "source": [
    "def transtaltion2string(raw_translations, target_vocab = review_text_FIELD, max_words=30000):\n",
    "    string_translations = []\n",
    "    for raw_sentence in raw_translations:\n",
    "        string_sentence = []\n",
    "        for i, word_idx in enumerate(raw_sentence):\n",
    "            if i == max_words: break\n",
    "            word = target_vocab.vocab.itos[word_idx]\n",
    "            if word != '<sos>':\n",
    "                string_sentence.append(word)\n",
    "        string_translations.append(string_sentence)\n",
    "    return [' '.join(_) for _ in string_translations]"
   ]
  },
  {
   "cell_type": "code",
   "execution_count": 15,
   "metadata": {},
   "outputs": [],
   "source": [
    "def get_predicted_labels(output_flat, original_shape, ground_truth):\n",
    "    topv, topi = output_flat.topk(1, -1)\n",
    "    topi = topi.view(*original_shape)\n",
    "    \n",
    "    theme_predictions = []\n",
    "    perspective_predictions = []\n",
    "    for i in range(topi.shape[1]):\n",
    "        text = transtaltion2string([topi[:,i]])[0]\n",
    "        predicted_theme = theme_classifier(text)\n",
    "        predicted_perspective = personal_classifier(text)\n",
    "        \n",
    "        idx_theme = theme_FIELD.vocab.stoi[predicted_theme] - 1 \n",
    "        idx_perspective = perspective_FIELD.vocab.stoi[predicted_perspective] - 1 \n",
    "        theme_predictions.append(idx_theme)\n",
    "        perspective_predictions.append(idx_perspective)\n",
    "        \n",
    "    theme_predictions = torch.tensor(theme_predictions).cuda()\n",
    "    perspective_predictions = torch.tensor(perspective_predictions).cuda()\n",
    "    \n",
    "    classifier_theme_output = (theme_predictions == ground_truth[0]).float()\n",
    "    classifier_perspective_output = (perspective_predictions == ground_truth[1]).float()\n",
    "    #acc_score = classifier_output.mean().item()\n",
    "    \n",
    "    classifier_output = ((classifier_theme_output + classifier_perspective_output) == 2).float()\n",
    "    \n",
    "    return classifier_output"
   ]
  },
  {
   "cell_type": "code",
   "execution_count": 35,
   "metadata": {},
   "outputs": [],
   "source": [
    "def evaluate(model, data_source, criterion, teacher_forcing = False):\n",
    "    model.eval()\n",
    "    total_loss_e = 0\n",
    "    total_number_of_words = 0\n",
    "    \n",
    "    with torch.no_grad():\n",
    "        for i, batch in enumerate(data_source):\n",
    "            labels_0 = batch.theme.cuda().long() - 1\n",
    "            labels_1 = batch.perspective.cuda().long() - 1\n",
    "            labels = (labels_0, labels_1)\n",
    "            batch = batch.review_text.cuda().long()\n",
    "            \n",
    "            if batch.shape[0] > 3:\n",
    "                data, targets = batch[1:-1,:], batch[2:,:]\n",
    "                target_flat = targets.contiguous().view(-1)\n",
    "                \n",
    "                tf = i if not teacher_forcing else 0\n",
    "                output_flat = forward_pass(model, data, labels, tf)\n",
    "                classifier_output = get_predicted_labels(output_flat, targets.shape, labels)\n",
    "                \n",
    "                batch_loss = criterion(output_flat, target_flat, classifier_output, targets.shape).detach().item()\n",
    "                \n",
    "                number_of_words = data.shape[0] * data.shape[1]\n",
    "                total_loss_e += batch_loss * number_of_words\n",
    "                total_number_of_words += number_of_words\n",
    "            \n",
    "    #print(total_loss_e, total_number_of_words)\n",
    "    return total_loss_e / total_number_of_words"
   ]
  },
  {
   "cell_type": "code",
   "execution_count": 31,
   "metadata": {},
   "outputs": [],
   "source": [
    "def train(model, ep0, epN, train_iter, dev_iter, optimizer, criterion, \n",
    "          max_grad_norm, model_name, best_ppl = float('inf'), teacher_forcing = False):\n",
    "    \n",
    "    best_ppl = best_ppl\n",
    "    \n",
    "    len_train_iter = len(train_iter)\n",
    "    for epoch in range(ep0, epN):\n",
    "        model.train()\n",
    "        total_loss_e = 0\n",
    "        total_number_of_words = 0 \n",
    "        \n",
    "        for i, batch in enumerate(train_iter):\n",
    "\n",
    "            labels_0 = batch.theme.cuda().long() - 1\n",
    "            labels_1 = batch.perspective.cuda().long() - 1\n",
    "            labels = (labels_0, labels_1)\n",
    "            batch = batch.review_text.cuda().long()\n",
    "            hidden = None\n",
    "            \n",
    "            if batch.shape[0] > 3:\n",
    "                data, targets = batch[1:-1,:], batch[2:,:]\n",
    "                \n",
    "                tf = i if not teacher_forcing else 0\n",
    "                output_flat = forward_pass(model, data, labels, tf)\n",
    "                \n",
    "                target_flat = targets.contiguous().view(-1)\n",
    "                classifier_output = get_predicted_labels(output_flat, targets.shape, labels)\n",
    "                batch_loss = criterion(output_flat, target_flat, classifier_output, targets.shape)\n",
    "                \n",
    "                torch.nn.utils.clip_grad_norm_(model.parameters(), max_grad_norm)\n",
    "                optimizer.zero_grad()\n",
    "                batch_loss.backward()\n",
    "                optimizer.step()\n",
    "\n",
    "                number_of_words = data.shape[0] * data.shape[1]\n",
    "                total_loss_e += batch_loss.detach().item() * number_of_words\n",
    "                total_number_of_words += number_of_words\n",
    "            \n",
    "                \n",
    "                if i % 500 == 0:\n",
    "                    cur_loss = batch_loss.detach().item() \n",
    "                    tr_ppl_print = np.exp(cur_loss)\n",
    "                    print(\"| epoch {:3d} | batch {} / {} | train_loss {} | train_ppl {}\".format(\n",
    "                            epoch, i, len_train_iter, \n",
    "                            np.round(cur_loss, 3), np.round(tr_ppl_print, 3)))\n",
    "\n",
    "                \n",
    "                if i % 4999 == 1: #len_train_iter - 1:\n",
    "                    cur_loss = batch_loss.detach().item()\n",
    "                    tr_ppl_print = np.exp(cur_loss)\n",
    "                    gc.collect()\n",
    "                    val_loss_eval = evaluate(model, dev_iter, criterion_1)\n",
    "                    val_ppl_print = np.exp(val_loss_eval)\n",
    "                    \n",
    "                    template = \"| epoch {:3d} | batch {} / {} | train_loss {} | train_ppl {} | val_loss {} | val_ppl {}\"\n",
    "                    print(template.format(\n",
    "                            epoch, i, len_train_iter, \n",
    "                            np.round(cur_loss, 3), np.round(tr_ppl_print, 3), \n",
    "                            np.round(val_loss_eval, 3), np.round(val_ppl_print, 3)))\n",
    "\n",
    "                    if val_ppl_print < best_ppl :\n",
    "                        print('old best ppl {} new best ppl {}'.format(best_ppl, val_ppl_print))\n",
    "                        best_ppl = val_ppl_print\n",
    "                        best_model_name = '{}_{}.model'.format(model_name, best_ppl)\n",
    "                        print('save model...', best_model_name)\n",
    "                        with open(best_model_name, 'wb') as file:\n",
    "                            torch.save(model, file) \n",
    "\n",
    "                    gc.collect()\n",
    "                    model.train()\n",
    "                    \n",
    "                if i == 40000: break"
   ]
  },
  {
   "cell_type": "code",
   "execution_count": 32,
   "metadata": {},
   "outputs": [],
   "source": [
    "with open('./baseline_2c/best_model_65.49184179009306.model', 'rb') as file:\n",
    "    model = torch.load(file)\n",
    "    model.eval()"
   ]
  },
  {
   "cell_type": "code",
   "execution_count": 33,
   "metadata": {},
   "outputs": [
    {
     "data": {
      "text/plain": [
       "BaseModel(\n",
       "  (drop): Dropout(p=0.5)\n",
       "  (word_embedding): Embedding(12304, 300)\n",
       "  (label_embedding): Embedding(7, 20)\n",
       "  (rnn): LSTM(340, 1024, num_layers=2, dropout=0.5)\n",
       "  (decoder): Linear(in_features=1024, out_features=12304, bias=True)\n",
       ")"
      ]
     },
     "execution_count": 33,
     "metadata": {},
     "output_type": "execute_result"
    }
   ],
   "source": [
    "model"
   ]
  },
  {
   "cell_type": "code",
   "execution_count": 34,
   "metadata": {},
   "outputs": [],
   "source": [
    "learning_rate = 0.001\n",
    "\n",
    "optimizer = torch.optim.Adadelta(model.parameters(), lr=learning_rate)#, betas=(.9999, .9999))\n",
    "\n",
    "\n",
    "def criterion(predictions, targets, labels, targets_shape):\n",
    "    \"\"\"\n",
    "    labels: [1, 0, 0, 1, ...] 1: hit, 0: miss\n",
    "    \"\"\"\n",
    "    c = nn.CrossEntropyLoss(reduction='none',\n",
    "                           ignore_index=train_dataset.fields[\"review_text\"].vocab.stoi['<pad>']).cuda()\n",
    "    out = c(predictions, targets)\n",
    "    out = (out.view(*targets_shape) * (1 - labels)).mean()\n",
    "    return out\n",
    "\n",
    "def criterion_1(predictions, targets, labels, targets_shape):\n",
    "    c = nn.CrossEntropyLoss(reduction='none',\n",
    "                           ignore_index=train_dataset.fields[\"review_text\"].vocab.stoi['<pad>']).cuda()\n",
    "    out = c(predictions, targets)\n",
    "    out = out.mean()\n",
    "    return out"
   ]
  },
  {
   "cell_type": "code",
   "execution_count": 28,
   "metadata": {},
   "outputs": [
    {
     "name": "stdout",
     "output_type": "stream",
     "text": [
      "5963.769960403442 1300\n"
     ]
    },
    {
     "data": {
      "text/plain": [
       "4.587515354156494"
      ]
     },
     "execution_count": 28,
     "metadata": {},
     "output_type": "execute_result"
    }
   ],
   "source": [
    "evaluate(model, val_list[-100:-99], criterion, teacher_forcing=True)"
   ]
  },
  {
   "cell_type": "code",
   "execution_count": 27,
   "metadata": {},
   "outputs": [
    {
     "data": {
      "text/plain": [
       "129.17855108205998"
      ]
     },
     "execution_count": 27,
     "metadata": {},
     "output_type": "execute_result"
    }
   ],
   "source": [
    "np.exp(4.8611955642700195)"
   ]
  },
  {
   "cell_type": "code",
   "execution_count": null,
   "metadata": {},
   "outputs": [],
   "source": [
    "train(model,\n",
    "      ep0 = 0,\n",
    "      epN = 1,\n",
    "      train_iter = train_iter,\n",
    "      dev_iter = val_iter,\n",
    "      optimizer = optimizer,\n",
    "      criterion = criterion,\n",
    "      max_grad_norm = 10,\n",
    "      model_name = 'no-teacher-forcing/model_ppl_2c_',\n",
    "      best_ppl = float('inf'))"
   ]
  },
  {
   "cell_type": "code",
   "execution_count": null,
   "metadata": {},
   "outputs": [],
   "source": []
  },
  {
   "cell_type": "code",
   "execution_count": null,
   "metadata": {},
   "outputs": [],
   "source": []
  },
  {
   "cell_type": "code",
   "execution_count": null,
   "metadata": {},
   "outputs": [],
   "source": []
  },
  {
   "cell_type": "code",
   "execution_count": null,
   "metadata": {},
   "outputs": [],
   "source": []
  }
 ],
 "metadata": {
  "kernelspec": {
   "display_name": "Python 3",
   "language": "python",
   "name": "python3"
  },
  "language_info": {
   "codemirror_mode": {
    "name": "ipython",
    "version": 3
   },
   "file_extension": ".py",
   "mimetype": "text/x-python",
   "name": "python",
   "nbconvert_exporter": "python",
   "pygments_lexer": "ipython3",
   "version": "3.6.5"
  }
 },
 "nbformat": 4,
 "nbformat_minor": 2
}

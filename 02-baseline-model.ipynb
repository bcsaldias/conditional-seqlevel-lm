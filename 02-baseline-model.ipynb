{
 "cells": [
  {
   "cell_type": "code",
   "execution_count": 1,
   "metadata": {},
   "outputs": [],
   "source": [
    "from data_generators import get_iterator, get_dataset\n",
    "from classifiers import theme_classifier"
   ]
  },
  {
   "cell_type": "code",
   "execution_count": 2,
   "metadata": {},
   "outputs": [],
   "source": [
    "train_dataset, val_dataset, test_dataset = get_dataset()"
   ]
  },
  {
   "cell_type": "code",
   "execution_count": 3,
   "metadata": {},
   "outputs": [],
   "source": [
    "train_iter = get_iterator(train_dataset, 32, train=True, shuffle=False, repeat=False)\n",
    "val_iter = get_iterator(val_dataset, 32, train=False, shuffle=False, repeat=False)\n",
    "test_iter = get_iterator(test_dataset, 32, train=False, shuffle=False, repeat=False)"
   ]
  },
  {
   "cell_type": "code",
   "execution_count": 4,
   "metadata": {},
   "outputs": [],
   "source": [
    "list_train = list(train_iter)"
   ]
  },
  {
   "cell_type": "code",
   "execution_count": 11,
   "metadata": {},
   "outputs": [
    {
     "name": "stdout",
     "output_type": "stream",
     "text": [
      "Great micro budget film with decent writing and acting . | plot\n",
      "Vince Vaughn 's acting was really good as well . | acting\n",
      "Mark <unk> returning as joker saves this mildly disappointing film | other\n",
      "For those in doubt , Locke is the proof . | other\n",
      "Great mixture of epic battles and individual character development . | plot\n",
      "I would give it 0 stars if I could . | other\n",
      "I could n't take my eyes off the screen . | other\n",
      "A slightly odd cast in the very strange film . | acting\n",
      "The overall feel is boredom interspersed with nasty violence . | other\n",
      "too many boobs and too many repeated voice overs . | effect\n",
      "And Daniel Radcliffe and Zoe <unk> prove just that . | other\n",
      "The story seemed to be one big loop hole . | plot\n",
      "The trailer was more suspenseful than the actual movie . | effect\n",
      "I 'd give it 0.5 stars if I could . | other\n",
      "The visuals are tremendous and the acting very good . | acting\n",
      "Now , that 's how you make an entrance . | other\n",
      "No plot , no acting and no reason to see | plot\n",
      "There are a lot of hurting people out there . | other\n",
      "Paul Walker 's emotional acting was was truly great . | acting\n",
      "Great acting performances by Maggie Smith & Tom Courtenay . | acting\n",
      "It 's beautifully shot with a great creepy vibe . | effect\n",
      "gripping tale of brotherhood , tom hardy is simply amazing | plot\n",
      "Her motherly instincts really bring out her acting capabilities . | acting\n",
      "That was important to note because of what follows . | other\n",
      "Very good thriller in the style of <unk> Fear . | other\n",
      "Disappointing ending but I enjoyed where it was going . | other\n",
      "I 'd even rather watch the Blair Witch again . | other\n",
      "Plot not as good as first , but great comedy | plot\n",
      "Well , is this not enough more colorful people ? | other\n",
      "Think twice about the water you drink next time . | other\n",
      "He went to the super villain 's base unprepared . | other\n",
      "uses some perfect scenery and extensively detailed production design . | production\n"
     ]
    }
   ],
   "source": [
    "batch = list_train[5600]\n",
    "x = batch.review_text.transpose(1, 0).int()\n",
    "y = batch.theme.int()\n",
    "\n",
    "for idx in range(x.shape[0]):\n",
    "    #print(x.shape, y.shape)\n",
    "    print(\"{} | {}\".format(' '.join([train_dataset.fields['review_text'].vocab.itos[_] for _ in x[idx]]),\n",
    "         train_dataset.fields['theme'].vocab.itos[y[idx]]))"
   ]
  },
  {
   "cell_type": "code",
   "execution_count": null,
   "metadata": {},
   "outputs": [],
   "source": []
  },
  {
   "cell_type": "code",
   "execution_count": null,
   "metadata": {},
   "outputs": [],
   "source": []
  },
  {
   "cell_type": "code",
   "execution_count": null,
   "metadata": {},
   "outputs": [],
   "source": []
  },
  {
   "cell_type": "code",
   "execution_count": null,
   "metadata": {},
   "outputs": [],
   "source": []
  }
 ],
 "metadata": {
  "kernelspec": {
   "display_name": "Python 3",
   "language": "python",
   "name": "python3"
  },
  "language_info": {
   "codemirror_mode": {
    "name": "ipython",
    "version": 3
   },
   "file_extension": ".py",
   "mimetype": "text/x-python",
   "name": "python",
   "nbconvert_exporter": "python",
   "pygments_lexer": "ipython3",
   "version": "3.6.5"
  }
 },
 "nbformat": 4,
 "nbformat_minor": 2
}

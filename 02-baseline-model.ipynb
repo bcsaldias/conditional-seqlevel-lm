{
 "cells": [
  {
   "cell_type": "code",
   "execution_count": 1,
   "metadata": {},
   "outputs": [],
   "source": [
    "from data_generators import get_iterator, get_dataset\n",
    "from classifiers import theme_classifier"
   ]
  },
  {
   "cell_type": "code",
   "execution_count": 2,
   "metadata": {},
   "outputs": [],
   "source": [
    "import torch\n",
    "import torch.nn as nn"
   ]
  },
  {
   "cell_type": "code",
   "execution_count": 3,
   "metadata": {},
   "outputs": [],
   "source": [
    "from torchtext.vocab import GloVe \n",
    "GLOVE_EMBEDDING = GloVe(name=\"6B\", dim=300)"
   ]
  },
  {
   "cell_type": "code",
   "execution_count": 4,
   "metadata": {},
   "outputs": [],
   "source": [
    "train_dataset, val_dataset, test_dataset, review_text_FIELD, theme_FIELD = get_dataset(vectors = \n",
    "                                                                                       GLOVE_EMBEDDING)"
   ]
  },
  {
   "cell_type": "code",
   "execution_count": 5,
   "metadata": {},
   "outputs": [],
   "source": [
    "batch_size = 32\n",
    "train_iter = get_iterator(train_dataset, batch_size, train=True, shuffle=False, repeat=False)\n",
    "val_iter = get_iterator(val_dataset, batch_size, train=False, shuffle=False, repeat=False)\n",
    "test_iter = get_iterator(test_dataset, batch_size, train=False, shuffle=False, repeat=False)"
   ]
  },
  {
   "cell_type": "code",
   "execution_count": 6,
   "metadata": {},
   "outputs": [],
   "source": [
    "list_train = list(val_iter)"
   ]
  },
  {
   "cell_type": "code",
   "execution_count": 7,
   "metadata": {},
   "outputs": [
    {
     "name": "stdout",
     "output_type": "stream",
     "text": [
      "as usual sad true story ... but great acting | plot\n",
      "anything with jennifer lawrence is worth your time . | other\n",
      "you 'll find them in `` dirty grandpa . | other\n",
      "no direction , worthwhile plot , or acting . | plot\n",
      "although be warned there are some gory scenes . | plot\n",
      "one of the best musical movie for me . | other\n",
      "so disappointed in jake gyllenhall for this one . | other\n",
      "it takes much more than a balance to walk | other\n",
      "that highlights the greatest of a true thriller . | other\n",
      "overall , though , it left me cold . | other\n"
     ]
    }
   ],
   "source": [
    "batch = list_train[600]\n",
    "x = batch.review_text.transpose(1, 0).int()[:10]\n",
    "y = batch.theme.int()\n",
    "\n",
    "for idx in range(x.shape[0]):\n",
    "    #print(x.shape, y.shape)\n",
    "    print(\"{} | {}\".format(' '.join([train_dataset.fields['review_text'].vocab.itos[_] for _ in x[idx]]),\n",
    "         train_dataset.fields['theme'].vocab.itos[y[idx]]))"
   ]
  },
  {
   "cell_type": "code",
   "execution_count": 8,
   "metadata": {},
   "outputs": [],
   "source": [
    "#review_text_FIELD.vocab.vectors.shape, len(review_text_FIELD.vocab.itos)"
   ]
  },
  {
   "cell_type": "code",
   "execution_count": 9,
   "metadata": {},
   "outputs": [
    {
     "data": {
      "text/plain": [
       "['<unk>', 'other', 'plot', 'acting', 'effect', 'production']"
      ]
     },
     "execution_count": 9,
     "metadata": {},
     "output_type": "execute_result"
    }
   ],
   "source": [
    "theme_FIELD.vocab.itos"
   ]
  },
  {
   "cell_type": "code",
   "execution_count": 10,
   "metadata": {},
   "outputs": [
    {
     "data": {
      "text/plain": [
       "5"
      ]
     },
     "execution_count": 10,
     "metadata": {},
     "output_type": "execute_result"
    }
   ],
   "source": [
    "vocab_size = review_text_FIELD.vocab.vectors.shape[0]\n",
    "label_size = len(theme_FIELD.vocab) - 1\n",
    "emb_dim = review_text_FIELD.vocab.vectors.shape[1]\n",
    "vectors = train_dataset.fields[\"review_text\"].vocab.vectors\n",
    "hidden_dim = 500\n",
    "layers = 2\n",
    "dropout = .2\n",
    "\n",
    "label_size"
   ]
  },
  {
   "cell_type": "code",
   "execution_count": 11,
   "metadata": {},
   "outputs": [],
   "source": [
    "class BaseModel(nn.Module):\n",
    "\n",
    "    def __init__(self, \n",
    "                 ninp = vocab_size, \n",
    "                 linp = label_size, \n",
    "                 emb_dim = emb_dim, \n",
    "                 emb_lab = 20,\n",
    "                 nhid = hidden_dim, \n",
    "                 nout = vocab_size, \n",
    "                 nlayers = layers, \n",
    "                 dropout = dropout, \n",
    "                 vectors = vectors,\n",
    "                 pretrained = False):\n",
    "        super().__init__()\n",
    "        \n",
    "        self.ninp = ninp\n",
    "        self.linp = linp\n",
    "        self.emb_dim = emb_dim\n",
    "        self.emb_lab = emb_lab\n",
    "        self.nhid = nhid\n",
    "        self.nout = nout\n",
    "        self.nlayers = nlayers\n",
    "        self.drop = nn.Dropout(dropout)\n",
    "\n",
    "        self.word_embedding = nn.Embedding(ninp, emb_dim)\n",
    "        self.label_embedding = nn.Embedding(linp, emb_lab)\n",
    "        \n",
    "        self.rnn = nn.LSTM(emb_dim + emb_lab, nhid, nlayers, dropout=dropout)\n",
    "        self.rnn.flatten_parameters()\n",
    "        self.decoder = nn.Linear(nhid, nout)\n",
    "        self.softmax = nn.LogSoftmax(dim=-1)\n",
    "\n",
    "        if pretrained:\n",
    "            self.encoder.weight.data = vectors\n",
    "            \n",
    "    def init_weights(self):\n",
    "        initrange = .1\n",
    "        self.decoder.bias.data.zero_()\n",
    "        self.decoder.weight.data.uniform_(-initrange, initrange)\n",
    "\n",
    "    def forward(self, reviews, labels, hidden):\n",
    "        R = self.word_embedding(reviews)\n",
    "        L = self.label_embedding(labels)\n",
    "        L = torch.cat([L.unsqueeze(0)]*R.shape[0])\n",
    "        X = torch.cat([R, L], -1)\n",
    "        \n",
    "        X, hidden = self.rnn(X, hidden)\n",
    "        X = X.view(X.size(0)*X.size(1), X.size(2))\n",
    "        \n",
    "        X = self.decoder(X)\n",
    "        log_probs = self.softmax(X)\n",
    "        return log_probs, hidden\n",
    "      "
   ]
  },
  {
   "cell_type": "code",
   "execution_count": 12,
   "metadata": {},
   "outputs": [],
   "source": [
    "def repackage_hidden(h):\n",
    "    if isinstance(h, torch.Tensor):\n",
    "        return h.detach()\n",
    "    else:\n",
    "        return tuple(repackage_hidden(v) for v in h)"
   ]
  },
  {
   "cell_type": "code",
   "execution_count": 22,
   "metadata": {},
   "outputs": [],
   "source": [
    "def evaluate(data_source):\n",
    "    # Turn on evaluation mode which disables dropout.\n",
    "    model.eval()\n",
    "    total_loss_e = 0\n",
    "    total_number_of_words = 0\n",
    "\n",
    "    with torch.no_grad():\n",
    "        for i, batch in enumerate(data_source):\n",
    "            labels = batch.theme.cuda().long() - 1\n",
    "            batch = batch.review_text.cuda().long()\n",
    "            hidden = None\n",
    "            if batch.shape[0] > 1:\n",
    "                data, targets = batch[:-1,:], batch[1:,:]\n",
    "                number_of_words = data.shape[0]*data.shape[1]\n",
    "                \n",
    "                output, hidden = model(data, labels, hidden)\n",
    "                output_flat = output.contiguous().view(-1, vocab_size)\n",
    "\n",
    "                total_loss_e += criterion(output_flat, targets.contiguous().view(-1)).data.float()\n",
    "                total_number_of_words += number_of_words\n",
    "                hidden = repackage_hidden(hidden)\n",
    "            \n",
    "    return total_loss_e.item() / total_number_of_words"
   ]
  },
  {
   "cell_type": "code",
   "execution_count": 23,
   "metadata": {},
   "outputs": [],
   "source": [
    "import numpy as np\n",
    "import gc"
   ]
  },
  {
   "cell_type": "code",
   "execution_count": 24,
   "metadata": {},
   "outputs": [],
   "source": [
    "def train(model, ep0, epN, train_iter, dev_iter, optimizer, criterion, \n",
    "          max_grad_norm, model_name, best_ppl = float('inf')):\n",
    "    \n",
    "    best_ppl = best_ppl\n",
    "    \n",
    "    len_train_iter = len(train_iter)\n",
    "    for epoch in range(ep0, epN):\n",
    "        model.train()\n",
    "        total_loss_e = 0\n",
    "        total_number_of_words = 0 \n",
    "        \n",
    "        for i, batch in enumerate(train_iter):\n",
    "\n",
    "            labels = batch.theme.cuda().long() - 1\n",
    "            batch = batch.review_text.cuda().long()\n",
    "            hidden = None\n",
    "            if batch.shape[0] > 1:\n",
    "                data, targets = batch[:-1,:], batch[1:,:]\n",
    "                number_of_words = data.shape[0]*data.shape[1]\n",
    "                \n",
    "                output, hidden = model(data, labels, hidden)\n",
    "                hidden = repackage_hidden(hidden)\n",
    "\n",
    "                output_flat = output.contiguous().view(-1, vocab_size)\n",
    "                epoch_loss = criterion(output_flat, targets.contiguous().view(-1))\n",
    "                total_loss_e += epoch_loss.data.float()\n",
    "                total_number_of_words += number_of_words\n",
    "            \n",
    "                torch.nn.utils.clip_grad_norm_(model.parameters(),max_grad_norm)\n",
    "                optimizer.zero_grad()\n",
    "                epoch_loss.backward()\n",
    "                optimizer.step()\n",
    "\n",
    "                if i % 500 == 0:\n",
    "                    cur_loss = epoch_loss.item() / number_of_words\n",
    "                    tr_ppl_print = np.exp(cur_loss)\n",
    "                    print(\"| epoch {:3d} | batch {} / {} | train_loss {} | train_ppl {}\".format(\n",
    "                            epoch, i, len_train_iter, \n",
    "                            np.round(cur_loss, 3), np.round(tr_ppl_print, 3)))\n",
    "\n",
    "                #gc.collect()\n",
    "                torch.cuda.empty_cache()\n",
    "                \n",
    "                if i % 5000 == 0:\n",
    "                    cur_loss = total_loss_e.item() / total_number_of_words\n",
    "                    tr_ppl_print = np.exp(cur_loss)\n",
    "                    val_loss_eval = evaluate(dev_iter)\n",
    "                    val_ppl_print = np.exp(val_loss_eval)\n",
    "                    \n",
    "                    template = \"| epoch {:3d} | batch {} / {} | train_loss {} | train_ppl {} | val_loss {} | val_ppl {}\"\n",
    "                    print(template.format(\n",
    "                            epoch, i, len_train_iter, \n",
    "                            np.round(cur_loss, 3), np.round(tr_ppl_print, 3), \n",
    "                            np.round(val_loss_eval, 3), np.round(val_ppl_print, 3)))\n",
    "\n",
    "                    if val_ppl_print < best_ppl :\n",
    "                        print('old best ppl {} new best ppl {}'.format(best_ppl, val_ppl_print))\n",
    "                        best_ppl = val_ppl_print\n",
    "                        best_model_name = 'best_model_{}_{}.model'.format(model_name, best_ppl)\n",
    "                        print('save model...', best_model_name)\n",
    "                        with open(best_model_name, 'wb') as file:\n",
    "                            torch.save(model, file) \n",
    "\n",
    "                    gc.collect()\n",
    "                    model.train()\n"
   ]
  },
  {
   "cell_type": "code",
   "execution_count": 25,
   "metadata": {},
   "outputs": [],
   "source": [
    "with open('./best_model_base_model_ppl_99.14475134799753.model', 'rb') as file:\n",
    "    model = torch.load(file)#BaseModel().cuda()\n",
    "    model.eval()"
   ]
  },
  {
   "cell_type": "code",
   "execution_count": 26,
   "metadata": {},
   "outputs": [],
   "source": [
    "# implement PPL\n",
    "learning_rate = 0.001\n",
    "criterion = nn.NLLLoss(reduction='sum', \n",
    "                       ignore_index=train_dataset.fields[\"review_text\"].vocab.stoi['<pad>']).cuda()\n",
    "optimizer = torch.optim.Adam(model.parameters(), lr=learning_rate)"
   ]
  },
  {
   "cell_type": "code",
   "execution_count": null,
   "metadata": {},
   "outputs": [
    {
     "name": "stdout",
     "output_type": "stream",
     "text": [
      "| epoch   0 | batch 500 / 21962 | train_loss 2.832 | train_ppl 16.985\n",
      "| epoch   0 | batch 1000 / 21962 | train_loss 3.256 | train_ppl 25.955\n",
      "| epoch   0 | batch 1500 / 21962 | train_loss 3.618 | train_ppl 37.259\n",
      "| epoch   0 | batch 2000 / 21962 | train_loss 3.495 | train_ppl 32.935\n",
      "| epoch   0 | batch 2500 / 21962 | train_loss 3.67 | train_ppl 39.243\n"
     ]
    }
   ],
   "source": [
    "train(model,\n",
    "      ep0 = 0,\n",
    "      epN = 1,\n",
    "      train_iter = train_iter,\n",
    "      dev_iter = val_iter,\n",
    "      optimizer = optimizer,\n",
    "      criterion = criterion,\n",
    "      max_grad_norm = 5,\n",
    "      model_name = 'base_model_ppl',\n",
    "      best_ppl = 99.14475134799753)"
   ]
  },
  {
   "cell_type": "code",
   "execution_count": null,
   "metadata": {},
   "outputs": [],
   "source": []
  },
  {
   "cell_type": "code",
   "execution_count": null,
   "metadata": {},
   "outputs": [],
   "source": []
  },
  {
   "cell_type": "code",
   "execution_count": 21,
   "metadata": {},
   "outputs": [
    {
     "name": "stdout",
     "output_type": "stream",
     "text": [
      "| epoch   0 | batch 500 / 21962 | train_loss 2.932 | train_ppl 18.762\n",
      "| epoch   0 | batch 1000 / 21962 | train_loss 3.303 | train_ppl 27.189\n",
      "| epoch   0 | batch 1500 / 21962 | train_loss 3.431 | train_ppl 30.908\n",
      "| epoch   0 | batch 2000 / 21962 | train_loss 3.313 | train_ppl 27.462\n",
      "| epoch   0 | batch 2500 / 21962 | train_loss 3.475 | train_ppl 32.303\n",
      "| epoch   0 | batch 3000 / 21962 | train_loss 3.954 | train_ppl 52.138\n",
      "| epoch   0 | batch 3500 / 21962 | train_loss 3.463 | train_ppl 31.923\n",
      "| epoch   0 | batch 4000 / 21962 | train_loss 3.518 | train_ppl 33.719\n",
      "| epoch   0 | batch 4500 / 21962 | train_loss 3.505 | train_ppl 33.285\n",
      "| epoch   0 | batch 5000 / 21962 | train_loss 3.228 | train_ppl 25.219\n",
      "| epoch   0 | batch 5000 / 21962 | train_loss 3.487 | train_ppl 32.68 | val_loss 6.979 | val_ppl 1073.763\n",
      "old best ppl inf new best ppl 1073.7626701856088\n",
      "save model... best_model_base_model_ppl_1073.7626701856088.model\n"
     ]
    },
    {
     "name": "stderr",
     "output_type": "stream",
     "text": [
      "/home/ubuntu/anaconda3/envs/pytorch_p36/lib/python3.6/site-packages/torch/serialization.py:251: UserWarning: Couldn't retrieve source code for container of type BaseModel. It won't be checked for correctness upon loading.\n",
      "  \"type \" + obj.__name__ + \". It won't be checked \"\n"
     ]
    },
    {
     "name": "stdout",
     "output_type": "stream",
     "text": [
      "| epoch   0 | batch 5500 / 21962 | train_loss 4.429 | train_ppl 83.819\n",
      "| epoch   0 | batch 6000 / 21962 | train_loss 4.274 | train_ppl 71.807\n",
      "| epoch   0 | batch 6500 / 21962 | train_loss 4.038 | train_ppl 56.72\n",
      "| epoch   0 | batch 7000 / 21962 | train_loss 4.28 | train_ppl 72.221\n",
      "| epoch   0 | batch 7500 / 21962 | train_loss 3.804 | train_ppl 44.872\n",
      "| epoch   0 | batch 8000 / 21962 | train_loss 4.425 | train_ppl 83.546\n",
      "| epoch   0 | batch 8500 / 21962 | train_loss 4.624 | train_ppl 101.86\n",
      "| epoch   0 | batch 9000 / 21962 | train_loss 4.54 | train_ppl 93.711\n",
      "| epoch   0 | batch 9500 / 21962 | train_loss 3.895 | train_ppl 49.158\n",
      "| epoch   0 | batch 10000 / 21962 | train_loss 4.277 | train_ppl 72.002\n",
      "| epoch   0 | batch 10000 / 21962 | train_loss 4.066 | train_ppl 58.341 | val_loss 5.487 | val_ppl 241.568\n",
      "old best ppl 1073.7626701856088 new best ppl 241.567588025592\n",
      "save model... best_model_base_model_ppl_241.567588025592.model\n",
      "| epoch   0 | batch 10500 / 21962 | train_loss 4.151 | train_ppl 63.512\n",
      "| epoch   0 | batch 11000 / 21962 | train_loss 4.546 | train_ppl 94.273\n",
      "| epoch   0 | batch 11500 / 21962 | train_loss 4.451 | train_ppl 85.715\n",
      "| epoch   0 | batch 12000 / 21962 | train_loss 4.22 | train_ppl 68.0\n",
      "| epoch   0 | batch 12500 / 21962 | train_loss 4.387 | train_ppl 80.422\n",
      "| epoch   0 | batch 13000 / 21962 | train_loss 4.448 | train_ppl 85.447\n",
      "| epoch   0 | batch 13500 / 21962 | train_loss 3.968 | train_ppl 52.859\n",
      "| epoch   0 | batch 14000 / 21962 | train_loss 4.731 | train_ppl 113.407\n",
      "| epoch   0 | batch 14500 / 21962 | train_loss 4.096 | train_ppl 60.122\n",
      "| epoch   0 | batch 15000 / 21962 | train_loss 4.662 | train_ppl 105.891\n",
      "| epoch   0 | batch 15000 / 21962 | train_loss 4.251 | train_ppl 70.185 | val_loss 5.019 | val_ppl 151.312\n",
      "old best ppl 241.567588025592 new best ppl 151.31192073078242\n",
      "save model... best_model_base_model_ppl_151.31192073078242.model\n",
      "| epoch   0 | batch 15500 / 21962 | train_loss 4.215 | train_ppl 67.723\n",
      "| epoch   0 | batch 16000 / 21962 | train_loss 4.589 | train_ppl 98.384\n",
      "| epoch   0 | batch 16500 / 21962 | train_loss 4.344 | train_ppl 77.033\n",
      "| epoch   0 | batch 17000 / 21962 | train_loss 4.788 | train_ppl 120.022\n",
      "| epoch   0 | batch 17500 / 21962 | train_loss 4.32 | train_ppl 75.19\n",
      "| epoch   0 | batch 18000 / 21962 | train_loss 4.442 | train_ppl 84.986\n",
      "| epoch   0 | batch 18500 / 21962 | train_loss 4.401 | train_ppl 81.513\n",
      "| epoch   0 | batch 19000 / 21962 | train_loss 4.44 | train_ppl 84.759\n",
      "| epoch   0 | batch 19500 / 21962 | train_loss 4.464 | train_ppl 86.812\n",
      "| epoch   0 | batch 20000 / 21962 | train_loss 4.534 | train_ppl 93.096\n",
      "| epoch   0 | batch 20000 / 21962 | train_loss 4.365 | train_ppl 78.663 | val_loss 4.597 | val_ppl 99.145\n",
      "old best ppl 151.31192073078242 new best ppl 99.14475134799753\n",
      "save model... best_model_base_model_ppl_99.14475134799753.model\n",
      "| epoch   0 | batch 20500 / 21962 | train_loss 4.721 | train_ppl 112.26\n",
      "| epoch   0 | batch 21000 / 21962 | train_loss 4.666 | train_ppl 106.305\n",
      "| epoch   0 | batch 21500 / 21962 | train_loss 4.681 | train_ppl 107.843\n"
     ]
    },
    {
     "ename": "RuntimeError",
     "evalue": "CUDA out of memory. Tried to allocate 4.49 GiB (GPU 0; 11.17 GiB total capacity; 7.44 GiB already allocated; 2.82 GiB free; 651.00 MiB cached)",
     "output_type": "error",
     "traceback": [
      "\u001b[0;31m---------------------------------------------------------------------------\u001b[0m",
      "\u001b[0;31mRuntimeError\u001b[0m                              Traceback (most recent call last)",
      "\u001b[0;32m<ipython-input-21-cd57e480fe1e>\u001b[0m in \u001b[0;36m<module>\u001b[0;34m()\u001b[0m\n\u001b[1;32m      7\u001b[0m       \u001b[0mmax_grad_norm\u001b[0m \u001b[0;34m=\u001b[0m \u001b[0;36m5\u001b[0m\u001b[0;34m,\u001b[0m\u001b[0;34m\u001b[0m\u001b[0m\n\u001b[1;32m      8\u001b[0m       \u001b[0mmodel_name\u001b[0m \u001b[0;34m=\u001b[0m \u001b[0;34m'base_model_ppl'\u001b[0m\u001b[0;34m,\u001b[0m\u001b[0;34m\u001b[0m\u001b[0m\n\u001b[0;32m----> 9\u001b[0;31m       best_ppl = float('inf'))\n\u001b[0m",
      "\u001b[0;32m<ipython-input-20-cd7aabf329f2>\u001b[0m in \u001b[0;36mtrain\u001b[0;34m(ep0, epN, train_iter, dev_iter, optimizer, criterion, max_grad_norm, model_name, best_ppl)\u001b[0m\n\u001b[1;32m     19\u001b[0m                 \u001b[0mnumber_of_words\u001b[0m \u001b[0;34m=\u001b[0m \u001b[0mdata\u001b[0m\u001b[0;34m.\u001b[0m\u001b[0mshape\u001b[0m\u001b[0;34m[\u001b[0m\u001b[0;36m0\u001b[0m\u001b[0;34m]\u001b[0m\u001b[0;34m*\u001b[0m\u001b[0mdata\u001b[0m\u001b[0;34m.\u001b[0m\u001b[0mshape\u001b[0m\u001b[0;34m[\u001b[0m\u001b[0;36m1\u001b[0m\u001b[0;34m]\u001b[0m\u001b[0;34m\u001b[0m\u001b[0m\n\u001b[1;32m     20\u001b[0m \u001b[0;34m\u001b[0m\u001b[0m\n\u001b[0;32m---> 21\u001b[0;31m                 \u001b[0moutput\u001b[0m\u001b[0;34m,\u001b[0m \u001b[0mhidden\u001b[0m \u001b[0;34m=\u001b[0m \u001b[0mmodel\u001b[0m\u001b[0;34m(\u001b[0m\u001b[0mdata\u001b[0m\u001b[0;34m,\u001b[0m \u001b[0mlabels\u001b[0m\u001b[0;34m,\u001b[0m \u001b[0mhidden\u001b[0m\u001b[0;34m)\u001b[0m\u001b[0;34m\u001b[0m\u001b[0m\n\u001b[0m\u001b[1;32m     22\u001b[0m                 \u001b[0mhidden\u001b[0m \u001b[0;34m=\u001b[0m \u001b[0mrepackage_hidden\u001b[0m\u001b[0;34m(\u001b[0m\u001b[0mhidden\u001b[0m\u001b[0;34m)\u001b[0m\u001b[0;34m\u001b[0m\u001b[0m\n\u001b[1;32m     23\u001b[0m \u001b[0;34m\u001b[0m\u001b[0m\n",
      "\u001b[0;32m~/anaconda3/envs/pytorch_p36/lib/python3.6/site-packages/torch/nn/modules/module.py\u001b[0m in \u001b[0;36m__call__\u001b[0;34m(self, *input, **kwargs)\u001b[0m\n\u001b[1;32m    487\u001b[0m             \u001b[0mresult\u001b[0m \u001b[0;34m=\u001b[0m \u001b[0mself\u001b[0m\u001b[0;34m.\u001b[0m\u001b[0m_slow_forward\u001b[0m\u001b[0;34m(\u001b[0m\u001b[0;34m*\u001b[0m\u001b[0minput\u001b[0m\u001b[0;34m,\u001b[0m \u001b[0;34m**\u001b[0m\u001b[0mkwargs\u001b[0m\u001b[0;34m)\u001b[0m\u001b[0;34m\u001b[0m\u001b[0m\n\u001b[1;32m    488\u001b[0m         \u001b[0;32melse\u001b[0m\u001b[0;34m:\u001b[0m\u001b[0;34m\u001b[0m\u001b[0m\n\u001b[0;32m--> 489\u001b[0;31m             \u001b[0mresult\u001b[0m \u001b[0;34m=\u001b[0m \u001b[0mself\u001b[0m\u001b[0;34m.\u001b[0m\u001b[0mforward\u001b[0m\u001b[0;34m(\u001b[0m\u001b[0;34m*\u001b[0m\u001b[0minput\u001b[0m\u001b[0;34m,\u001b[0m \u001b[0;34m**\u001b[0m\u001b[0mkwargs\u001b[0m\u001b[0;34m)\u001b[0m\u001b[0;34m\u001b[0m\u001b[0m\n\u001b[0m\u001b[1;32m    490\u001b[0m         \u001b[0;32mfor\u001b[0m \u001b[0mhook\u001b[0m \u001b[0;32min\u001b[0m \u001b[0mself\u001b[0m\u001b[0;34m.\u001b[0m\u001b[0m_forward_hooks\u001b[0m\u001b[0;34m.\u001b[0m\u001b[0mvalues\u001b[0m\u001b[0;34m(\u001b[0m\u001b[0;34m)\u001b[0m\u001b[0;34m:\u001b[0m\u001b[0;34m\u001b[0m\u001b[0m\n\u001b[1;32m    491\u001b[0m             \u001b[0mhook_result\u001b[0m \u001b[0;34m=\u001b[0m \u001b[0mhook\u001b[0m\u001b[0;34m(\u001b[0m\u001b[0mself\u001b[0m\u001b[0;34m,\u001b[0m \u001b[0minput\u001b[0m\u001b[0;34m,\u001b[0m \u001b[0mresult\u001b[0m\u001b[0;34m)\u001b[0m\u001b[0;34m\u001b[0m\u001b[0m\n",
      "\u001b[0;32m<ipython-input-11-e5015db71be4>\u001b[0m in \u001b[0;36mforward\u001b[0;34m(self, reviews, labels, hidden)\u001b[0m\n\u001b[1;32m     49\u001b[0m \u001b[0;34m\u001b[0m\u001b[0m\n\u001b[1;32m     50\u001b[0m         \u001b[0mX\u001b[0m \u001b[0;34m=\u001b[0m \u001b[0mself\u001b[0m\u001b[0;34m.\u001b[0m\u001b[0mdecoder\u001b[0m\u001b[0;34m(\u001b[0m\u001b[0mX\u001b[0m\u001b[0;34m)\u001b[0m\u001b[0;34m\u001b[0m\u001b[0m\n\u001b[0;32m---> 51\u001b[0;31m         \u001b[0mlog_probs\u001b[0m \u001b[0;34m=\u001b[0m \u001b[0mself\u001b[0m\u001b[0;34m.\u001b[0m\u001b[0msoftmax\u001b[0m\u001b[0;34m(\u001b[0m\u001b[0mX\u001b[0m\u001b[0;34m)\u001b[0m\u001b[0;34m\u001b[0m\u001b[0m\n\u001b[0m\u001b[1;32m     52\u001b[0m         \u001b[0;32mreturn\u001b[0m \u001b[0mlog_probs\u001b[0m\u001b[0;34m,\u001b[0m \u001b[0mhidden\u001b[0m\u001b[0;34m\u001b[0m\u001b[0m\n\u001b[1;32m     53\u001b[0m \u001b[0;34m\u001b[0m\u001b[0m\n",
      "\u001b[0;32m~/anaconda3/envs/pytorch_p36/lib/python3.6/site-packages/torch/nn/modules/module.py\u001b[0m in \u001b[0;36m__call__\u001b[0;34m(self, *input, **kwargs)\u001b[0m\n\u001b[1;32m    487\u001b[0m             \u001b[0mresult\u001b[0m \u001b[0;34m=\u001b[0m \u001b[0mself\u001b[0m\u001b[0;34m.\u001b[0m\u001b[0m_slow_forward\u001b[0m\u001b[0;34m(\u001b[0m\u001b[0;34m*\u001b[0m\u001b[0minput\u001b[0m\u001b[0;34m,\u001b[0m \u001b[0;34m**\u001b[0m\u001b[0mkwargs\u001b[0m\u001b[0;34m)\u001b[0m\u001b[0;34m\u001b[0m\u001b[0m\n\u001b[1;32m    488\u001b[0m         \u001b[0;32melse\u001b[0m\u001b[0;34m:\u001b[0m\u001b[0;34m\u001b[0m\u001b[0m\n\u001b[0;32m--> 489\u001b[0;31m             \u001b[0mresult\u001b[0m \u001b[0;34m=\u001b[0m \u001b[0mself\u001b[0m\u001b[0;34m.\u001b[0m\u001b[0mforward\u001b[0m\u001b[0;34m(\u001b[0m\u001b[0;34m*\u001b[0m\u001b[0minput\u001b[0m\u001b[0;34m,\u001b[0m \u001b[0;34m**\u001b[0m\u001b[0mkwargs\u001b[0m\u001b[0;34m)\u001b[0m\u001b[0;34m\u001b[0m\u001b[0m\n\u001b[0m\u001b[1;32m    490\u001b[0m         \u001b[0;32mfor\u001b[0m \u001b[0mhook\u001b[0m \u001b[0;32min\u001b[0m \u001b[0mself\u001b[0m\u001b[0;34m.\u001b[0m\u001b[0m_forward_hooks\u001b[0m\u001b[0;34m.\u001b[0m\u001b[0mvalues\u001b[0m\u001b[0;34m(\u001b[0m\u001b[0;34m)\u001b[0m\u001b[0;34m:\u001b[0m\u001b[0;34m\u001b[0m\u001b[0m\n\u001b[1;32m    491\u001b[0m             \u001b[0mhook_result\u001b[0m \u001b[0;34m=\u001b[0m \u001b[0mhook\u001b[0m\u001b[0;34m(\u001b[0m\u001b[0mself\u001b[0m\u001b[0;34m,\u001b[0m \u001b[0minput\u001b[0m\u001b[0;34m,\u001b[0m \u001b[0mresult\u001b[0m\u001b[0;34m)\u001b[0m\u001b[0;34m\u001b[0m\u001b[0m\n",
      "\u001b[0;32m~/anaconda3/envs/pytorch_p36/lib/python3.6/site-packages/torch/nn/modules/activation.py\u001b[0m in \u001b[0;36mforward\u001b[0;34m(self, input)\u001b[0m\n\u001b[1;32m    934\u001b[0m     \u001b[0;34m@\u001b[0m\u001b[0mweak_script_method\u001b[0m\u001b[0;34m\u001b[0m\u001b[0m\n\u001b[1;32m    935\u001b[0m     \u001b[0;32mdef\u001b[0m \u001b[0mforward\u001b[0m\u001b[0;34m(\u001b[0m\u001b[0mself\u001b[0m\u001b[0;34m,\u001b[0m \u001b[0minput\u001b[0m\u001b[0;34m)\u001b[0m\u001b[0;34m:\u001b[0m\u001b[0;34m\u001b[0m\u001b[0m\n\u001b[0;32m--> 936\u001b[0;31m         \u001b[0;32mreturn\u001b[0m \u001b[0mF\u001b[0m\u001b[0;34m.\u001b[0m\u001b[0mlog_softmax\u001b[0m\u001b[0;34m(\u001b[0m\u001b[0minput\u001b[0m\u001b[0;34m,\u001b[0m \u001b[0mself\u001b[0m\u001b[0;34m.\u001b[0m\u001b[0mdim\u001b[0m\u001b[0;34m,\u001b[0m \u001b[0m_stacklevel\u001b[0m\u001b[0;34m=\u001b[0m\u001b[0;36m5\u001b[0m\u001b[0;34m)\u001b[0m\u001b[0;34m\u001b[0m\u001b[0m\n\u001b[0m",
      "\u001b[0;32m~/anaconda3/envs/pytorch_p36/lib/python3.6/site-packages/torch/nn/functional.py\u001b[0m in \u001b[0;36mlog_softmax\u001b[0;34m(input, dim, _stacklevel, dtype)\u001b[0m\n\u001b[1;32m   1293\u001b[0m         \u001b[0mdim\u001b[0m \u001b[0;34m=\u001b[0m \u001b[0mtorch\u001b[0m\u001b[0;34m.\u001b[0m\u001b[0mjit\u001b[0m\u001b[0;34m.\u001b[0m\u001b[0m_unwrap_optional\u001b[0m\u001b[0;34m(\u001b[0m\u001b[0mdim\u001b[0m\u001b[0;34m)\u001b[0m\u001b[0;34m\u001b[0m\u001b[0m\n\u001b[1;32m   1294\u001b[0m     \u001b[0;32mif\u001b[0m \u001b[0mdtype\u001b[0m \u001b[0;32mis\u001b[0m \u001b[0;32mNone\u001b[0m\u001b[0;34m:\u001b[0m\u001b[0;34m\u001b[0m\u001b[0m\n\u001b[0;32m-> 1295\u001b[0;31m         \u001b[0mret\u001b[0m \u001b[0;34m=\u001b[0m \u001b[0minput\u001b[0m\u001b[0;34m.\u001b[0m\u001b[0mlog_softmax\u001b[0m\u001b[0;34m(\u001b[0m\u001b[0mdim\u001b[0m\u001b[0;34m)\u001b[0m\u001b[0;34m\u001b[0m\u001b[0m\n\u001b[0m\u001b[1;32m   1296\u001b[0m     \u001b[0;32melse\u001b[0m\u001b[0;34m:\u001b[0m\u001b[0;34m\u001b[0m\u001b[0m\n\u001b[1;32m   1297\u001b[0m         \u001b[0m_dtype\u001b[0m \u001b[0;34m=\u001b[0m \u001b[0mtorch\u001b[0m\u001b[0;34m.\u001b[0m\u001b[0mjit\u001b[0m\u001b[0;34m.\u001b[0m\u001b[0m_unwrap_optional\u001b[0m\u001b[0;34m(\u001b[0m\u001b[0mdtype\u001b[0m\u001b[0;34m)\u001b[0m\u001b[0;34m\u001b[0m\u001b[0m\n",
      "\u001b[0;31mRuntimeError\u001b[0m: CUDA out of memory. Tried to allocate 4.49 GiB (GPU 0; 11.17 GiB total capacity; 7.44 GiB already allocated; 2.82 GiB free; 651.00 MiB cached)"
     ]
    }
   ],
   "source": []
  },
  {
   "cell_type": "code",
   "execution_count": null,
   "metadata": {},
   "outputs": [],
   "source": []
  },
  {
   "cell_type": "code",
   "execution_count": null,
   "metadata": {},
   "outputs": [],
   "source": []
  },
  {
   "cell_type": "code",
   "execution_count": null,
   "metadata": {},
   "outputs": [],
   "source": [
    "train(ep0 = 1,\n",
    "      epN = 3,\n",
    "      train_iter = train_iter,\n",
    "      dev_iter = val_iter,\n",
    "      optimizer = optimizer,\n",
    "      criterion = criterion,\n",
    "      max_grad_norm = 5,\n",
    "      model_name = 'base_model_ppl',\n",
    "      best_ppl = float('inf'))"
   ]
  },
  {
   "cell_type": "code",
   "execution_count": null,
   "metadata": {},
   "outputs": [],
   "source": [
    "# Add <sos> and <eos>"
   ]
  },
  {
   "cell_type": "code",
   "execution_count": 59,
   "metadata": {},
   "outputs": [
    {
     "data": {
      "text/plain": [
       "30002"
      ]
     },
     "execution_count": 59,
     "metadata": {},
     "output_type": "execute_result"
    }
   ],
   "source": [
    "vocab_size"
   ]
  },
  {
   "cell_type": "code",
   "execution_count": 60,
   "metadata": {},
   "outputs": [
    {
     "data": {
      "text/plain": [
       "30083.068177308916"
      ]
     },
     "execution_count": 60,
     "metadata": {},
     "output_type": "execute_result"
    }
   ],
   "source": [
    "np.exp(evaluate(val_iter))"
   ]
  },
  {
   "cell_type": "code",
   "execution_count": null,
   "metadata": {},
   "outputs": [],
   "source": []
  }
 ],
 "metadata": {
  "kernelspec": {
   "display_name": "Python 3",
   "language": "python",
   "name": "python3"
  },
  "language_info": {
   "codemirror_mode": {
    "name": "ipython",
    "version": 3
   },
   "file_extension": ".py",
   "mimetype": "text/x-python",
   "name": "python",
   "nbconvert_exporter": "python",
   "pygments_lexer": "ipython3",
   "version": "3.6.5"
  }
 },
 "nbformat": 4,
 "nbformat_minor": 2
}

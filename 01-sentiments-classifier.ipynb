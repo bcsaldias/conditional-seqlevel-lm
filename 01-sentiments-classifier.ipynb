{
 "cells": [
  {
   "cell_type": "code",
   "execution_count": 1,
   "metadata": {},
   "outputs": [],
   "source": [
    "import torch\n",
    "import torchtext\n",
    "from torchtext.vocab import GloVe #Vectors\n",
    "from namedtensor import ntorch, NamedTensor\n",
    "from namedtensor.text import NamedField"
   ]
  },
  {
   "cell_type": "code",
   "execution_count": 2,
   "metadata": {},
   "outputs": [],
   "source": [
    "TEXT = NamedField(names=('seqlen',))\n",
    "LABEL = NamedField(sequential=False, names=(), unk_token=None)"
   ]
  },
  {
   "cell_type": "code",
   "execution_count": 3,
   "metadata": {},
   "outputs": [],
   "source": [
    "#with open('.data/sst/trees/train_r.txt', 'w', encoding='utf-8') as o_file:\n",
    "#    with open('.data/sst/trees/train.txt', encoding='ascii', errors='ignore') as file:\n",
    "#        o_file.write(file.read())"
   ]
  },
  {
   "cell_type": "code",
   "execution_count": 4,
   "metadata": {},
   "outputs": [],
   "source": [
    "train, val, test = torchtext.datasets.SST.splits(\n",
    "    TEXT, LABEL, root='.data/', \n",
    "    train='train_r.txt', validation='dev_r.txt', test='test_r.txt',\n",
    "    filter_pred=lambda ex: ex.label != 'neutral')"
   ]
  },
  {
   "cell_type": "code",
   "execution_count": 5,
   "metadata": {},
   "outputs": [],
   "source": [
    "GLOVE_EMBEDDING = GloVe(name=\"6B\", dim=300)"
   ]
  },
  {
   "cell_type": "code",
   "execution_count": 6,
   "metadata": {},
   "outputs": [
    {
     "name": "stdout",
     "output_type": "stream",
     "text": [
      "len(TEXT.vocab) 16284\n",
      "len(LABEL.vocab) 2\n"
     ]
    }
   ],
   "source": [
    "use_embeddings = True\n",
    "if use_embeddings:\n",
    "    TEXT.build_vocab(train, vectors=GLOVE_EMBEDDING) \n",
    "else:\n",
    "    TEXT.build_vocab(train)\n",
    "LABEL.build_vocab(train)\n",
    "print('len(TEXT.vocab)', len(TEXT.vocab))\n",
    "print('len(LABEL.vocab)', len(LABEL.vocab))"
   ]
  },
  {
   "cell_type": "code",
   "execution_count": 7,
   "metadata": {},
   "outputs": [],
   "source": [
    "train_iter, val_iter, test_iter = torchtext.data.BucketIterator.splits(\n",
    "    (train, val, test), batch_size=10, device=torch.device(\"cuda\"))"
   ]
  },
  {
   "cell_type": "code",
   "execution_count": 8,
   "metadata": {},
   "outputs": [
    {
     "data": {
      "text/plain": [
       "['positive', 'negative']"
      ]
     },
     "execution_count": 8,
     "metadata": {},
     "output_type": "execute_result"
    }
   ],
   "source": [
    "LABEL.vocab.itos"
   ]
  },
  {
   "cell_type": "code",
   "execution_count": 9,
   "metadata": {},
   "outputs": [],
   "source": [
    "def training_loop(model, iterator, optimizer, criterion):\n",
    "    model.train()\n",
    "    epoch_loss = 0  \n",
    "    y_true = []\n",
    "    y_predicted = []\n",
    "    for i, batch in enumerate(iterator):\n",
    "        source = batch.text\n",
    "        target = batch.label\n",
    "        optimizer.zero_grad()\n",
    "        output = model(source)\n",
    "        y_true.append(target)\n",
    "        y_predicted.append(output)\n",
    "        loss = criterion(output, target)\n",
    "        loss.backward()\n",
    "        optimizer.step()\n",
    "        epoch_loss += loss.item()\n",
    "    return epoch_loss / len(iterator), (y_true, y_predicted)\n",
    "  \n",
    "\n",
    "def evaluating_loop(model, iterator, criterion):\n",
    "    model.eval()\n",
    "    epoch_loss = 0\n",
    "    y_true = []\n",
    "    y_predicted = []\n",
    "    with torch.no_grad():\n",
    "        for i, batch in enumerate(iterator):\n",
    "            source = batch.text\n",
    "            target = batch.label\n",
    "            output = model(source)\n",
    "            y_true.append(target)\n",
    "            y_predicted.append(output)\n",
    "            loss = criterion(output, target)\n",
    "            epoch_loss += loss.item()\n",
    "    return epoch_loss / len(iterator), (y_true, y_predicted)\n",
    "\n",
    "def train_model(model, train_iter, val_iter, optimizer, criterion, init_epoch, final_epoch, saved_dir='models', name='m'):\n",
    "\n",
    "    import os\n",
    "    SAVE_DIR = saved_dir\n",
    "    best_valid_loss = float('inf')\n",
    "    best_valid_acc = - float('inf')\n",
    "    if not os.path.isdir(SAVE_DIR):\n",
    "        os.makedirs(SAVE_DIR)\n",
    "  \n",
    "    for epoch in range(init_epoch, final_epoch):\n",
    "        print(\"Training epoch {} - {} batches\".format(epoch, len(train_iter)))\n",
    "        train_loss, (train_y_true, train_y_predicted) = training_loop(model, train_iter, optimizer, criterion)  \n",
    "        _, argmax_predicted = ntorch.cat(train_y_predicted, dim='batch').max('classes')\n",
    "        argmax_true = ntorch.cat(train_y_true, dim='batch')\n",
    "        train_accuracy = (argmax_predicted == argmax_true).sum().float()\n",
    "        train_accuracy = (train_accuracy/argmax_true.shape['batch']).cpu().numpy()\n",
    "\n",
    "        print(\"Validation epoch {} - {} batches\".format(epoch, len(val_iter)))\n",
    "        valid_loss, (valid_y_true, valid_y_predicted) = evaluating_loop(model, val_iter, criterion)\n",
    "        _, argmax_predicted = ntorch.cat(valid_y_predicted, dim='batch').max('classes')\n",
    "        argmax_true = ntorch.cat(valid_y_true, dim='batch')\n",
    "        valid_accuracy = (argmax_predicted == argmax_true).sum().float()\n",
    "        valid_accuracy = (valid_accuracy/argmax_true.shape['batch']).cpu().numpy()\n",
    "\n",
    "\n",
    "        if valid_loss < best_valid_loss:\n",
    "            print(\"saved\", epoch)\n",
    "            print('| Epoch: {:} | Train Loss: {:.3f} | Train Acc: {:.3f} \\\n",
    "            | Val. Loss: {:.3f} | Val. Acc: {:.3f} |'.format(epoch, train_loss, train_accuracy,\n",
    "                                                             valid_loss, valid_accuracy))\n",
    "            best_valid_loss = valid_loss\n",
    "            best_valid_acc = valid_accuracy # this is not necessarily true\n",
    "            MODEL_SAVE_PATH = os.path.join(SAVE_DIR, '{}_{}_model.pt'.format(name, epoch))\n",
    "            torch.save(model.state_dict(), MODEL_SAVE_PATH)    \n",
    "\n",
    "    print()\n",
    "    return best_valid_acc"
   ]
  },
  {
   "cell_type": "code",
   "execution_count": 10,
   "metadata": {},
   "outputs": [],
   "source": [
    "def init_embedding(embeddings, e_matrix):\n",
    "    \"\"\" call before training - init whit this :) for known words. \"\"\"\n",
    "\n",
    "    for token in TEXT.vocab.itos:\n",
    "        if token in e_matrix.itos:\n",
    "            index = e_matrix.itos.index(token)\n",
    "            torch_values = e_matrix.vectors[index]\n",
    "            emb_idx = TEXT.vocab.itos.index(token)\n",
    "            embeddings.weight.data[emb_idx,:].copy_(torch_values)"
   ]
  },
  {
   "cell_type": "code",
   "execution_count": 11,
   "metadata": {},
   "outputs": [],
   "source": [
    "import torch\n",
    "import torch.nn as nn\n",
    "from namedtensor import ntorch\n",
    "import math\n",
    "import pandas as pd\n",
    "import torch.optim as optim\n",
    "import math\n",
    "import random\n",
    "SEED = 1"
   ]
  },
  {
   "cell_type": "code",
   "execution_count": 12,
   "metadata": {},
   "outputs": [],
   "source": [
    "class CBOW(nn.Module):\n",
    "\n",
    "    def __init__(self, input_dim, emb_dim, context_size, \n",
    "                   pretrained=False, device='cuda'):\n",
    "        super().__init__()\n",
    "\n",
    "        self.input_dim = input_dim\n",
    "        self.emb_dim = emb_dim\n",
    "        self.context_size = context_size\n",
    "        self.device = device\n",
    "\n",
    "        self.embeddings = ntorch.nn.Embedding(input_dim, emb_dim) \n",
    "\n",
    "        if pretrained:\n",
    "            self.embeddings.from_pretrained(GLOVE_EMBEDDING.vectors\n",
    "                                         ).spec(\"vocab\", \"embedding\")\n",
    "\n",
    "            init_embedding(self.embeddings, GLOVE_EMBEDDING)\n",
    "        self.linear = ntorch.nn.Linear(emb_dim, 2)\n",
    "        self.act = nn.LogSoftmax()\n",
    "    \n",
    "    def forward(self, X):\n",
    "        X = self.embeddings(X)   \n",
    "        X = X.sum('seqlen')  \n",
    "        X = self.linear(X)\n",
    "        X = self.act(X.values)\n",
    "        X = ntorch.tensor(X, names=('batch', 'classes'))\n",
    "        return X"
   ]
  },
  {
   "cell_type": "code",
   "execution_count": 13,
   "metadata": {},
   "outputs": [
    {
     "name": "stdout",
     "output_type": "stream",
     "text": [
      "## Iter 0\n"
     ]
    },
    {
     "ename": "RuntimeError",
     "evalue": "CUDA error: out of memory",
     "output_type": "error",
     "traceback": [
      "\u001b[0;31m---------------------------------------------------------------------------\u001b[0m",
      "\u001b[0;31mRuntimeError\u001b[0m                              Traceback (most recent call last)",
      "\u001b[0;32m<ipython-input-13-0ca2ad2ce290>\u001b[0m in \u001b[0;36m<module>\u001b[0;34m\u001b[0m\n\u001b[1;32m     19\u001b[0m \u001b[0;34m\u001b[0m\u001b[0m\n\u001b[1;32m     20\u001b[0m     model = CBOW(len(TEXT.vocab), EMB_DIM, CONTEXT_SIZE, pretrained=True,\n\u001b[0;32m---> 21\u001b[0;31m                device='cuda').to('cuda')\n\u001b[0m\u001b[1;32m     22\u001b[0m     \u001b[0moptimizer\u001b[0m \u001b[0;34m=\u001b[0m \u001b[0moptim\u001b[0m\u001b[0;34m.\u001b[0m\u001b[0mAdam\u001b[0m\u001b[0;34m(\u001b[0m\u001b[0mmodel\u001b[0m\u001b[0;34m.\u001b[0m\u001b[0mparameters\u001b[0m\u001b[0;34m(\u001b[0m\u001b[0;34m)\u001b[0m\u001b[0;34m,\u001b[0m \u001b[0mlr\u001b[0m\u001b[0;34m=\u001b[0m\u001b[0;36m.1\u001b[0m\u001b[0;34m)\u001b[0m\u001b[0;34m\u001b[0m\u001b[0m\n\u001b[1;32m     23\u001b[0m \u001b[0;34m\u001b[0m\u001b[0m\n",
      "\u001b[0;32m~/miniconda/envs/py36/lib/python3.6/site-packages/torch/nn/modules/module.py\u001b[0m in \u001b[0;36mto\u001b[0;34m(self, *args, **kwargs)\u001b[0m\n\u001b[1;32m    379\u001b[0m             \u001b[0;32mreturn\u001b[0m \u001b[0mt\u001b[0m\u001b[0;34m.\u001b[0m\u001b[0mto\u001b[0m\u001b[0;34m(\u001b[0m\u001b[0mdevice\u001b[0m\u001b[0;34m,\u001b[0m \u001b[0mdtype\u001b[0m \u001b[0;32mif\u001b[0m \u001b[0mt\u001b[0m\u001b[0;34m.\u001b[0m\u001b[0mis_floating_point\u001b[0m\u001b[0;34m(\u001b[0m\u001b[0;34m)\u001b[0m \u001b[0;32melse\u001b[0m \u001b[0;32mNone\u001b[0m\u001b[0;34m,\u001b[0m \u001b[0mnon_blocking\u001b[0m\u001b[0;34m)\u001b[0m\u001b[0;34m\u001b[0m\u001b[0m\n\u001b[1;32m    380\u001b[0m \u001b[0;34m\u001b[0m\u001b[0m\n\u001b[0;32m--> 381\u001b[0;31m         \u001b[0;32mreturn\u001b[0m \u001b[0mself\u001b[0m\u001b[0;34m.\u001b[0m\u001b[0m_apply\u001b[0m\u001b[0;34m(\u001b[0m\u001b[0mconvert\u001b[0m\u001b[0;34m)\u001b[0m\u001b[0;34m\u001b[0m\u001b[0m\n\u001b[0m\u001b[1;32m    382\u001b[0m \u001b[0;34m\u001b[0m\u001b[0m\n\u001b[1;32m    383\u001b[0m     \u001b[0;32mdef\u001b[0m \u001b[0mregister_backward_hook\u001b[0m\u001b[0;34m(\u001b[0m\u001b[0mself\u001b[0m\u001b[0;34m,\u001b[0m \u001b[0mhook\u001b[0m\u001b[0;34m)\u001b[0m\u001b[0;34m:\u001b[0m\u001b[0;34m\u001b[0m\u001b[0m\n",
      "\u001b[0;32m~/miniconda/envs/py36/lib/python3.6/site-packages/torch/nn/modules/module.py\u001b[0m in \u001b[0;36m_apply\u001b[0;34m(self, fn)\u001b[0m\n\u001b[1;32m    185\u001b[0m     \u001b[0;32mdef\u001b[0m \u001b[0m_apply\u001b[0m\u001b[0;34m(\u001b[0m\u001b[0mself\u001b[0m\u001b[0;34m,\u001b[0m \u001b[0mfn\u001b[0m\u001b[0;34m)\u001b[0m\u001b[0;34m:\u001b[0m\u001b[0;34m\u001b[0m\u001b[0m\n\u001b[1;32m    186\u001b[0m         \u001b[0;32mfor\u001b[0m \u001b[0mmodule\u001b[0m \u001b[0;32min\u001b[0m \u001b[0mself\u001b[0m\u001b[0;34m.\u001b[0m\u001b[0mchildren\u001b[0m\u001b[0;34m(\u001b[0m\u001b[0;34m)\u001b[0m\u001b[0;34m:\u001b[0m\u001b[0;34m\u001b[0m\u001b[0m\n\u001b[0;32m--> 187\u001b[0;31m             \u001b[0mmodule\u001b[0m\u001b[0;34m.\u001b[0m\u001b[0m_apply\u001b[0m\u001b[0;34m(\u001b[0m\u001b[0mfn\u001b[0m\u001b[0;34m)\u001b[0m\u001b[0;34m\u001b[0m\u001b[0m\n\u001b[0m\u001b[1;32m    188\u001b[0m \u001b[0;34m\u001b[0m\u001b[0m\n\u001b[1;32m    189\u001b[0m         \u001b[0;32mfor\u001b[0m \u001b[0mparam\u001b[0m \u001b[0;32min\u001b[0m \u001b[0mself\u001b[0m\u001b[0;34m.\u001b[0m\u001b[0m_parameters\u001b[0m\u001b[0;34m.\u001b[0m\u001b[0mvalues\u001b[0m\u001b[0;34m(\u001b[0m\u001b[0;34m)\u001b[0m\u001b[0;34m:\u001b[0m\u001b[0;34m\u001b[0m\u001b[0m\n",
      "\u001b[0;32m~/miniconda/envs/py36/lib/python3.6/site-packages/torch/nn/modules/module.py\u001b[0m in \u001b[0;36m_apply\u001b[0;34m(self, fn)\u001b[0m\n\u001b[1;32m    191\u001b[0m                 \u001b[0;31m# Tensors stored in modules are graph leaves, and we don't\u001b[0m\u001b[0;34m\u001b[0m\u001b[0;34m\u001b[0m\u001b[0m\n\u001b[1;32m    192\u001b[0m                 \u001b[0;31m# want to create copy nodes, so we have to unpack the data.\u001b[0m\u001b[0;34m\u001b[0m\u001b[0;34m\u001b[0m\u001b[0m\n\u001b[0;32m--> 193\u001b[0;31m                 \u001b[0mparam\u001b[0m\u001b[0;34m.\u001b[0m\u001b[0mdata\u001b[0m \u001b[0;34m=\u001b[0m \u001b[0mfn\u001b[0m\u001b[0;34m(\u001b[0m\u001b[0mparam\u001b[0m\u001b[0;34m.\u001b[0m\u001b[0mdata\u001b[0m\u001b[0;34m)\u001b[0m\u001b[0;34m\u001b[0m\u001b[0m\n\u001b[0m\u001b[1;32m    194\u001b[0m                 \u001b[0;32mif\u001b[0m \u001b[0mparam\u001b[0m\u001b[0;34m.\u001b[0m\u001b[0m_grad\u001b[0m \u001b[0;32mis\u001b[0m \u001b[0;32mnot\u001b[0m \u001b[0;32mNone\u001b[0m\u001b[0;34m:\u001b[0m\u001b[0;34m\u001b[0m\u001b[0m\n\u001b[1;32m    195\u001b[0m                     \u001b[0mparam\u001b[0m\u001b[0;34m.\u001b[0m\u001b[0m_grad\u001b[0m\u001b[0;34m.\u001b[0m\u001b[0mdata\u001b[0m \u001b[0;34m=\u001b[0m \u001b[0mfn\u001b[0m\u001b[0;34m(\u001b[0m\u001b[0mparam\u001b[0m\u001b[0;34m.\u001b[0m\u001b[0m_grad\u001b[0m\u001b[0;34m.\u001b[0m\u001b[0mdata\u001b[0m\u001b[0;34m)\u001b[0m\u001b[0;34m\u001b[0m\u001b[0m\n",
      "\u001b[0;32m~/miniconda/envs/py36/lib/python3.6/site-packages/torch/nn/modules/module.py\u001b[0m in \u001b[0;36mconvert\u001b[0;34m(t)\u001b[0m\n\u001b[1;32m    377\u001b[0m \u001b[0;34m\u001b[0m\u001b[0m\n\u001b[1;32m    378\u001b[0m         \u001b[0;32mdef\u001b[0m \u001b[0mconvert\u001b[0m\u001b[0;34m(\u001b[0m\u001b[0mt\u001b[0m\u001b[0;34m)\u001b[0m\u001b[0;34m:\u001b[0m\u001b[0;34m\u001b[0m\u001b[0m\n\u001b[0;32m--> 379\u001b[0;31m             \u001b[0;32mreturn\u001b[0m \u001b[0mt\u001b[0m\u001b[0;34m.\u001b[0m\u001b[0mto\u001b[0m\u001b[0;34m(\u001b[0m\u001b[0mdevice\u001b[0m\u001b[0;34m,\u001b[0m \u001b[0mdtype\u001b[0m \u001b[0;32mif\u001b[0m \u001b[0mt\u001b[0m\u001b[0;34m.\u001b[0m\u001b[0mis_floating_point\u001b[0m\u001b[0;34m(\u001b[0m\u001b[0;34m)\u001b[0m \u001b[0;32melse\u001b[0m \u001b[0;32mNone\u001b[0m\u001b[0;34m,\u001b[0m \u001b[0mnon_blocking\u001b[0m\u001b[0;34m)\u001b[0m\u001b[0;34m\u001b[0m\u001b[0m\n\u001b[0m\u001b[1;32m    380\u001b[0m \u001b[0;34m\u001b[0m\u001b[0m\n\u001b[1;32m    381\u001b[0m         \u001b[0;32mreturn\u001b[0m \u001b[0mself\u001b[0m\u001b[0;34m.\u001b[0m\u001b[0m_apply\u001b[0m\u001b[0;34m(\u001b[0m\u001b[0mconvert\u001b[0m\u001b[0;34m)\u001b[0m\u001b[0;34m\u001b[0m\u001b[0m\n",
      "\u001b[0;31mRuntimeError\u001b[0m: CUDA error: out of memory"
     ]
    }
   ],
   "source": [
    "torch.manual_seed(SEED)\n",
    "\n",
    "TEXT.build_vocab(train, vectors=GLOVE_EMBEDDING)\n",
    "LABEL.build_vocab(train)\n",
    "TEXT.vocab.load_vectors(vectors=GLOVE_EMBEDDING)\n",
    "\n",
    "N_EPOCHS = 20\n",
    "EMB_DIM = 300\n",
    "CONTEXT_SIZE = 8\n",
    "\n",
    "\n",
    "criterion = ntorch.nn.CrossEntropyLoss().spec('classes')\n",
    "  \n",
    "results = []\n",
    "for i in range(5):\n",
    "    print('## Iter', i)\n",
    "    train_iter, val_iter, test_iter = torchtext.data.BucketIterator.splits(\n",
    "      (train, val, test), batch_size=1000, device=torch.device(\"cuda\"))\n",
    "\n",
    "    model = CBOW(len(TEXT.vocab), EMB_DIM, CONTEXT_SIZE, pretrained=True,\n",
    "               device='cuda').to('cuda')\n",
    "    optimizer = optim.Adam(model.parameters(), lr=.1)\n",
    "\n",
    "    vali_acc = train_model(model, train_iter, val_iter, optimizer, criterion, \n",
    "                         init_epoch=0, final_epoch=N_EPOCHS, \n",
    "                         name='CBOW_E_{}'.format(i))\n",
    "    results.append(vali_acc)\n",
    "    \n",
    "    print()"
   ]
  },
  {
   "cell_type": "code",
   "execution_count": null,
   "metadata": {},
   "outputs": [],
   "source": [
    "sum(results)/len(results), results"
   ]
  }
 ],
 "metadata": {
  "kernelspec": {
   "display_name": "Python 3",
   "language": "python",
   "name": "python3"
  },
  "language_info": {
   "codemirror_mode": {
    "name": "ipython",
    "version": 3
   },
   "file_extension": ".py",
   "mimetype": "text/x-python",
   "name": "python",
   "nbconvert_exporter": "python",
   "pygments_lexer": "ipython3",
   "version": "3.6.5"
  }
 },
 "nbformat": 4,
 "nbformat_minor": 2
}

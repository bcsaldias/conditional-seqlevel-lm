{
 "cells": [
  {
   "cell_type": "code",
   "execution_count": 1,
   "metadata": {},
   "outputs": [],
   "source": [
    "from data_generators import get_iterator, get_dataset\n",
    "from classifiers import theme_classifier #, personal_classifier\n",
    "import torch\n",
    "import torch.nn as nn\n",
    "from torchtext.vocab import GloVe \n",
    "GLOVE_EMBEDDING = GloVe(name=\"6B\", dim=300)"
   ]
  },
  {
   "cell_type": "code",
   "execution_count": 2,
   "metadata": {},
   "outputs": [],
   "source": [
    "(train_dataset, val_dataset, test_dataset, \\\n",
    "     review_text_FIELD, theme_FIELD) = get_dataset(vectors = GLOVE_EMBEDDING) #perspective_FIELD"
   ]
  },
  {
   "cell_type": "code",
   "execution_count": 3,
   "metadata": {},
   "outputs": [],
   "source": [
    "batch_size = 20\n",
    "train_iter = get_iterator(train_dataset, batch_size, train=True, shuffle=True, repeat=False)\n",
    "val_iter = get_iterator(val_dataset, batch_size, train=False, shuffle=True, repeat=False)\n",
    "test_iter = get_iterator(test_dataset, batch_size, train=False, shuffle=True, repeat=False)"
   ]
  },
  {
   "cell_type": "code",
   "execution_count": 4,
   "metadata": {},
   "outputs": [],
   "source": [
    "#from utils_fns import evaluate_2c"
   ]
  },
  {
   "cell_type": "code",
   "execution_count": 28,
   "metadata": {},
   "outputs": [],
   "source": [
    "from baseline_model import BaseModel, repackage_hidden\n",
    "with open('./baseline/best_model_base_model_ppl_67.5461793533482.model', 'rb') as file:\n",
    "    model = torch.load(file)\n",
    "    model.eval()"
   ]
  },
  {
   "cell_type": "code",
   "execution_count": 6,
   "metadata": {},
   "outputs": [],
   "source": [
    "#learning_rate = 0.001\n",
    "#criterion = nn.CrossEntropyLoss(reduction='mean',\n",
    "#                       ignore_index=train_dataset.fields[\"review_text\"].vocab.stoi['<pad>']).cuda()\n",
    "#evaluate_2c(model, test_iter, criterion)"
   ]
  },
  {
   "cell_type": "code",
   "execution_count": 7,
   "metadata": {},
   "outputs": [
    {
     "data": {
      "text/plain": [
       "65.12574997479037"
      ]
     },
     "execution_count": 7,
     "metadata": {},
     "output_type": "execute_result"
    }
   ],
   "source": [
    "import numpy as np\n",
    "np.exp(4.176320015934906)"
   ]
  },
  {
   "cell_type": "code",
   "execution_count": null,
   "metadata": {},
   "outputs": [],
   "source": []
  },
  {
   "cell_type": "code",
   "execution_count": 8,
   "metadata": {},
   "outputs": [],
   "source": [
    "def transtaltion2string(raw_translations, target_vocab = review_text_FIELD, max_words=30000):\n",
    "    string_translations = []\n",
    "    for raw_sentence in raw_translations:\n",
    "        string_sentence = []\n",
    "        for i, word_idx in enumerate(raw_sentence):\n",
    "            if i == max_words: break\n",
    "            word = target_vocab.vocab.itos[word_idx]\n",
    "            #if word == '<eos>':\n",
    "            #    break\n",
    "            if word != '<sos>':\n",
    "                string_sentence.append(word)\n",
    "        string_translations.append(string_sentence)\n",
    "\n",
    "    return string_translations"
   ]
  },
  {
   "cell_type": "code",
   "execution_count": 9,
   "metadata": {},
   "outputs": [],
   "source": [
    "from collections import Counter"
   ]
  },
  {
   "cell_type": "code",
   "execution_count": 11,
   "metadata": {},
   "outputs": [],
   "source": [
    "first_words = []\n",
    "selected_labels = [[],[]]\n",
    "lens = []\n",
    "if True:\n",
    "    for i, batch in enumerate(test_iter):\n",
    "        labels_0 = batch.theme.cuda().long() - 1\n",
    "        #labels_1 = batch.perspective.cuda().long() - 1\n",
    "        batch = batch.review_text.cuda().long()\n",
    "        if batch.shape[0] > 3:\n",
    "            selected_labels[0] += labels_0.tolist()\n",
    "            #selected_labels[1] += labels_1.tolist()\n",
    "            first_words += batch[1,:].tolist()\n",
    "            lens.append(batch.shape[0]-1)"
   ]
  },
  {
   "cell_type": "code",
   "execution_count": 12,
   "metadata": {},
   "outputs": [
    {
     "data": {
      "text/plain": [
       "22.592261904761905"
      ]
     },
     "execution_count": 12,
     "metadata": {},
     "output_type": "execute_result"
    }
   ],
   "source": [
    "avg_len = np.mean(lens)\n",
    "avg_len"
   ]
  },
  {
   "cell_type": "code",
   "execution_count": 13,
   "metadata": {},
   "outputs": [
    {
     "name": "stdout",
     "output_type": "stream",
     "text": [
      "['other', 'plot', 'acting', 'effect', 'production']\n",
      "{0: 37614, 3: 2604, 1: 38078, 2: 6593, 4: 2454}\n",
      "\n"
     ]
    }
   ],
   "source": [
    "print(theme_FIELD.vocab.itos[1:])\n",
    "print(dict(Counter(selected_labels[0])))\n",
    "print()\n",
    "#print(perspective_FIELD.vocab.itos[1:])\n",
    "#print(dict(Counter(selected_labels[1])))"
   ]
  },
  {
   "cell_type": "code",
   "execution_count": 14,
   "metadata": {},
   "outputs": [
    {
     "name": "stdout",
     "output_type": "stream",
     "text": [
      "87343 4519\n",
      "4481\n"
     ]
    }
   ],
   "source": [
    "# remove duplicates\n",
    "selected_first_words = list(set(first_words))\n",
    "print(len(first_words), len(selected_first_words))\n",
    "\n",
    "# clean for first words that are keywords\n",
    "first_words_text = transtaltion2string([list(selected_first_words)])[0]\n",
    "first_words_text = list(map(lambda x: theme_classifier(x) == 'other', first_words_text))\n",
    "selected_first_words = np.array(selected_first_words)[first_words_text].tolist()\n",
    "print(len(selected_first_words))\n",
    "\n",
    "# clean for first words that are keywords perspective\n",
    "#first_words_text = transtaltion2string([list(selected_first_words)])[0]\n",
    "#first_words_text = list(map(lambda x: personal_classifier(x) == False, first_words_text))\n",
    "#selected_first_words = np.array(selected_first_words)[first_words_text].tolist()\n",
    "#print(len(selected_first_words))"
   ]
  },
  {
   "cell_type": "code",
   "execution_count": 15,
   "metadata": {},
   "outputs": [],
   "source": [
    "#test_list = list(test_iter)"
   ]
  },
  {
   "cell_type": "code",
   "execution_count": null,
   "metadata": {},
   "outputs": [],
   "source": []
  },
  {
   "cell_type": "code",
   "execution_count": 16,
   "metadata": {},
   "outputs": [],
   "source": [
    "vocab_size = 12304"
   ]
  },
  {
   "cell_type": "code",
   "execution_count": 17,
   "metadata": {},
   "outputs": [],
   "source": [
    "import numpy as np"
   ]
  },
  {
   "cell_type": "code",
   "execution_count": 18,
   "metadata": {},
   "outputs": [],
   "source": [
    "BOS_WORD = '<sos>'\n",
    "EOS_WORD = '<eos>'"
   ]
  },
  {
   "cell_type": "code",
   "execution_count": 37,
   "metadata": {},
   "outputs": [],
   "source": [
    "def generate_next_n_words(self, first_word, labels, max_len = 3, # ngram=3\n",
    "                            target_vocab = review_text_FIELD, top_k = 10):\n",
    "    self.eval()\n",
    "    with torch.no_grad():      \n",
    "\n",
    "        #labels_0 = batch.theme.cuda().long() - 1\n",
    "        #labels_1 = batch.perspective.cuda().long() - 1\n",
    "        #labels = (labels_0, labels_1)\n",
    "        labels = torch.tensor([labels]).cuda().long()\n",
    "        #labels = [torch.tensor([label]).cuda().long() for label in labels]\n",
    "\n",
    "        source = torch.tensor([first_word]).unsqueeze(1).cuda().long()\n",
    "        \n",
    "        eos_idx = target_vocab.vocab.stoi[EOS_WORD]\n",
    "        y_hat = source[:1,:]\n",
    "        y_hat = y_hat.unsqueeze(-1)\n",
    "\n",
    "        prediction_idxs = [[y_hat[0]]]\n",
    "        prediction_probs = [0]\n",
    "\n",
    "        next_hidden = [None]\n",
    "        \n",
    "        for t in range(max_len):\n",
    "            current_idxs = []\n",
    "            current_probs = []\n",
    "            current_hidd = [] \n",
    "\n",
    "            for k in range(y_hat.shape[-1]):\n",
    "                y_hat_k = y_hat[:,:,k]\n",
    "                current_hidd_k = next_hidden[k]\n",
    "                output, hidden = self(y_hat_k, labels, current_hidd_k)\n",
    "                current_hidd += [hidden]*top_k\n",
    "                top_probs, top_idx = output.topk(top_k, -1)\n",
    "                current_idxs.append(top_idx.squeeze(0).squeeze(0))\n",
    "                current_probs.append(top_probs.squeeze(0).squeeze(0))\n",
    "            current_idxs = torch.cat(current_idxs)\n",
    "            current_probs = torch.cat(current_probs)\n",
    "\n",
    "            next_args = torch.sort(current_probs, -1, True)[1][:top_k] \n",
    "\n",
    "            next_idxs, next_probs, next_hidden = [], [], []\n",
    "            tmp_pred_idxs, tmp_pred_probs = [], []\n",
    "            for idx in next_args:\n",
    "                chain_head = idx//top_k\n",
    "\n",
    "                next_idx = current_idxs[idx].int()\n",
    "                next_prob = current_probs[idx]\n",
    "                sentence_so_far = prediction_idxs[chain_head]\n",
    "                \n",
    "                if len(sentence_so_far)>0 and sentence_so_far[-1] == eos_idx:\n",
    "                    tmp_pred_idxs.append(sentence_so_far + [eos_idx])\n",
    "                    tmp_pred_probs.append(prediction_probs[chain_head])\n",
    "                else:\n",
    "                    tmp_pred_idxs.append(sentence_so_far + [next_idx])\n",
    "                    tmp_pred_probs.append(prediction_probs[chain_head] + next_prob)\n",
    "\n",
    "                next_idxs.append(next_idx.unsqueeze(0))\n",
    "                next_hidden.append(current_hidd[idx])\n",
    "\n",
    "            prediction_idxs = tmp_pred_idxs\n",
    "            prediction_probs = tmp_pred_probs\n",
    "            next_idxs = torch.cat(next_idxs)\n",
    "\n",
    "            y_hat = next_idxs.unsqueeze(0).unsqueeze(0).long()\n",
    "            \n",
    "        prediction_probs = torch.tensor(prediction_probs)\n",
    "        prediction_idxs = torch.tensor(prediction_idxs)\n",
    "        correct_order = torch.argsort(prediction_probs, descending=True).long()\n",
    "        \n",
    "        prediction_idxs = torch.index_select(prediction_idxs, 0, correct_order)\n",
    "\n",
    "        labels = [l.item() for l in labels]\n",
    "        return prediction_idxs, labels"
   ]
  },
  {
   "cell_type": "code",
   "execution_count": 20,
   "metadata": {},
   "outputs": [],
   "source": [
    "import pandas as pd"
   ]
  },
  {
   "cell_type": "code",
   "execution_count": 21,
   "metadata": {},
   "outputs": [
    {
     "data": {
      "text/plain": [
       "['<unk>', 'other', 'plot', 'acting', 'effect', 'production']"
      ]
     },
     "execution_count": 21,
     "metadata": {},
     "output_type": "execute_result"
    }
   ],
   "source": [
    "#review_text_FIELD.vocab.itos\n",
    "theme_FIELD.vocab.itos"
   ]
  },
  {
   "cell_type": "code",
   "execution_count": 22,
   "metadata": {},
   "outputs": [
    {
     "data": {
      "text/plain": [
       "22.592261904761905"
      ]
     },
     "execution_count": 22,
     "metadata": {},
     "output_type": "execute_result"
    }
   ],
   "source": [
    "avg_len"
   ]
  },
  {
   "cell_type": "code",
   "execution_count": 39,
   "metadata": {
    "scrolled": true
   },
   "outputs": [
    {
     "name": "stdout",
     "output_type": "stream",
     "text": [
      "0 other\n",
      "0/4481\n",
      "50/4481\n",
      "100/4481\n",
      "150/4481\n",
      "200/4481\n",
      "250/4481\n",
      "300/4481\n",
      "350/4481\n",
      "400/4481\n",
      "450/4481\n",
      "500/4481\n",
      "550/4481\n",
      "600/4481\n",
      "650/4481\n",
      "700/4481\n",
      "750/4481\n",
      "800/4481\n",
      "850/4481\n",
      "900/4481\n",
      "950/4481\n",
      "1000/4481\n",
      "1050/4481\n",
      "1100/4481\n",
      "1150/4481\n",
      "1200/4481\n",
      "1250/4481\n",
      "1300/4481\n",
      "1350/4481\n",
      "1400/4481\n",
      "1450/4481\n",
      "1500/4481\n",
      "1550/4481\n",
      "1600/4481\n",
      "1650/4481\n",
      "1700/4481\n",
      "1750/4481\n",
      "1800/4481\n",
      "1850/4481\n",
      "1900/4481\n",
      "1950/4481\n",
      "2000/4481\n",
      "2050/4481\n",
      "2100/4481\n",
      "2150/4481\n",
      "2200/4481\n",
      "2250/4481\n",
      "2300/4481\n",
      "2350/4481\n",
      "2400/4481\n",
      "2450/4481\n",
      "2500/4481\n",
      "2550/4481\n",
      "2600/4481\n",
      "2650/4481\n",
      "2700/4481\n",
      "2750/4481\n",
      "2800/4481\n",
      "2850/4481\n",
      "2900/4481\n",
      "2950/4481\n",
      "3000/4481\n",
      "3050/4481\n",
      "3100/4481\n",
      "3150/4481\n",
      "3200/4481\n",
      "3250/4481\n",
      "3300/4481\n",
      "3350/4481\n",
      "3400/4481\n",
      "3450/4481\n",
      "3500/4481\n",
      "3550/4481\n",
      "3600/4481\n",
      "3650/4481\n",
      "3700/4481\n",
      "3750/4481\n",
      "3800/4481\n",
      "3850/4481\n",
      "3900/4481\n",
      "3950/4481\n",
      "4000/4481\n",
      "4050/4481\n",
      "4100/4481\n",
      "4150/4481\n",
      "4200/4481\n",
      "4250/4481\n",
      "4300/4481\n",
      "4350/4481\n",
      "4400/4481\n",
      "4450/4481\n",
      "\n",
      "1 plot\n",
      "0/4481\n",
      "50/4481\n",
      "100/4481\n",
      "150/4481\n",
      "200/4481\n",
      "250/4481\n",
      "300/4481\n",
      "350/4481\n",
      "400/4481\n",
      "450/4481\n",
      "500/4481\n",
      "550/4481\n",
      "600/4481\n",
      "650/4481\n",
      "700/4481\n",
      "750/4481\n",
      "800/4481\n",
      "850/4481\n",
      "900/4481\n",
      "950/4481\n",
      "1000/4481\n",
      "1050/4481\n",
      "1100/4481\n",
      "1150/4481\n",
      "1200/4481\n",
      "1250/4481\n",
      "1300/4481\n",
      "1350/4481\n",
      "1400/4481\n",
      "1450/4481\n",
      "1500/4481\n",
      "1550/4481\n",
      "1600/4481\n",
      "1650/4481\n",
      "1700/4481\n",
      "1750/4481\n",
      "1800/4481\n",
      "1850/4481\n",
      "1900/4481\n",
      "1950/4481\n",
      "2000/4481\n",
      "2050/4481\n",
      "2100/4481\n",
      "2150/4481\n",
      "2200/4481\n",
      "2250/4481\n",
      "2300/4481\n",
      "2350/4481\n",
      "2400/4481\n",
      "2450/4481\n",
      "2500/4481\n",
      "2550/4481\n",
      "2600/4481\n",
      "2650/4481\n",
      "2700/4481\n",
      "2750/4481\n",
      "2800/4481\n",
      "2850/4481\n",
      "2900/4481\n",
      "2950/4481\n",
      "3000/4481\n",
      "3050/4481\n",
      "3100/4481\n",
      "3150/4481\n",
      "3200/4481\n",
      "3250/4481\n",
      "3300/4481\n",
      "3350/4481\n",
      "3400/4481\n",
      "3450/4481\n",
      "3500/4481\n",
      "3550/4481\n",
      "3600/4481\n",
      "3650/4481\n",
      "3700/4481\n",
      "3750/4481\n",
      "3800/4481\n",
      "3850/4481\n",
      "3900/4481\n",
      "3950/4481\n",
      "4000/4481\n",
      "4050/4481\n",
      "4100/4481\n",
      "4150/4481\n",
      "4200/4481\n",
      "4250/4481\n",
      "4300/4481\n",
      "4350/4481\n",
      "4400/4481\n",
      "4450/4481\n",
      "\n",
      "2 acting\n",
      "0/4481\n",
      "50/4481\n",
      "100/4481\n",
      "150/4481\n",
      "200/4481\n",
      "250/4481\n",
      "300/4481\n",
      "350/4481\n",
      "400/4481\n",
      "450/4481\n",
      "500/4481\n",
      "550/4481\n",
      "600/4481\n",
      "650/4481\n",
      "700/4481\n",
      "750/4481\n",
      "800/4481\n",
      "850/4481\n",
      "900/4481\n",
      "950/4481\n",
      "1000/4481\n",
      "1050/4481\n",
      "1100/4481\n",
      "1150/4481\n",
      "1200/4481\n",
      "1250/4481\n",
      "1300/4481\n",
      "1350/4481\n",
      "1400/4481\n",
      "1450/4481\n",
      "1500/4481\n",
      "1550/4481\n",
      "1600/4481\n",
      "1650/4481\n",
      "1700/4481\n",
      "1750/4481\n",
      "1800/4481\n",
      "1850/4481\n",
      "1900/4481\n",
      "1950/4481\n",
      "2000/4481\n",
      "2050/4481\n",
      "2100/4481\n",
      "2150/4481\n",
      "2200/4481\n",
      "2250/4481\n",
      "2300/4481\n",
      "2350/4481\n",
      "2400/4481\n",
      "2450/4481\n",
      "2500/4481\n",
      "2550/4481\n",
      "2600/4481\n",
      "2650/4481\n",
      "2700/4481\n",
      "2750/4481\n",
      "2800/4481\n",
      "2850/4481\n",
      "2900/4481\n",
      "2950/4481\n",
      "3000/4481\n",
      "3050/4481\n",
      "3100/4481\n",
      "3150/4481\n",
      "3200/4481\n",
      "3250/4481\n",
      "3300/4481\n",
      "3350/4481\n",
      "3400/4481\n",
      "3450/4481\n",
      "3500/4481\n",
      "3550/4481\n",
      "3600/4481\n",
      "3650/4481\n",
      "3700/4481\n",
      "3750/4481\n",
      "3800/4481\n",
      "3850/4481\n",
      "3900/4481\n",
      "3950/4481\n",
      "4000/4481\n",
      "4050/4481\n",
      "4100/4481\n",
      "4150/4481\n",
      "4200/4481\n",
      "4250/4481\n",
      "4300/4481\n",
      "4350/4481\n",
      "4400/4481\n",
      "4450/4481\n",
      "\n",
      "3 effect\n",
      "0/4481\n",
      "50/4481\n",
      "100/4481\n",
      "150/4481\n",
      "200/4481\n",
      "250/4481\n",
      "300/4481\n",
      "350/4481\n",
      "400/4481\n",
      "450/4481\n",
      "500/4481\n",
      "550/4481\n",
      "600/4481\n",
      "650/4481\n",
      "700/4481\n",
      "750/4481\n",
      "800/4481\n",
      "850/4481\n",
      "900/4481\n",
      "950/4481\n",
      "1000/4481\n",
      "1050/4481\n",
      "1100/4481\n",
      "1150/4481\n",
      "1200/4481\n",
      "1250/4481\n",
      "1300/4481\n",
      "1350/4481\n",
      "1400/4481\n",
      "1450/4481\n",
      "1500/4481\n",
      "1550/4481\n",
      "1600/4481\n",
      "1650/4481\n",
      "1700/4481\n",
      "1750/4481\n",
      "1800/4481\n",
      "1850/4481\n",
      "1900/4481\n",
      "1950/4481\n",
      "2000/4481\n",
      "2050/4481\n",
      "2100/4481\n",
      "2150/4481\n",
      "2200/4481\n",
      "2250/4481\n",
      "2300/4481\n",
      "2350/4481\n",
      "2400/4481\n",
      "2450/4481\n",
      "2500/4481\n",
      "2550/4481\n",
      "2600/4481\n",
      "2650/4481\n",
      "2700/4481\n",
      "2750/4481\n",
      "2800/4481\n",
      "2850/4481\n",
      "2900/4481\n",
      "2950/4481\n",
      "3000/4481\n",
      "3050/4481\n",
      "3100/4481\n",
      "3150/4481\n",
      "3200/4481\n",
      "3250/4481\n",
      "3300/4481\n",
      "3350/4481\n",
      "3400/4481\n",
      "3450/4481\n",
      "3500/4481\n",
      "3550/4481\n",
      "3600/4481\n",
      "3650/4481\n",
      "3700/4481\n",
      "3750/4481\n",
      "3800/4481\n",
      "3850/4481\n",
      "3900/4481\n",
      "3950/4481\n",
      "4000/4481\n",
      "4050/4481\n",
      "4100/4481\n",
      "4150/4481\n",
      "4200/4481\n",
      "4250/4481\n",
      "4300/4481\n",
      "4350/4481\n",
      "4400/4481\n",
      "4450/4481\n",
      "\n",
      "4 production\n",
      "0/4481\n",
      "50/4481\n",
      "100/4481\n",
      "150/4481\n",
      "200/4481\n",
      "250/4481\n",
      "300/4481\n",
      "350/4481\n",
      "400/4481\n",
      "450/4481\n",
      "500/4481\n",
      "550/4481\n",
      "600/4481\n",
      "650/4481\n",
      "700/4481\n",
      "750/4481\n",
      "800/4481\n",
      "850/4481\n",
      "900/4481\n",
      "950/4481\n",
      "1000/4481\n",
      "1050/4481\n",
      "1100/4481\n",
      "1150/4481\n",
      "1200/4481\n",
      "1250/4481\n",
      "1300/4481\n",
      "1350/4481\n",
      "1400/4481\n",
      "1450/4481\n",
      "1500/4481\n",
      "1550/4481\n",
      "1600/4481\n",
      "1650/4481\n",
      "1700/4481\n",
      "1750/4481\n",
      "1800/4481\n",
      "1850/4481\n",
      "1900/4481\n",
      "1950/4481\n",
      "2000/4481\n",
      "2050/4481\n",
      "2100/4481\n",
      "2150/4481\n",
      "2200/4481\n",
      "2250/4481\n",
      "2300/4481\n",
      "2350/4481\n",
      "2400/4481\n",
      "2450/4481\n",
      "2500/4481\n",
      "2550/4481\n",
      "2600/4481\n",
      "2650/4481\n",
      "2700/4481\n",
      "2750/4481\n",
      "2800/4481\n",
      "2850/4481\n",
      "2900/4481\n",
      "2950/4481\n",
      "3000/4481\n",
      "3050/4481\n",
      "3100/4481\n",
      "3150/4481\n",
      "3200/4481\n",
      "3250/4481\n",
      "3300/4481\n",
      "3350/4481\n",
      "3400/4481\n",
      "3450/4481\n",
      "3500/4481\n",
      "3550/4481\n",
      "3600/4481\n",
      "3650/4481\n",
      "3700/4481\n",
      "3750/4481\n",
      "3800/4481\n",
      "3850/4481\n",
      "3900/4481\n",
      "3950/4481\n",
      "4000/4481\n",
      "4050/4481\n",
      "4100/4481\n",
      "4150/4481\n",
      "4200/4481\n",
      "4250/4481\n",
      "4300/4481\n",
      "4350/4481\n",
      "4400/4481\n",
      "4450/4481\n",
      "\n"
     ]
    }
   ],
   "source": [
    "results = []\n",
    "for li, labels in enumerate(theme_FIELD.vocab.itos[1:]):\n",
    "    #labels = theme_FIELD.vocab.stoi[label_0]-1 # (, perspective_FIELD.vocab.stoi[label_1]-1)\n",
    "    print(li, labels) #label_0, label_1, labels)\n",
    "    #li = torch.tensor(li)#.unsqueeze(0)\n",
    "    for wid, word0 in enumerate(selected_first_words):\n",
    "        if wid % 50 == 0 : print('{}/{}'.format(wid, len(selected_first_words)))\n",
    "        pred_seqs, labels = generate_next_n_words(model, word0, li, max_len=20, top_k=10) #int(avg_len)\n",
    "\n",
    "        for i in range(len(pred_seqs)):\n",
    "            pred = transtaltion2string(pred_seqs[i:i+1])\n",
    "            string = ' '.join(pred[0])\n",
    "            predicted_theme = theme_classifier(string)\n",
    "            #predicted_perspective = personal_classifier(string)\n",
    "            results.append([i, labels,\n",
    "                            string, predicted_theme])\n",
    "    print()"
   ]
  },
  {
   "cell_type": "code",
   "execution_count": null,
   "metadata": {},
   "outputs": [],
   "source": []
  },
  {
   "cell_type": "code",
   "execution_count": 65,
   "metadata": {},
   "outputs": [],
   "source": [
    "DF = pd.DataFrame(results, columns=['i', 'true_theme', 'generation', 'predicted_theme'])"
   ]
  },
  {
   "cell_type": "code",
   "execution_count": 66,
   "metadata": {},
   "outputs": [
    {
     "data": {
      "text/html": [
       "<div>\n",
       "<style scoped>\n",
       "    .dataframe tbody tr th:only-of-type {\n",
       "        vertical-align: middle;\n",
       "    }\n",
       "\n",
       "    .dataframe tbody tr th {\n",
       "        vertical-align: top;\n",
       "    }\n",
       "\n",
       "    .dataframe thead th {\n",
       "        text-align: right;\n",
       "    }\n",
       "</style>\n",
       "<table border=\"1\" class=\"dataframe\">\n",
       "  <thead>\n",
       "    <tr style=\"text-align: right;\">\n",
       "      <th></th>\n",
       "      <th>i</th>\n",
       "      <th>true_theme</th>\n",
       "      <th>generation</th>\n",
       "      <th>predicted_theme</th>\n",
       "    </tr>\n",
       "  </thead>\n",
       "  <tbody>\n",
       "    <tr>\n",
       "      <th>0</th>\n",
       "      <td>0</td>\n",
       "      <td>[0]</td>\n",
       "      <td>&lt;unk&gt; , &lt;unk&gt; &lt;unk&gt; &lt;unk&gt; , &lt;unk&gt; &lt;unk&gt; , &lt;unk...</td>\n",
       "      <td>other</td>\n",
       "    </tr>\n",
       "    <tr>\n",
       "      <th>1</th>\n",
       "      <td>1</td>\n",
       "      <td>[0]</td>\n",
       "      <td>&lt;unk&gt; , &lt;unk&gt; &lt;unk&gt; &lt;unk&gt; , &lt;unk&gt; &lt;unk&gt; , &lt;unk...</td>\n",
       "      <td>other</td>\n",
       "    </tr>\n",
       "    <tr>\n",
       "      <th>2</th>\n",
       "      <td>2</td>\n",
       "      <td>[0]</td>\n",
       "      <td>&lt;unk&gt; , &lt;unk&gt; &lt;unk&gt; &lt;unk&gt; , &lt;unk&gt; &lt;unk&gt; , &lt;unk...</td>\n",
       "      <td>other</td>\n",
       "    </tr>\n",
       "  </tbody>\n",
       "</table>\n",
       "</div>"
      ],
      "text/plain": [
       "   i true_theme                                         generation  \\\n",
       "0  0        [0]  <unk> , <unk> <unk> <unk> , <unk> <unk> , <unk...   \n",
       "1  1        [0]  <unk> , <unk> <unk> <unk> , <unk> <unk> , <unk...   \n",
       "2  2        [0]  <unk> , <unk> <unk> <unk> , <unk> <unk> , <unk...   \n",
       "\n",
       "  predicted_theme  \n",
       "0           other  \n",
       "1           other  \n",
       "2           other  "
      ]
     },
     "execution_count": 66,
     "metadata": {},
     "output_type": "execute_result"
    }
   ],
   "source": [
    "DF[:3]"
   ]
  },
  {
   "cell_type": "code",
   "execution_count": 67,
   "metadata": {},
   "outputs": [],
   "source": [
    "#DF.true_theme = l0s\n",
    "#DF.true_perspective = [str(x) for x in l1s]\n",
    "#DF.predicted_perspective = DF.predicted_perspective.astype(str)"
   ]
  },
  {
   "cell_type": "code",
   "execution_count": 69,
   "metadata": {},
   "outputs": [],
   "source": [
    "#DF['tt'] = DF.true_theme"
   ]
  },
  {
   "cell_type": "code",
   "execution_count": 70,
   "metadata": {},
   "outputs": [],
   "source": [
    "DF.true_theme = DF.true_theme.apply(lambda x: theme_FIELD.vocab.itos[x[0]+1])"
   ]
  },
  {
   "cell_type": "code",
   "execution_count": 71,
   "metadata": {},
   "outputs": [
    {
     "data": {
      "text/plain": [
       "(224050, 5)"
      ]
     },
     "execution_count": 71,
     "metadata": {},
     "output_type": "execute_result"
    }
   ],
   "source": [
    "DF.shape"
   ]
  },
  {
   "cell_type": "code",
   "execution_count": 72,
   "metadata": {},
   "outputs": [
    {
     "data": {
      "text/plain": [
       "(224000, 5)"
      ]
     },
     "execution_count": 72,
     "metadata": {},
     "output_type": "execute_result"
    }
   ],
   "source": [
    "DF = DF[DF.generation.apply(lambda x: x.split()[0] != '<unk>')]\n",
    "DF.shape"
   ]
  },
  {
   "cell_type": "code",
   "execution_count": 73,
   "metadata": {},
   "outputs": [],
   "source": [
    "#DF.to_csv('DF_2c_len20_top10_nounk.csv', index=False)"
   ]
  },
  {
   "cell_type": "code",
   "execution_count": 74,
   "metadata": {},
   "outputs": [
    {
     "data": {
      "text/plain": [
       "(224000, 5)"
      ]
     },
     "execution_count": 74,
     "metadata": {},
     "output_type": "execute_result"
    }
   ],
   "source": [
    "ex_DF = DF\n",
    "ex_DF.shape"
   ]
  },
  {
   "cell_type": "code",
   "execution_count": 75,
   "metadata": {},
   "outputs": [
    {
     "data": {
      "text/plain": [
       "((22400, 5), (224000, 5))"
      ]
     },
     "execution_count": 75,
     "metadata": {},
     "output_type": "execute_result"
    }
   ],
   "source": [
    "DF = DF[DF.i == 0]\n",
    "DF.shape, ex_DF.shape"
   ]
  },
  {
   "cell_type": "code",
   "execution_count": 76,
   "metadata": {},
   "outputs": [
    {
     "data": {
      "text/plain": [
       "array(['other', 'plot', 'acting', 'effect', 'production'], dtype=object)"
      ]
     },
     "execution_count": 76,
     "metadata": {},
     "output_type": "execute_result"
    }
   ],
   "source": [
    "DF.true_theme.unique()#, DF.true_perspective.unique()"
   ]
  },
  {
   "cell_type": "code",
   "execution_count": 77,
   "metadata": {},
   "outputs": [
    {
     "name": "stdout",
     "output_type": "stream",
     "text": [
      "baseline 1c - global acc score\n",
      "theme 0.7795982142857143\n"
     ]
    }
   ],
   "source": [
    "print('baseline 1c - global acc score')\n",
    "print('theme', (DF.true_theme == DF.predicted_theme).mean())\n",
    "#print('perspective', (DF.true_perspective == DF.predicted_perspective).mean())"
   ]
  },
  {
   "cell_type": "code",
   "execution_count": 78,
   "metadata": {},
   "outputs": [
    {
     "name": "stdout",
     "output_type": "stream",
     "text": [
      "Theme, baseline 1c - acc score per class\n",
      "other 0.9258928571428572\n",
      "plot 0.6616071428571428\n",
      "acting 0.7792410714285715\n",
      "effect 0.6613839285714286\n",
      "production 0.8698660714285714\n"
     ]
    }
   ],
   "source": [
    "print('Theme, baseline 1c - acc score per class')\n",
    "for case in DF.true_theme.unique():\n",
    "    print(case, (DF[DF.true_theme==case].true_theme == DF[DF.true_theme==case].predicted_theme).mean())"
   ]
  },
  {
   "cell_type": "code",
   "execution_count": 79,
   "metadata": {},
   "outputs": [],
   "source": [
    "#print('Perspective, baseline 1c - acc score per class')\n",
    "#for case in DF.true_perspective.unique():\n",
    "#    print(case, (DF[DF.true_perspective==case].true_perspective == DF[DF.true_perspective==case].predicted_perspective).mean())"
   ]
  },
  {
   "cell_type": "code",
   "execution_count": null,
   "metadata": {},
   "outputs": [],
   "source": []
  },
  {
   "cell_type": "code",
   "execution_count": null,
   "metadata": {},
   "outputs": [],
   "source": []
  },
  {
   "cell_type": "code",
   "execution_count": 80,
   "metadata": {},
   "outputs": [],
   "source": [
    "from sklearn.metrics import confusion_matrix"
   ]
  },
  {
   "cell_type": "code",
   "execution_count": 81,
   "metadata": {},
   "outputs": [
    {
     "name": "stdout",
     "output_type": "stream",
     "text": [
      "Theme, baseline 1c - confusion matrix\n",
      "['other' 'plot' 'acting' 'effect' 'production']\n"
     ]
    },
    {
     "data": {
      "text/plain": [
       "array([[0.93, 0.05, 0.02, 0.  , 0.  ],\n",
       "       [0.32, 0.66, 0.01, 0.  , 0.  ],\n",
       "       [0.18, 0.03, 0.78, 0.  , 0.02],\n",
       "       [0.29, 0.04, 0.  , 0.66, 0.01],\n",
       "       [0.08, 0.04, 0.01, 0.  , 0.87]])"
      ]
     },
     "execution_count": 81,
     "metadata": {},
     "output_type": "execute_result"
    }
   ],
   "source": [
    "cm_theme = confusion_matrix(DF.true_theme, DF.predicted_theme, labels=DF.true_theme.unique())\n",
    "print('Theme, baseline 1c - confusion matrix')\n",
    "print(DF.true_theme.unique())\n",
    "(cm_theme / cm_theme.sum(-1)).round(2)"
   ]
  },
  {
   "cell_type": "code",
   "execution_count": 103,
   "metadata": {},
   "outputs": [
    {
     "name": "stdout",
     "output_type": "stream",
     "text": [
      "Perspective, baseline 1c - confusion matrix\n",
      "['False' 'True']\n"
     ]
    },
    {
     "data": {
      "text/plain": [
       "array([[1. , 0. ],\n",
       "       [0.7, 0.3]])"
      ]
     },
     "execution_count": 103,
     "metadata": {},
     "output_type": "execute_result"
    }
   ],
   "source": [
    "cm_perspective = confusion_matrix(DF.true_perspective, DF.predicted_perspective, labels=DF.true_perspective.unique())\n",
    "print('Perspective, baseline 1c - confusion matrix')\n",
    "print(DF.true_perspective.unique())\n",
    "(cm_perspective / cm_perspective.sum(-1)).round(2)"
   ]
  },
  {
   "cell_type": "code",
   "execution_count": null,
   "metadata": {},
   "outputs": [],
   "source": []
  },
  {
   "cell_type": "code",
   "execution_count": 111,
   "metadata": {},
   "outputs": [
    {
     "data": {
      "text/html": [
       "<div>\n",
       "<style scoped>\n",
       "    .dataframe tbody tr th:only-of-type {\n",
       "        vertical-align: middle;\n",
       "    }\n",
       "\n",
       "    .dataframe tbody tr th {\n",
       "        vertical-align: top;\n",
       "    }\n",
       "\n",
       "    .dataframe thead th {\n",
       "        text-align: right;\n",
       "    }\n",
       "</style>\n",
       "<table border=\"1\" class=\"dataframe\">\n",
       "  <thead>\n",
       "    <tr style=\"text-align: right;\">\n",
       "      <th></th>\n",
       "      <th>true_theme</th>\n",
       "      <th>true_perspective</th>\n",
       "      <th>generation</th>\n",
       "      <th>predicted_theme</th>\n",
       "      <th>predicted_perspective</th>\n",
       "      <th>true_labels</th>\n",
       "    </tr>\n",
       "  </thead>\n",
       "  <tbody>\n",
       "    <tr>\n",
       "      <th>1</th>\n",
       "      <td>other</td>\n",
       "      <td>False</td>\n",
       "      <td>the movie is a bit slow and predictable .</td>\n",
       "      <td>other</td>\n",
       "      <td>False</td>\n",
       "      <td>other - False</td>\n",
       "    </tr>\n",
       "    <tr>\n",
       "      <th>2</th>\n",
       "      <td>other</td>\n",
       "      <td>False</td>\n",
       "      <td>, and the movie is very good and the ending is...</td>\n",
       "      <td>other</td>\n",
       "      <td>False</td>\n",
       "      <td>other - False</td>\n",
       "    </tr>\n",
       "    <tr>\n",
       "      <th>3</th>\n",
       "      <td>other</td>\n",
       "      <td>False</td>\n",
       "      <td>and the movie is a bit slow and predictable .</td>\n",
       "      <td>other</td>\n",
       "      <td>False</td>\n",
       "      <td>other - False</td>\n",
       "    </tr>\n",
       "  </tbody>\n",
       "</table>\n",
       "</div>"
      ],
      "text/plain": [
       "  true_theme true_perspective  \\\n",
       "1      other            False   \n",
       "2      other            False   \n",
       "3      other            False   \n",
       "\n",
       "                                          generation predicted_theme  \\\n",
       "1          the movie is a bit slow and predictable .           other   \n",
       "2  , and the movie is very good and the ending is...           other   \n",
       "3      and the movie is a bit slow and predictable .           other   \n",
       "\n",
       "  predicted_perspective    true_labels  \n",
       "1                 False  other - False  \n",
       "2                 False  other - False  \n",
       "3                 False  other - False  "
      ]
     },
     "execution_count": 111,
     "metadata": {},
     "output_type": "execute_result"
    }
   ],
   "source": [
    "DF[:3]"
   ]
  },
  {
   "cell_type": "code",
   "execution_count": 113,
   "metadata": {},
   "outputs": [],
   "source": [
    "DF['true_labels'] = DF.true_theme + ' - ' + DF.true_perspective\n",
    "DF['predicted_labels'] = DF.predicted_theme + ' - ' + DF.predicted_perspective"
   ]
  },
  {
   "cell_type": "code",
   "execution_count": null,
   "metadata": {},
   "outputs": [],
   "source": []
  },
  {
   "cell_type": "code",
   "execution_count": 114,
   "metadata": {},
   "outputs": [
    {
     "name": "stdout",
     "output_type": "stream",
     "text": [
      "Labels, baseline 1c - confusion matrix\n",
      "['other - False' 'other - True' 'plot - False' 'plot - True'\n",
      " 'acting - False' 'acting - True' 'effect - False' 'effect - True'\n",
      " 'production - False' 'production - True']\n"
     ]
    },
    {
     "data": {
      "text/plain": [
       "array([[0.99, 0.  , 0.01, 0.  , 0.  , 0.  , 0.  , 0.  , 0.  , 0.  ],\n",
       "       [0.83, 0.16, 0.  , 0.  , 0.  , 0.  , 0.  , 0.  , 0.  , 0.  ],\n",
       "       [0.25, 0.  , 0.69, 0.  , 0.06, 0.  , 0.  , 0.  , 0.  , 0.  ],\n",
       "       [0.23, 0.03, 0.31, 0.42, 0.  , 0.01, 0.  , 0.  , 0.  , 0.  ],\n",
       "       [0.34, 0.  , 0.01, 0.  , 0.65, 0.  , 0.  , 0.  , 0.  , 0.  ],\n",
       "       [0.34, 0.03, 0.  , 0.  , 0.43, 0.19, 0.  , 0.  , 0.  , 0.  ],\n",
       "       [0.68, 0.  , 0.01, 0.  , 0.03, 0.  , 0.28, 0.  , 0.01, 0.  ],\n",
       "       [0.59, 0.08, 0.  , 0.  , 0.  , 0.  , 0.2 , 0.11, 0.  , 0.  ],\n",
       "       [0.43, 0.  , 0.02, 0.  , 0.01, 0.  , 0.  , 0.  , 0.54, 0.  ],\n",
       "       [0.36, 0.03, 0.01, 0.  , 0.  , 0.  , 0.  , 0.  , 0.17, 0.42]])"
      ]
     },
     "execution_count": 114,
     "metadata": {},
     "output_type": "execute_result"
    }
   ],
   "source": [
    "cm_labels = confusion_matrix(DF.true_labels, DF.predicted_labels, labels=DF.true_labels.unique())\n",
    "print('Labels, baseline 1c - confusion matrix')\n",
    "print(DF.true_labels.unique())\n",
    "(cm_labels / cm_labels.sum(-1)).round(2)"
   ]
  },
  {
   "cell_type": "code",
   "execution_count": null,
   "metadata": {},
   "outputs": [],
   "source": []
  },
  {
   "cell_type": "code",
   "execution_count": 95,
   "metadata": {
    "scrolled": false
   },
   "outputs": [
    {
     "name": "stdout",
     "output_type": "stream",
     "text": [
      "Normalized confusion matrix\n"
     ]
    },
    {
     "data": {
      "image/png": "[encoded data removed]",
      "text/plain": [
       "<Figure size 576x576 with 2 Axes>"
      ]
     },
     "metadata": {},
     "output_type": "display_data"
    }
   ],
   "source": [
    "import numpy as np\n",
    "import matplotlib.pyplot as plt\n",
    "\n",
    "from sklearn import svm, datasets\n",
    "from sklearn.model_selection import train_test_split\n",
    "from sklearn.metrics import confusion_matrix\n",
    "from sklearn.utils.multiclass import unique_labels\n",
    "\n",
    "from pylab import rcParams\n",
    "rcParams['figure.figsize'] = 8, 8\n",
    "\n",
    "\n",
    "def plot_confusion_matrix(y_true, y_pred, classes,\n",
    "                          normalize=False,\n",
    "                          title=None,\n",
    "                          cmap=plt.cm.Blues):\n",
    "\n",
    "    if not title:\n",
    "        if normalize:\n",
    "            title = 'Normalized confusion matrix'\n",
    "        else:\n",
    "            title = 'Confusion matrix, without normalization'\n",
    "\n",
    "    # Compute confusion matrix\n",
    "    cm = confusion_matrix(y_true, y_pred)\n",
    "    # Only use the labels that appear in the data\n",
    "    classes = unique_labels(y_true, y_pred) #list(classes) []\n",
    "    if normalize:\n",
    "        cm = cm.astype('float') / cm.sum(axis=1)[:, np.newaxis]\n",
    "        print(\"Normalized confusion matrix\")\n",
    "    else:\n",
    "        print('Confusion matrix, without normalization')\n",
    "\n",
    "    fig, ax = plt.subplots()\n",
    "    im = ax.imshow(cm, interpolation='nearest', cmap=cmap)\n",
    "    ax.figure.colorbar(im, ax=ax)\n",
    "    ax.set(xticks=np.arange(cm.shape[1]),\n",
    "           yticks=np.arange(cm.shape[0]),\n",
    "           xticklabels=classes, yticklabels=classes)\n",
    "\n",
    "    plt.setp(ax.get_xticklabels(), rotation=45, ha=\"right\",\n",
    "             rotation_mode=\"anchor\")\n",
    "    \n",
    "    \n",
    "    ax.set_xticklabels(ax.get_xticklabels(), fontsize='x-large')\n",
    "    ax.set_yticklabels(ax.get_yticklabels(), fontsize='x-large')\n",
    "    ax.set_xlabel(xlabel='Predicted label', fontsize='x-large')\n",
    "    ax.set_ylabel(ylabel='True label', fontsize='x-large')\n",
    "    ax.set_title(title, fontsize='x-large')\n",
    "\n",
    "    fmt = '.2f' if normalize else 'd'\n",
    "    thresh = cm.max() / 2.\n",
    "    for i in range(cm.shape[0]):\n",
    "        for j in range(cm.shape[1]):\n",
    "            ax.text(j, i, format(cm[i, j], fmt),\n",
    "                    ha=\"center\", va=\"center\",\n",
    "                    color=\"white\" if cm[i, j] > thresh else \"black\", size='x-large')\n",
    "    fig.tight_layout()\n",
    "    return ax\n",
    "\n",
    "\n",
    "np.set_printoptions(precision=2)\n",
    "\n",
    "#plot_confusion_matrix(DF.true_labels, DF.predicted_labels, classes=DF.true_labels.unique(), normalize=True,\n",
    "#                      title='Labels')\n",
    "\n",
    "\n",
    "plot_confusion_matrix(DF.true_theme, DF.predicted_theme, classes=DF.true_theme.unique(), normalize=True,\n",
    "                      title='Baseline model - 1 label - Theme')\n",
    "\n",
    "#plot_confusion_matrix(DF.true_perspective, DF.predicted_perspective, classes=DF.true_perspective.unique(), normalize=True,\n",
    "#                      title='Perspective')\n",
    "\n",
    "plt.show()"
   ]
  },
  {
   "cell_type": "code",
   "execution_count": null,
   "metadata": {},
   "outputs": [],
   "source": [
    "print('baseline 1c - global acc score')\n",
    "print('labels', (DF.true_labels == DF.predicted_labels).mean())"
   ]
  },
  {
   "cell_type": "code",
   "execution_count": 137,
   "metadata": {},
   "outputs": [],
   "source": [
    "DF.to_csv('DF_2c_20_detailed.csv', index=False)"
   ]
  },
  {
   "cell_type": "code",
   "execution_count": null,
   "metadata": {},
   "outputs": [],
   "source": []
  }
 ],
 "metadata": {
  "kernelspec": {
   "display_name": "Python 3",
   "language": "python",
   "name": "python3"
  },
  "language_info": {
   "codemirror_mode": {
    "name": "ipython",
    "version": 3
   },
   "file_extension": ".py",
   "mimetype": "text/x-python",
   "name": "python",
   "nbconvert_exporter": "python",
   "pygments_lexer": "ipython3",
   "version": "3.6.5"
  }
 },
 "nbformat": 4,
 "nbformat_minor": 2
}
